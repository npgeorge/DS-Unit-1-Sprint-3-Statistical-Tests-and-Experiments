{
  "nbformat": 4,
  "nbformat_minor": 0,
  "metadata": {
    "kernelspec": {
      "display_name": "Python 3",
      "language": "python",
      "name": "python3"
    },
    "language_info": {
      "codemirror_mode": {
        "name": "ipython",
        "version": 3
      },
      "file_extension": ".py",
      "mimetype": "text/x-python",
      "name": "python",
      "nbconvert_exporter": "python",
      "pygments_lexer": "ipython3",
      "version": "3.7.3"
    },
    "colab": {
      "name": "Nicholas George - LS_DS_131_Statistics_Probability_Assignment.ipynb",
      "provenance": [],
      "collapsed_sections": [],
      "include_colab_link": true
    }
  },
  "cells": [
    {
      "cell_type": "markdown",
      "metadata": {
        "id": "view-in-github",
        "colab_type": "text"
      },
      "source": [
        "<a href=\"https://colab.research.google.com/github/npgeorge/DS-Unit-1-Sprint-3-Statistical-Tests-and-Experiments/blob/master/Nicholas_George_LS_DS_131_Statistics_Probability_Assignment.ipynb\" target=\"_parent\"><img src=\"https://colab.research.google.com/assets/colab-badge.svg\" alt=\"Open In Colab\"/></a>"
      ]
    },
    {
      "cell_type": "markdown",
      "metadata": {
        "id": "BkHr7AQbX7Xe",
        "colab_type": "text"
      },
      "source": [
        "<img align=\"left\" src=\"https://lever-client-logos.s3.amazonaws.com/864372b1-534c-480e-acd5-9711f850815c-1524247202159.png\" width=200>\n",
        "<br></br>\n",
        "<br></br>\n",
        "\n",
        "## *Data Science Unit 1 Sprint 3 Assignment 1*\n",
        "\n",
        "# Apply the t-test to real data\n",
        "\n",
        "Your assignment is to determine which issues have \"statistically significant\" differences between political parties in this [1980s congressional voting data](https://archive.ics.uci.edu/ml/datasets/Congressional+Voting+Records). The data consists of 435 instances (one for each congressperson), a class (democrat or republican), and 16 binary attributes (yes or no for voting for or against certain issues). Be aware - there are missing values!\n",
        "\n",
        "Your goals:\n",
        "\n",
        "1. Load and clean the data (or determine the best method to drop observations when running tests)\n",
        "2. Using hypothesis testing, find an issue that democrats support more than republicans with p < 0.01\n",
        "3. Using hypothesis testing, find an issue that republicans support more than democrats with p < 0.01\n",
        "4. Using hypothesis testing, find an issue where the difference between republicans and democrats has p > 0.1 (i.e. there may not be much of a difference)\n",
        "\n",
        "Note that this data will involve *2 sample* t-tests, because you're comparing averages across two groups (republicans and democrats) rather than a single group against a null hypothesis.\n",
        "\n",
        "Stretch goals:\n",
        "\n",
        "1. Refactor your code into functions so it's easy to rerun with arbitrary variables\n",
        "2. Apply hypothesis testing to your personal project data (for the purposes of this notebook you can type a summary of the hypothesis you formed and tested)"
      ]
    },
    {
      "cell_type": "markdown",
      "metadata": {
        "id": "uu1t6BCjZhM9",
        "colab_type": "text"
      },
      "source": [
        "t statistic signal/noise\n",
        "\n",
        "t = Z / s = (X - u)/(stddev / normdist)\n",
        "\n",
        "The more T value the more you have a difference to reject the null hypothesis\n",
        "\n",
        "T statistics is ratio between signal and noise\n",
        "\n",
        "reject the null hypothesis if it is less than .05\n",
        "\n",
        "First conduct the threshold then conduct the test, which is why null is rejected at .05 or below, not a perfect solution but is a solution\n",
        "\n",
        "T ratio is comparing at least two sample sets of data, if the ratio is close, move forward because they are relatable and the signal is stronger than the noise, if they are not, then the sets of data are too far off to be considered comparable or reliable, and the noise is strong relative to the signal baseline.\n",
        "\n",
        "t test does not assume normal distribution, it has more area under the tails"
      ]
    },
    {
      "cell_type": "code",
      "metadata": {
        "id": "WsC2bkBaX7Xf",
        "colab_type": "code",
        "outputId": "94c18919-5e3c-47da-dbe8-c7978ac76126",
        "colab": {
          "base_uri": "https://localhost:8080/",
          "height": 197
        }
      },
      "source": [
        "### YOUR CODE STARTS HERE\n",
        "import pandas as pd\n",
        "import matplotlib.pyplot as plt\n",
        "import numpy as np\n",
        "import seaborn as sns\n",
        "\n",
        "\n",
        "df = pd.read_csv('https://archive.ics.uci.edu/ml/machine-learning-databases/voting-records/house-votes-84.data', header=None)\n",
        "df.head()"
      ],
      "execution_count": 127,
      "outputs": [
        {
          "output_type": "execute_result",
          "data": {
            "text/html": [
              "<div>\n",
              "<style scoped>\n",
              "    .dataframe tbody tr th:only-of-type {\n",
              "        vertical-align: middle;\n",
              "    }\n",
              "\n",
              "    .dataframe tbody tr th {\n",
              "        vertical-align: top;\n",
              "    }\n",
              "\n",
              "    .dataframe thead th {\n",
              "        text-align: right;\n",
              "    }\n",
              "</style>\n",
              "<table border=\"1\" class=\"dataframe\">\n",
              "  <thead>\n",
              "    <tr style=\"text-align: right;\">\n",
              "      <th></th>\n",
              "      <th>0</th>\n",
              "      <th>1</th>\n",
              "      <th>2</th>\n",
              "      <th>3</th>\n",
              "      <th>4</th>\n",
              "      <th>5</th>\n",
              "      <th>6</th>\n",
              "      <th>7</th>\n",
              "      <th>8</th>\n",
              "      <th>9</th>\n",
              "      <th>10</th>\n",
              "      <th>11</th>\n",
              "      <th>12</th>\n",
              "      <th>13</th>\n",
              "      <th>14</th>\n",
              "      <th>15</th>\n",
              "      <th>16</th>\n",
              "    </tr>\n",
              "  </thead>\n",
              "  <tbody>\n",
              "    <tr>\n",
              "      <th>0</th>\n",
              "      <td>republican</td>\n",
              "      <td>n</td>\n",
              "      <td>y</td>\n",
              "      <td>n</td>\n",
              "      <td>y</td>\n",
              "      <td>y</td>\n",
              "      <td>y</td>\n",
              "      <td>n</td>\n",
              "      <td>n</td>\n",
              "      <td>n</td>\n",
              "      <td>y</td>\n",
              "      <td>?</td>\n",
              "      <td>y</td>\n",
              "      <td>y</td>\n",
              "      <td>y</td>\n",
              "      <td>n</td>\n",
              "      <td>y</td>\n",
              "    </tr>\n",
              "    <tr>\n",
              "      <th>1</th>\n",
              "      <td>republican</td>\n",
              "      <td>n</td>\n",
              "      <td>y</td>\n",
              "      <td>n</td>\n",
              "      <td>y</td>\n",
              "      <td>y</td>\n",
              "      <td>y</td>\n",
              "      <td>n</td>\n",
              "      <td>n</td>\n",
              "      <td>n</td>\n",
              "      <td>n</td>\n",
              "      <td>n</td>\n",
              "      <td>y</td>\n",
              "      <td>y</td>\n",
              "      <td>y</td>\n",
              "      <td>n</td>\n",
              "      <td>?</td>\n",
              "    </tr>\n",
              "    <tr>\n",
              "      <th>2</th>\n",
              "      <td>democrat</td>\n",
              "      <td>?</td>\n",
              "      <td>y</td>\n",
              "      <td>y</td>\n",
              "      <td>?</td>\n",
              "      <td>y</td>\n",
              "      <td>y</td>\n",
              "      <td>n</td>\n",
              "      <td>n</td>\n",
              "      <td>n</td>\n",
              "      <td>n</td>\n",
              "      <td>y</td>\n",
              "      <td>n</td>\n",
              "      <td>y</td>\n",
              "      <td>y</td>\n",
              "      <td>n</td>\n",
              "      <td>n</td>\n",
              "    </tr>\n",
              "    <tr>\n",
              "      <th>3</th>\n",
              "      <td>democrat</td>\n",
              "      <td>n</td>\n",
              "      <td>y</td>\n",
              "      <td>y</td>\n",
              "      <td>n</td>\n",
              "      <td>?</td>\n",
              "      <td>y</td>\n",
              "      <td>n</td>\n",
              "      <td>n</td>\n",
              "      <td>n</td>\n",
              "      <td>n</td>\n",
              "      <td>y</td>\n",
              "      <td>n</td>\n",
              "      <td>y</td>\n",
              "      <td>n</td>\n",
              "      <td>n</td>\n",
              "      <td>y</td>\n",
              "    </tr>\n",
              "    <tr>\n",
              "      <th>4</th>\n",
              "      <td>democrat</td>\n",
              "      <td>y</td>\n",
              "      <td>y</td>\n",
              "      <td>y</td>\n",
              "      <td>n</td>\n",
              "      <td>y</td>\n",
              "      <td>y</td>\n",
              "      <td>n</td>\n",
              "      <td>n</td>\n",
              "      <td>n</td>\n",
              "      <td>n</td>\n",
              "      <td>y</td>\n",
              "      <td>?</td>\n",
              "      <td>y</td>\n",
              "      <td>y</td>\n",
              "      <td>y</td>\n",
              "      <td>y</td>\n",
              "    </tr>\n",
              "  </tbody>\n",
              "</table>\n",
              "</div>"
            ],
            "text/plain": [
              "           0  1  2  3  4  5  6  7  8  9  10 11 12 13 14 15 16\n",
              "0  republican  n  y  n  y  y  y  n  n  n  y  ?  y  y  y  n  y\n",
              "1  republican  n  y  n  y  y  y  n  n  n  n  n  y  y  y  n  ?\n",
              "2    democrat  ?  y  y  ?  y  y  n  n  n  n  y  n  y  y  n  n\n",
              "3    democrat  n  y  y  n  ?  y  n  n  n  n  y  n  y  n  n  y\n",
              "4    democrat  y  y  y  n  y  y  n  n  n  n  y  ?  y  y  y  y"
            ]
          },
          "metadata": {
            "tags": []
          },
          "execution_count": 127
        }
      ]
    },
    {
      "cell_type": "code",
      "metadata": {
        "id": "DB3DghLMgsL1",
        "colab_type": "code",
        "outputId": "3d046a03-cf5b-4dea-ccdc-c19c0317e399",
        "colab": {
          "base_uri": "https://localhost:8080/",
          "height": 267
        }
      },
      "source": [
        "rename_columns = {\n",
        "    0: 'Class Name',\n",
        "    1: 'Handicapped Infants',\n",
        "    2: 'Water Project Cost Sharing',\n",
        "    3: 'Adoption of the Budget Resolution',\n",
        "    4: 'Physician Free Freeze',\n",
        "    5: 'El Salvador Aid',\n",
        "    6: 'Religious Groups in Schools',\n",
        "    7: 'Anti-Satellite Test Ban',\n",
        "    8: 'Aid to Nicaraguan Contras',\n",
        "    9: 'MX Missile',\n",
        "    10: 'Immigration',\n",
        "    11: 'Synfuels Corporation Cutback',\n",
        "    12: 'Education Spending',\n",
        "    13: 'Superfund Right to Sue',\n",
        "    14: 'Crime',\n",
        "    15: 'Duty Free Exports',\n",
        "    16: 'Export Administration Act South Africa',\n",
        "}\n",
        "df = df.rename(columns=rename_columns)\n",
        "\n",
        "df.head()"
      ],
      "execution_count": 128,
      "outputs": [
        {
          "output_type": "execute_result",
          "data": {
            "text/html": [
              "<div>\n",
              "<style scoped>\n",
              "    .dataframe tbody tr th:only-of-type {\n",
              "        vertical-align: middle;\n",
              "    }\n",
              "\n",
              "    .dataframe tbody tr th {\n",
              "        vertical-align: top;\n",
              "    }\n",
              "\n",
              "    .dataframe thead th {\n",
              "        text-align: right;\n",
              "    }\n",
              "</style>\n",
              "<table border=\"1\" class=\"dataframe\">\n",
              "  <thead>\n",
              "    <tr style=\"text-align: right;\">\n",
              "      <th></th>\n",
              "      <th>Class Name</th>\n",
              "      <th>Handicapped Infants</th>\n",
              "      <th>Water Project Cost Sharing</th>\n",
              "      <th>Adoption of the Budget Resolution</th>\n",
              "      <th>Physician Free Freeze</th>\n",
              "      <th>El Salvador Aid</th>\n",
              "      <th>Religious Groups in Schools</th>\n",
              "      <th>Anti-Satellite Test Ban</th>\n",
              "      <th>Aid to Nicaraguan Contras</th>\n",
              "      <th>MX Missile</th>\n",
              "      <th>Immigration</th>\n",
              "      <th>Synfuels Corporation Cutback</th>\n",
              "      <th>Education Spending</th>\n",
              "      <th>Superfund Right to Sue</th>\n",
              "      <th>Crime</th>\n",
              "      <th>Duty Free Exports</th>\n",
              "      <th>Export Administration Act South Africa</th>\n",
              "    </tr>\n",
              "  </thead>\n",
              "  <tbody>\n",
              "    <tr>\n",
              "      <th>0</th>\n",
              "      <td>republican</td>\n",
              "      <td>n</td>\n",
              "      <td>y</td>\n",
              "      <td>n</td>\n",
              "      <td>y</td>\n",
              "      <td>y</td>\n",
              "      <td>y</td>\n",
              "      <td>n</td>\n",
              "      <td>n</td>\n",
              "      <td>n</td>\n",
              "      <td>y</td>\n",
              "      <td>?</td>\n",
              "      <td>y</td>\n",
              "      <td>y</td>\n",
              "      <td>y</td>\n",
              "      <td>n</td>\n",
              "      <td>y</td>\n",
              "    </tr>\n",
              "    <tr>\n",
              "      <th>1</th>\n",
              "      <td>republican</td>\n",
              "      <td>n</td>\n",
              "      <td>y</td>\n",
              "      <td>n</td>\n",
              "      <td>y</td>\n",
              "      <td>y</td>\n",
              "      <td>y</td>\n",
              "      <td>n</td>\n",
              "      <td>n</td>\n",
              "      <td>n</td>\n",
              "      <td>n</td>\n",
              "      <td>n</td>\n",
              "      <td>y</td>\n",
              "      <td>y</td>\n",
              "      <td>y</td>\n",
              "      <td>n</td>\n",
              "      <td>?</td>\n",
              "    </tr>\n",
              "    <tr>\n",
              "      <th>2</th>\n",
              "      <td>democrat</td>\n",
              "      <td>?</td>\n",
              "      <td>y</td>\n",
              "      <td>y</td>\n",
              "      <td>?</td>\n",
              "      <td>y</td>\n",
              "      <td>y</td>\n",
              "      <td>n</td>\n",
              "      <td>n</td>\n",
              "      <td>n</td>\n",
              "      <td>n</td>\n",
              "      <td>y</td>\n",
              "      <td>n</td>\n",
              "      <td>y</td>\n",
              "      <td>y</td>\n",
              "      <td>n</td>\n",
              "      <td>n</td>\n",
              "    </tr>\n",
              "    <tr>\n",
              "      <th>3</th>\n",
              "      <td>democrat</td>\n",
              "      <td>n</td>\n",
              "      <td>y</td>\n",
              "      <td>y</td>\n",
              "      <td>n</td>\n",
              "      <td>?</td>\n",
              "      <td>y</td>\n",
              "      <td>n</td>\n",
              "      <td>n</td>\n",
              "      <td>n</td>\n",
              "      <td>n</td>\n",
              "      <td>y</td>\n",
              "      <td>n</td>\n",
              "      <td>y</td>\n",
              "      <td>n</td>\n",
              "      <td>n</td>\n",
              "      <td>y</td>\n",
              "    </tr>\n",
              "    <tr>\n",
              "      <th>4</th>\n",
              "      <td>democrat</td>\n",
              "      <td>y</td>\n",
              "      <td>y</td>\n",
              "      <td>y</td>\n",
              "      <td>n</td>\n",
              "      <td>y</td>\n",
              "      <td>y</td>\n",
              "      <td>n</td>\n",
              "      <td>n</td>\n",
              "      <td>n</td>\n",
              "      <td>n</td>\n",
              "      <td>y</td>\n",
              "      <td>?</td>\n",
              "      <td>y</td>\n",
              "      <td>y</td>\n",
              "      <td>y</td>\n",
              "      <td>y</td>\n",
              "    </tr>\n",
              "  </tbody>\n",
              "</table>\n",
              "</div>"
            ],
            "text/plain": [
              "   Class Name  ... Export Administration Act South Africa\n",
              "0  republican  ...                                      y\n",
              "1  republican  ...                                      ?\n",
              "2    democrat  ...                                      n\n",
              "3    democrat  ...                                      y\n",
              "4    democrat  ...                                      y\n",
              "\n",
              "[5 rows x 17 columns]"
            ]
          },
          "metadata": {
            "tags": []
          },
          "execution_count": 128
        }
      ]
    },
    {
      "cell_type": "code",
      "metadata": {
        "id": "ISWHIIWHkn9m",
        "colab_type": "code",
        "outputId": "3b3bef24-7928-4baf-f10b-4bc329226ab1",
        "colab": {
          "base_uri": "https://localhost:8080/",
          "height": 267
        }
      },
      "source": [
        "#cleaning up the question marks, y's, and n's, replacing with 0, 1, and -1\n",
        "#in the data set information, also decribed as the \"unknown disposition\"\n",
        "df = df.replace(to_replace =('?','y','n'), value = (0,1,-1))\n",
        "\n",
        "df.head()"
      ],
      "execution_count": 129,
      "outputs": [
        {
          "output_type": "execute_result",
          "data": {
            "text/html": [
              "<div>\n",
              "<style scoped>\n",
              "    .dataframe tbody tr th:only-of-type {\n",
              "        vertical-align: middle;\n",
              "    }\n",
              "\n",
              "    .dataframe tbody tr th {\n",
              "        vertical-align: top;\n",
              "    }\n",
              "\n",
              "    .dataframe thead th {\n",
              "        text-align: right;\n",
              "    }\n",
              "</style>\n",
              "<table border=\"1\" class=\"dataframe\">\n",
              "  <thead>\n",
              "    <tr style=\"text-align: right;\">\n",
              "      <th></th>\n",
              "      <th>Class Name</th>\n",
              "      <th>Handicapped Infants</th>\n",
              "      <th>Water Project Cost Sharing</th>\n",
              "      <th>Adoption of the Budget Resolution</th>\n",
              "      <th>Physician Free Freeze</th>\n",
              "      <th>El Salvador Aid</th>\n",
              "      <th>Religious Groups in Schools</th>\n",
              "      <th>Anti-Satellite Test Ban</th>\n",
              "      <th>Aid to Nicaraguan Contras</th>\n",
              "      <th>MX Missile</th>\n",
              "      <th>Immigration</th>\n",
              "      <th>Synfuels Corporation Cutback</th>\n",
              "      <th>Education Spending</th>\n",
              "      <th>Superfund Right to Sue</th>\n",
              "      <th>Crime</th>\n",
              "      <th>Duty Free Exports</th>\n",
              "      <th>Export Administration Act South Africa</th>\n",
              "    </tr>\n",
              "  </thead>\n",
              "  <tbody>\n",
              "    <tr>\n",
              "      <th>0</th>\n",
              "      <td>republican</td>\n",
              "      <td>-1</td>\n",
              "      <td>1</td>\n",
              "      <td>-1</td>\n",
              "      <td>1</td>\n",
              "      <td>1</td>\n",
              "      <td>1</td>\n",
              "      <td>-1</td>\n",
              "      <td>-1</td>\n",
              "      <td>-1</td>\n",
              "      <td>1</td>\n",
              "      <td>0</td>\n",
              "      <td>1</td>\n",
              "      <td>1</td>\n",
              "      <td>1</td>\n",
              "      <td>-1</td>\n",
              "      <td>1</td>\n",
              "    </tr>\n",
              "    <tr>\n",
              "      <th>1</th>\n",
              "      <td>republican</td>\n",
              "      <td>-1</td>\n",
              "      <td>1</td>\n",
              "      <td>-1</td>\n",
              "      <td>1</td>\n",
              "      <td>1</td>\n",
              "      <td>1</td>\n",
              "      <td>-1</td>\n",
              "      <td>-1</td>\n",
              "      <td>-1</td>\n",
              "      <td>-1</td>\n",
              "      <td>-1</td>\n",
              "      <td>1</td>\n",
              "      <td>1</td>\n",
              "      <td>1</td>\n",
              "      <td>-1</td>\n",
              "      <td>0</td>\n",
              "    </tr>\n",
              "    <tr>\n",
              "      <th>2</th>\n",
              "      <td>democrat</td>\n",
              "      <td>0</td>\n",
              "      <td>1</td>\n",
              "      <td>1</td>\n",
              "      <td>0</td>\n",
              "      <td>1</td>\n",
              "      <td>1</td>\n",
              "      <td>-1</td>\n",
              "      <td>-1</td>\n",
              "      <td>-1</td>\n",
              "      <td>-1</td>\n",
              "      <td>1</td>\n",
              "      <td>-1</td>\n",
              "      <td>1</td>\n",
              "      <td>1</td>\n",
              "      <td>-1</td>\n",
              "      <td>-1</td>\n",
              "    </tr>\n",
              "    <tr>\n",
              "      <th>3</th>\n",
              "      <td>democrat</td>\n",
              "      <td>-1</td>\n",
              "      <td>1</td>\n",
              "      <td>1</td>\n",
              "      <td>-1</td>\n",
              "      <td>0</td>\n",
              "      <td>1</td>\n",
              "      <td>-1</td>\n",
              "      <td>-1</td>\n",
              "      <td>-1</td>\n",
              "      <td>-1</td>\n",
              "      <td>1</td>\n",
              "      <td>-1</td>\n",
              "      <td>1</td>\n",
              "      <td>-1</td>\n",
              "      <td>-1</td>\n",
              "      <td>1</td>\n",
              "    </tr>\n",
              "    <tr>\n",
              "      <th>4</th>\n",
              "      <td>democrat</td>\n",
              "      <td>1</td>\n",
              "      <td>1</td>\n",
              "      <td>1</td>\n",
              "      <td>-1</td>\n",
              "      <td>1</td>\n",
              "      <td>1</td>\n",
              "      <td>-1</td>\n",
              "      <td>-1</td>\n",
              "      <td>-1</td>\n",
              "      <td>-1</td>\n",
              "      <td>1</td>\n",
              "      <td>0</td>\n",
              "      <td>1</td>\n",
              "      <td>1</td>\n",
              "      <td>1</td>\n",
              "      <td>1</td>\n",
              "    </tr>\n",
              "  </tbody>\n",
              "</table>\n",
              "</div>"
            ],
            "text/plain": [
              "   Class Name  ...  Export Administration Act South Africa\n",
              "0  republican  ...                                       1\n",
              "1  republican  ...                                       0\n",
              "2    democrat  ...                                      -1\n",
              "3    democrat  ...                                       1\n",
              "4    democrat  ...                                       1\n",
              "\n",
              "[5 rows x 17 columns]"
            ]
          },
          "metadata": {
            "tags": []
          },
          "execution_count": 129
        }
      ]
    },
    {
      "cell_type": "code",
      "metadata": {
        "id": "XOtWTBg_ozUd",
        "colab_type": "code",
        "colab": {}
      },
      "source": [
        "republicans = df.groupby('Class Name').get_group('republican')\n",
        "democrats = df.groupby('Class Name').get_group('democrat')"
      ],
      "execution_count": 0,
      "outputs": []
    },
    {
      "cell_type": "code",
      "metadata": {
        "id": "qRxXYl5kpwYg",
        "colab_type": "code",
        "outputId": "2e173008-3aea-4505-d195-c43c86dda0e5",
        "colab": {
          "base_uri": "https://localhost:8080/",
          "height": 34
        }
      },
      "source": [
        "republicans.shape"
      ],
      "execution_count": 131,
      "outputs": [
        {
          "output_type": "execute_result",
          "data": {
            "text/plain": [
              "(168, 17)"
            ]
          },
          "metadata": {
            "tags": []
          },
          "execution_count": 131
        }
      ]
    },
    {
      "cell_type": "code",
      "metadata": {
        "id": "cQigwMQDqBXi",
        "colab_type": "code",
        "outputId": "f8309ca1-04b5-4fc5-c60d-9ce1a37f5f66",
        "colab": {
          "base_uri": "https://localhost:8080/",
          "height": 34
        }
      },
      "source": [
        "democrats.shape\n",
        "#looks like democrats outnumber republicans significantly"
      ],
      "execution_count": 132,
      "outputs": [
        {
          "output_type": "execute_result",
          "data": {
            "text/plain": [
              "(267, 17)"
            ]
          },
          "metadata": {
            "tags": []
          },
          "execution_count": 132
        }
      ]
    },
    {
      "cell_type": "code",
      "metadata": {
        "id": "FVTtlmi6rDUi",
        "colab_type": "code",
        "outputId": "1d0bc497-6584-4da7-a577-9eb96bf9c2c2",
        "colab": {
          "base_uri": "https://localhost:8080/",
          "height": 87
        }
      },
      "source": [
        "df['Handicapped Infants'].value_counts()"
      ],
      "execution_count": 133,
      "outputs": [
        {
          "output_type": "execute_result",
          "data": {
            "text/plain": [
              "-1    236\n",
              " 1    187\n",
              " 0     12\n",
              "Name: Handicapped Infants, dtype: int64"
            ]
          },
          "metadata": {
            "tags": []
          },
          "execution_count": 133
        }
      ]
    },
    {
      "cell_type": "code",
      "metadata": {
        "id": "SX8iHwRpvk_D",
        "colab_type": "code",
        "outputId": "c80194d5-1db1-41f9-a630-902c2ec0872a",
        "colab": {
          "base_uri": "https://localhost:8080/",
          "height": 314
        }
      },
      "source": [
        "df = df.set_index('Class Name')\n",
        "df.head()"
      ],
      "execution_count": 134,
      "outputs": [
        {
          "output_type": "execute_result",
          "data": {
            "text/html": [
              "<div>\n",
              "<style scoped>\n",
              "    .dataframe tbody tr th:only-of-type {\n",
              "        vertical-align: middle;\n",
              "    }\n",
              "\n",
              "    .dataframe tbody tr th {\n",
              "        vertical-align: top;\n",
              "    }\n",
              "\n",
              "    .dataframe thead th {\n",
              "        text-align: right;\n",
              "    }\n",
              "</style>\n",
              "<table border=\"1\" class=\"dataframe\">\n",
              "  <thead>\n",
              "    <tr style=\"text-align: right;\">\n",
              "      <th></th>\n",
              "      <th>Handicapped Infants</th>\n",
              "      <th>Water Project Cost Sharing</th>\n",
              "      <th>Adoption of the Budget Resolution</th>\n",
              "      <th>Physician Free Freeze</th>\n",
              "      <th>El Salvador Aid</th>\n",
              "      <th>Religious Groups in Schools</th>\n",
              "      <th>Anti-Satellite Test Ban</th>\n",
              "      <th>Aid to Nicaraguan Contras</th>\n",
              "      <th>MX Missile</th>\n",
              "      <th>Immigration</th>\n",
              "      <th>Synfuels Corporation Cutback</th>\n",
              "      <th>Education Spending</th>\n",
              "      <th>Superfund Right to Sue</th>\n",
              "      <th>Crime</th>\n",
              "      <th>Duty Free Exports</th>\n",
              "      <th>Export Administration Act South Africa</th>\n",
              "    </tr>\n",
              "    <tr>\n",
              "      <th>Class Name</th>\n",
              "      <th></th>\n",
              "      <th></th>\n",
              "      <th></th>\n",
              "      <th></th>\n",
              "      <th></th>\n",
              "      <th></th>\n",
              "      <th></th>\n",
              "      <th></th>\n",
              "      <th></th>\n",
              "      <th></th>\n",
              "      <th></th>\n",
              "      <th></th>\n",
              "      <th></th>\n",
              "      <th></th>\n",
              "      <th></th>\n",
              "      <th></th>\n",
              "    </tr>\n",
              "  </thead>\n",
              "  <tbody>\n",
              "    <tr>\n",
              "      <th>republican</th>\n",
              "      <td>-1</td>\n",
              "      <td>1</td>\n",
              "      <td>-1</td>\n",
              "      <td>1</td>\n",
              "      <td>1</td>\n",
              "      <td>1</td>\n",
              "      <td>-1</td>\n",
              "      <td>-1</td>\n",
              "      <td>-1</td>\n",
              "      <td>1</td>\n",
              "      <td>0</td>\n",
              "      <td>1</td>\n",
              "      <td>1</td>\n",
              "      <td>1</td>\n",
              "      <td>-1</td>\n",
              "      <td>1</td>\n",
              "    </tr>\n",
              "    <tr>\n",
              "      <th>republican</th>\n",
              "      <td>-1</td>\n",
              "      <td>1</td>\n",
              "      <td>-1</td>\n",
              "      <td>1</td>\n",
              "      <td>1</td>\n",
              "      <td>1</td>\n",
              "      <td>-1</td>\n",
              "      <td>-1</td>\n",
              "      <td>-1</td>\n",
              "      <td>-1</td>\n",
              "      <td>-1</td>\n",
              "      <td>1</td>\n",
              "      <td>1</td>\n",
              "      <td>1</td>\n",
              "      <td>-1</td>\n",
              "      <td>0</td>\n",
              "    </tr>\n",
              "    <tr>\n",
              "      <th>democrat</th>\n",
              "      <td>0</td>\n",
              "      <td>1</td>\n",
              "      <td>1</td>\n",
              "      <td>0</td>\n",
              "      <td>1</td>\n",
              "      <td>1</td>\n",
              "      <td>-1</td>\n",
              "      <td>-1</td>\n",
              "      <td>-1</td>\n",
              "      <td>-1</td>\n",
              "      <td>1</td>\n",
              "      <td>-1</td>\n",
              "      <td>1</td>\n",
              "      <td>1</td>\n",
              "      <td>-1</td>\n",
              "      <td>-1</td>\n",
              "    </tr>\n",
              "    <tr>\n",
              "      <th>democrat</th>\n",
              "      <td>-1</td>\n",
              "      <td>1</td>\n",
              "      <td>1</td>\n",
              "      <td>-1</td>\n",
              "      <td>0</td>\n",
              "      <td>1</td>\n",
              "      <td>-1</td>\n",
              "      <td>-1</td>\n",
              "      <td>-1</td>\n",
              "      <td>-1</td>\n",
              "      <td>1</td>\n",
              "      <td>-1</td>\n",
              "      <td>1</td>\n",
              "      <td>-1</td>\n",
              "      <td>-1</td>\n",
              "      <td>1</td>\n",
              "    </tr>\n",
              "    <tr>\n",
              "      <th>democrat</th>\n",
              "      <td>1</td>\n",
              "      <td>1</td>\n",
              "      <td>1</td>\n",
              "      <td>-1</td>\n",
              "      <td>1</td>\n",
              "      <td>1</td>\n",
              "      <td>-1</td>\n",
              "      <td>-1</td>\n",
              "      <td>-1</td>\n",
              "      <td>-1</td>\n",
              "      <td>1</td>\n",
              "      <td>0</td>\n",
              "      <td>1</td>\n",
              "      <td>1</td>\n",
              "      <td>1</td>\n",
              "      <td>1</td>\n",
              "    </tr>\n",
              "  </tbody>\n",
              "</table>\n",
              "</div>"
            ],
            "text/plain": [
              "            Handicapped Infants  ...  Export Administration Act South Africa\n",
              "Class Name                       ...                                        \n",
              "republican                   -1  ...                                       1\n",
              "republican                   -1  ...                                       0\n",
              "democrat                      0  ...                                      -1\n",
              "democrat                     -1  ...                                       1\n",
              "democrat                      1  ...                                       1\n",
              "\n",
              "[5 rows x 16 columns]"
            ]
          },
          "metadata": {
            "tags": []
          },
          "execution_count": 134
        }
      ]
    },
    {
      "cell_type": "code",
      "metadata": {
        "id": "sX9QllwrCn0s",
        "colab_type": "code",
        "colab": {
          "base_uri": "https://localhost:8080/",
          "height": 281
        },
        "outputId": "91e7a8f1-b872-4794-ffe8-9d3abaeabcde"
      },
      "source": [
        "df.hist();"
      ],
      "execution_count": 135,
      "outputs": [
        {
          "output_type": "display_data",
          "data": {
            "image/png": "[encoded data removed]",
            "text/plain": [
              "<Figure size 432x288 with 16 Axes>"
            ]
          },
          "metadata": {
            "tags": []
          }
        }
      ]
    },
    {
      "cell_type": "code",
      "metadata": {
        "id": "-vAlWYTIGNTp",
        "colab_type": "code",
        "colab": {
          "base_uri": "https://localhost:8080/",
          "height": 268
        },
        "outputId": "01500e0c-8d66-4959-b491-79c4ea326004"
      },
      "source": [
        "reps_rga = republicans['Religious Groups in Schools']\n",
        "dems_rga =  democrats['Religious Groups in Schools']\n",
        "reps_rga.hist(color='r');"
      ],
      "execution_count": 136,
      "outputs": [
        {
          "output_type": "display_data",
          "data": {
            "image/png": "[encoded data removed]",
            "text/plain": [
              "<Figure size 432x288 with 1 Axes>"
            ]
          },
          "metadata": {
            "tags": []
          }
        }
      ]
    },
    {
      "cell_type": "code",
      "metadata": {
        "id": "nh0h_EYYJcX9",
        "colab_type": "code",
        "colab": {
          "base_uri": "https://localhost:8080/",
          "height": 268
        },
        "outputId": "77604501-405e-4237-e8d2-b9713bc15906"
      },
      "source": [
        "dems_rga.hist();"
      ],
      "execution_count": 137,
      "outputs": [
        {
          "output_type": "display_data",
          "data": {
            "image/png": "[encoded data removed]",
            "text/plain": [
              "<Figure size 432x288 with 1 Axes>"
            ]
          },
          "metadata": {
            "tags": []
          }
        }
      ]
    },
    {
      "cell_type": "code",
      "metadata": {
        "id": "FgkPP8u3JvWe",
        "colab_type": "code",
        "colab": {
          "base_uri": "https://localhost:8080/",
          "height": 34
        },
        "outputId": "52bce998-4332-49bd-c137-791984269497"
      },
      "source": [
        "#p value repubs support more\n",
        "from scipy.stats import ttest_ind, ttest_ind_from_stats, ttest_rel\n",
        "print(ttest_ind(reps_rga, dems_rga))"
      ],
      "execution_count": 169,
      "outputs": [
        {
          "output_type": "stream",
          "text": [
            "Ttest_indResult(statistic=9.815876256106359, pvalue=1.1429994055042643e-20)\n"
          ],
          "name": "stdout"
        }
      ]
    },
    {
      "cell_type": "code",
      "metadata": {
        "id": "PPX-E4155My6",
        "colab_type": "code",
        "outputId": "485ef2b7-6135-44a8-f04e-9ecd62bf0b32",
        "colab": {
          "base_uri": "https://localhost:8080/",
          "height": 268
        }
      },
      "source": [
        "#1st column\n",
        "reps_hand_inf = republicans['Handicapped Infants']\n",
        "reps_hand_inf.hist(color='r');"
      ],
      "execution_count": 139,
      "outputs": [
        {
          "output_type": "display_data",
          "data": {
            "image/png": "[encoded data removed]",
            "text/plain": [
              "<Figure size 432x288 with 1 Axes>"
            ]
          },
          "metadata": {
            "tags": []
          }
        }
      ]
    },
    {
      "cell_type": "code",
      "metadata": {
        "id": "VZE_a6YaK_q6",
        "colab_type": "code",
        "colab": {
          "base_uri": "https://localhost:8080/",
          "height": 268
        },
        "outputId": "8b862efc-4238-4a35-c59a-99370fc7d565"
      },
      "source": [
        "dems_hand_inf = democrats['Handicapped Infants']\n",
        "dems_hand_inf.hist();"
      ],
      "execution_count": 140,
      "outputs": [
        {
          "output_type": "display_data",
          "data": {
            "image/png": "[encoded data removed]",
            "text/plain": [
              "<Figure size 432x288 with 1 Axes>"
            ]
          },
          "metadata": {
            "tags": []
          }
        }
      ]
    },
    {
      "cell_type": "code",
      "metadata": {
        "id": "7O0_1MCTLN9P",
        "colab_type": "code",
        "colab": {
          "base_uri": "https://localhost:8080/",
          "height": 34
        },
        "outputId": "59b0c428-1023-4c8c-d279-febfb744af6c"
      },
      "source": [
        "#p value dems support\n",
        "print(ttest_ind(reps_hand_inf, dems_hand_inf))"
      ],
      "execution_count": 141,
      "outputs": [
        {
          "output_type": "stream",
          "text": [
            "Ttest_indResult(statistic=-9.22317772154614, pvalue=1.2761169357253626e-18)\n"
          ],
          "name": "stdout"
        }
      ]
    },
    {
      "cell_type": "code",
      "metadata": {
        "id": "HhIT1nWkNHuQ",
        "colab_type": "code",
        "outputId": "a1e4ea59-307d-4a7c-dd6c-16317db96cb6",
        "colab": {
          "base_uri": "https://localhost:8080/",
          "height": 158
        }
      },
      "source": [
        "#2nd column\n",
        "reps_wpcs = republicans['Water Project Cost Sharing']\n",
        "print(reps_wpcs.value_counts());\n",
        "\n",
        "dems_wpcs = democrats['Water Project Cost Sharing']\n",
        "print(dems_wpcs.value_counts());"
      ],
      "execution_count": 142,
      "outputs": [
        {
          "output_type": "stream",
          "text": [
            " 1    75\n",
            "-1    73\n",
            " 0    20\n",
            "Name: Water Project Cost Sharing, dtype: int64\n",
            " 1    120\n",
            "-1    119\n",
            " 0     28\n",
            "Name: Water Project Cost Sharing, dtype: int64\n"
          ],
          "name": "stdout"
        }
      ]
    },
    {
      "cell_type": "code",
      "metadata": {
        "id": "UqPxTeQOQYTp",
        "colab_type": "code",
        "colab": {
          "base_uri": "https://localhost:8080/",
          "height": 268
        },
        "outputId": "df71f38d-86dd-45c1-e5e2-f6c87cc78ad9"
      },
      "source": [
        "reps_wpcs.hist(color='r');"
      ],
      "execution_count": 163,
      "outputs": [
        {
          "output_type": "display_data",
          "data": {
            "image/png": "[encoded data removed]",
            "text/plain": [
              "<Figure size 432x288 with 1 Axes>"
            ]
          },
          "metadata": {
            "tags": []
          }
        }
      ]
    },
    {
      "cell_type": "code",
      "metadata": {
        "id": "VfTu6Hg6QiI2",
        "colab_type": "code",
        "colab": {
          "base_uri": "https://localhost:8080/",
          "height": 268
        },
        "outputId": "adc36063-b4bd-4712-983c-5b51291782de"
      },
      "source": [
        "dems_wpcs.hist();"
      ],
      "execution_count": 166,
      "outputs": [
        {
          "output_type": "display_data",
          "data": {
            "image/png": "[encoded data removed]",
            "text/plain": [
              "<Figure size 432x288 with 1 Axes>"
            ]
          },
          "metadata": {
            "tags": []
          }
        }
      ]
    },
    {
      "cell_type": "code",
      "metadata": {
        "id": "gXFMgVCVQnY4",
        "colab_type": "code",
        "colab": {
          "base_uri": "https://localhost:8080/",
          "height": 268
        },
        "outputId": "22e21c66-067d-4df9-8054-847ba5491f3a"
      },
      "source": [
        "reps_wpcs.hist(color='r');\n",
        "dems_wpcs.hist();"
      ],
      "execution_count": 165,
      "outputs": [
        {
          "output_type": "display_data",
          "data": {
            "image/png": "[encoded data removed]",
            "text/plain": [
              "<Figure size 432x288 with 1 Axes>"
            ]
          },
          "metadata": {
            "tags": []
          }
        }
      ]
    },
    {
      "cell_type": "code",
      "metadata": {
        "id": "zirb0ksPQtr1",
        "colab_type": "code",
        "colab": {
          "base_uri": "https://localhost:8080/",
          "height": 34
        },
        "outputId": "517c2a97-d79d-4ab1-f0a7-992232dcdfb6"
      },
      "source": [
        "print(ttest_ind(reps_wpcs, dems_wpcs))"
      ],
      "execution_count": 167,
      "outputs": [
        {
          "output_type": "stream",
          "text": [
            "Ttest_indResult(statistic=0.08764559884421932, pvalue=0.9301988772663677)\n"
          ],
          "name": "stdout"
        }
      ]
    },
    {
      "cell_type": "code",
      "metadata": {
        "id": "_S1QUVegQ3Nw",
        "colab_type": "code",
        "colab": {}
      },
      "source": [
        "#above 0.1!"
      ],
      "execution_count": 0,
      "outputs": []
    },
    {
      "cell_type": "code",
      "metadata": {
        "id": "P7VyBfasNiPY",
        "colab_type": "code",
        "outputId": "b70446dd-7f1e-41cc-94d8-3bd376107be3",
        "colab": {
          "base_uri": "https://localhost:8080/",
          "height": 158
        }
      },
      "source": [
        "#3rd column\n",
        "reps_abr = republicans['Adoption of the Budget Resolution']\n",
        "print(reps_abr.value_counts())\n",
        "\n",
        "dems_abr = democrats['Adoption of the Budget Resolution']\n",
        "print(dems_abr.value_counts())"
      ],
      "execution_count": 143,
      "outputs": [
        {
          "output_type": "stream",
          "text": [
            "-1    142\n",
            " 1     22\n",
            " 0      4\n",
            "Name: Adoption of the Budget Resolution, dtype: int64\n",
            " 1    231\n",
            "-1     29\n",
            " 0      7\n",
            "Name: Adoption of the Budget Resolution, dtype: int64\n"
          ],
          "name": "stdout"
        }
      ]
    },
    {
      "cell_type": "code",
      "metadata": {
        "id": "98iWQAnHMHpe",
        "colab_type": "code",
        "colab": {
          "base_uri": "https://localhost:8080/",
          "height": 268
        },
        "outputId": "839e9010-99ab-4098-97fa-56fb9f7c41bb"
      },
      "source": [
        "reps_abr.hist(color='r');"
      ],
      "execution_count": 144,
      "outputs": [
        {
          "output_type": "display_data",
          "data": {
            "image/png": "[encoded data removed]",
            "text/plain": [
              "<Figure size 432x288 with 1 Axes>"
            ]
          },
          "metadata": {
            "tags": []
          }
        }
      ]
    },
    {
      "cell_type": "code",
      "metadata": {
        "id": "R4JJtLQ8MdlG",
        "colab_type": "code",
        "colab": {
          "base_uri": "https://localhost:8080/",
          "height": 268
        },
        "outputId": "2b8335d3-6e4d-484c-c20f-03cd6d4d6dee"
      },
      "source": [
        "dems_abr.hist();"
      ],
      "execution_count": 145,
      "outputs": [
        {
          "output_type": "display_data",
          "data": {
            "image/png": "[encoded data removed]",
            "text/plain": [
              "<Figure size 432x288 with 1 Axes>"
            ]
          },
          "metadata": {
            "tags": []
          }
        }
      ]
    },
    {
      "cell_type": "code",
      "metadata": {
        "id": "5gFaARUEOA7g",
        "colab_type": "code",
        "outputId": "f4a76b6a-90e0-401d-d797-d0f4238aa5ff",
        "colab": {
          "base_uri": "https://localhost:8080/",
          "height": 158
        }
      },
      "source": [
        "#4th column\n",
        "reps_pff = republicans['Physician Free Freeze']\n",
        "print(reps_pff.value_counts())\n",
        "\n",
        "dems_pff = democrats['Physician Free Freeze']\n",
        "print(dems_pff.value_counts())"
      ],
      "execution_count": 146,
      "outputs": [
        {
          "output_type": "stream",
          "text": [
            " 1    163\n",
            " 0      3\n",
            "-1      2\n",
            "Name: Physician Free Freeze, dtype: int64\n",
            "-1    245\n",
            " 1     14\n",
            " 0      8\n",
            "Name: Physician Free Freeze, dtype: int64\n"
          ],
          "name": "stdout"
        }
      ]
    },
    {
      "cell_type": "code",
      "metadata": {
        "id": "A0jntKKRTjeB",
        "colab_type": "code",
        "outputId": "d774a66f-9423-4569-f19c-8b28ce0363e3",
        "colab": {
          "base_uri": "https://localhost:8080/",
          "height": 158
        }
      },
      "source": [
        "#5th column\n",
        "reps_ela = republicans['El Salvador Aid']\n",
        "print(reps_ela.value_counts())\n",
        "\n",
        "dems_ela = democrats['El Salvador Aid']\n",
        "print(dems_ela.value_counts())"
      ],
      "execution_count": 147,
      "outputs": [
        {
          "output_type": "stream",
          "text": [
            " 1    157\n",
            "-1      8\n",
            " 0      3\n",
            "Name: El Salvador Aid, dtype: int64\n",
            "-1    200\n",
            " 1     55\n",
            " 0     12\n",
            "Name: El Salvador Aid, dtype: int64\n"
          ],
          "name": "stdout"
        }
      ]
    },
    {
      "cell_type": "code",
      "metadata": {
        "id": "9N_1Ohi_l_is",
        "colab_type": "code",
        "outputId": "6c11137b-45e1-4693-8157-0270304c301a",
        "colab": {
          "base_uri": "https://localhost:8080/",
          "height": 158
        }
      },
      "source": [
        "#7th column\n",
        "reps_astb = republicans['Anti-Satellite Test Ban']\n",
        "print(reps_astb.value_counts())\n",
        "\n",
        "dems_astb = democrats['Anti-Satellite Test Ban']\n",
        "print(dems_astb.value_counts())"
      ],
      "execution_count": 148,
      "outputs": [
        {
          "output_type": "stream",
          "text": [
            "-1    123\n",
            " 1     39\n",
            " 0      6\n",
            "Name: Anti-Satellite Test Ban, dtype: int64\n",
            " 1    200\n",
            "-1     59\n",
            " 0      8\n",
            "Name: Anti-Satellite Test Ban, dtype: int64\n"
          ],
          "name": "stdout"
        }
      ]
    },
    {
      "cell_type": "code",
      "metadata": {
        "id": "UYkYW7rPmAoc",
        "colab_type": "code",
        "outputId": "6ce33101-e4d3-41b8-ef92-485dd0a332cc",
        "colab": {
          "base_uri": "https://localhost:8080/",
          "height": 158
        }
      },
      "source": [
        "#8th column\n",
        "reps_anc = republicans['Aid to Nicaraguan Contras']\n",
        "print(reps_anc.value_counts())\n",
        "\n",
        "dems_anc = democrats['Aid to Nicaraguan Contras']\n",
        "print(dems_anc.value_counts())"
      ],
      "execution_count": 149,
      "outputs": [
        {
          "output_type": "stream",
          "text": [
            "-1    133\n",
            " 1     24\n",
            " 0     11\n",
            "Name: Aid to Nicaraguan Contras, dtype: int64\n",
            " 1    218\n",
            "-1     45\n",
            " 0      4\n",
            "Name: Aid to Nicaraguan Contras, dtype: int64\n"
          ],
          "name": "stdout"
        }
      ]
    },
    {
      "cell_type": "code",
      "metadata": {
        "id": "ShNKXcVQmAho",
        "colab_type": "code",
        "outputId": "1a42cf07-695c-4b5e-e4e0-2a26ab3a7196",
        "colab": {
          "base_uri": "https://localhost:8080/",
          "height": 158
        }
      },
      "source": [
        "#9th column\n",
        "reps_mx = republicans['MX Missile']\n",
        "print(reps_mx.value_counts())\n",
        "\n",
        "dems_mx = democrats['MX Missile']\n",
        "print(dems_mx.value_counts())"
      ],
      "execution_count": 150,
      "outputs": [
        {
          "output_type": "stream",
          "text": [
            "-1    146\n",
            " 1     19\n",
            " 0      3\n",
            "Name: MX Missile, dtype: int64\n",
            " 1    188\n",
            "-1     60\n",
            " 0     19\n",
            "Name: MX Missile, dtype: int64\n"
          ],
          "name": "stdout"
        }
      ]
    },
    {
      "cell_type": "code",
      "metadata": {
        "id": "XHqlcfGxmAe7",
        "colab_type": "code",
        "outputId": "85edbe42-b9ea-49ab-f72f-973edf7cc68f",
        "colab": {
          "base_uri": "https://localhost:8080/",
          "height": 428
        }
      },
      "source": [
        "#10th column\n",
        "reps_imm = republicans['Immigration']\n",
        "print(reps_imm.value_counts());\n",
        "\n",
        "dems_imm = democrats['Immigration']\n",
        "print(dems_imm.value_counts());\n",
        "\n",
        "print(dems_imm.hist(), reps_imm.hist(color='r'));"
      ],
      "execution_count": 151,
      "outputs": [
        {
          "output_type": "stream",
          "text": [
            " 1    92\n",
            "-1    73\n",
            " 0     3\n",
            "Name: Immigration, dtype: int64\n",
            "-1    139\n",
            " 1    124\n",
            " 0      4\n",
            "Name: Immigration, dtype: int64\n",
            "AxesSubplot(0.125,0.125;0.775x0.755) AxesSubplot(0.125,0.125;0.775x0.755)\n"
          ],
          "name": "stdout"
        },
        {
          "output_type": "display_data",
          "data": {
            "image/png": "[encoded data removed]",
            "text/plain": [
              "<Figure size 432x288 with 1 Axes>"
            ]
          },
          "metadata": {
            "tags": []
          }
        }
      ]
    },
    {
      "cell_type": "code",
      "metadata": {
        "id": "m2GicC6iNb5f",
        "colab_type": "code",
        "colab": {
          "base_uri": "https://localhost:8080/",
          "height": 34
        },
        "outputId": "bda12740-2a33-4c44-e430-dc77a0dd33ee"
      },
      "source": [
        "#so close to answering number 3!\n",
        "print(ttest_ind(reps_imm, dems_imm))"
      ],
      "execution_count": 152,
      "outputs": [
        {
          "output_type": "stream",
          "text": [
            "Ttest_indResult(statistic=1.735016635686661, pvalue=0.08344939720307322)\n"
          ],
          "name": "stdout"
        }
      ]
    },
    {
      "cell_type": "code",
      "metadata": {
        "id": "EJFKENnHmAa8",
        "colab_type": "code",
        "outputId": "73196b53-3d22-4a56-85bc-d840d014cf01",
        "colab": {
          "base_uri": "https://localhost:8080/",
          "height": 158
        }
      },
      "source": [
        "#11th column\n",
        "reps_scc = republicans['Synfuels Corporation Cutback']\n",
        "print(reps_scc.value_counts())\n",
        "\n",
        "dems_scc = democrats['Synfuels Corporation Cutback']\n",
        "print(dems_scc.value_counts())"
      ],
      "execution_count": 153,
      "outputs": [
        {
          "output_type": "stream",
          "text": [
            "-1    138\n",
            " 1     21\n",
            " 0      9\n",
            "Name: Synfuels Corporation Cutback, dtype: int64\n",
            " 1    129\n",
            "-1    126\n",
            " 0     12\n",
            "Name: Synfuels Corporation Cutback, dtype: int64\n"
          ],
          "name": "stdout"
        }
      ]
    },
    {
      "cell_type": "code",
      "metadata": {
        "id": "x3jpVRBImK_V",
        "colab_type": "code",
        "outputId": "d7148e02-aa8d-465d-f472-39c531b9f9ce",
        "colab": {
          "base_uri": "https://localhost:8080/",
          "height": 158
        }
      },
      "source": [
        "#12th column\n",
        "reps_es = republicans['Education Spending']\n",
        "print(reps_es.value_counts())\n",
        "\n",
        "dems_es = democrats['Education Spending']\n",
        "print(dems_es.value_counts())"
      ],
      "execution_count": 154,
      "outputs": [
        {
          "output_type": "stream",
          "text": [
            " 1    135\n",
            "-1     20\n",
            " 0     13\n",
            "Name: Education Spending, dtype: int64\n",
            "-1    213\n",
            " 1     36\n",
            " 0     18\n",
            "Name: Education Spending, dtype: int64\n"
          ],
          "name": "stdout"
        }
      ]
    },
    {
      "cell_type": "code",
      "metadata": {
        "id": "8DTHnCaAmSA_",
        "colab_type": "code",
        "outputId": "80a0005d-51f9-4865-8ef5-c0adfc7ed619",
        "colab": {
          "base_uri": "https://localhost:8080/",
          "height": 428
        }
      },
      "source": [
        "#13th column\n",
        "reps_srs = republicans['Superfund Right to Sue']\n",
        "print(reps_srs.value_counts())\n",
        "\n",
        "dems_srs = democrats['Superfund Right to Sue']\n",
        "print(dems_srs.value_counts())\n",
        "\n",
        "print(dems_srs.hist(), reps_srs.hist(color='r'));"
      ],
      "execution_count": 155,
      "outputs": [
        {
          "output_type": "stream",
          "text": [
            " 1    136\n",
            "-1     22\n",
            " 0     10\n",
            "Name: Superfund Right to Sue, dtype: int64\n",
            "-1    179\n",
            " 1     73\n",
            " 0     15\n",
            "Name: Superfund Right to Sue, dtype: int64\n",
            "AxesSubplot(0.125,0.125;0.775x0.755) AxesSubplot(0.125,0.125;0.775x0.755)\n"
          ],
          "name": "stdout"
        },
        {
          "output_type": "display_data",
          "data": {
            "image/png": "[encoded data removed]",
            "text/plain": [
              "<Figure size 432x288 with 1 Axes>"
            ]
          },
          "metadata": {
            "tags": []
          }
        }
      ]
    },
    {
      "cell_type": "code",
      "metadata": {
        "id": "CNgKp99JmTQ9",
        "colab_type": "code",
        "outputId": "bf10310d-453a-49ed-aa5e-cfad83dbc50b",
        "colab": {
          "base_uri": "https://localhost:8080/",
          "height": 158
        }
      },
      "source": [
        "#14th column\n",
        "reps_crime = republicans['Crime']\n",
        "print(reps_crime.value_counts())\n",
        "\n",
        "dems_crime = democrats['Crime']\n",
        "print(dems_crime.value_counts())"
      ],
      "execution_count": 156,
      "outputs": [
        {
          "output_type": "stream",
          "text": [
            " 1    158\n",
            " 0      7\n",
            "-1      3\n",
            "Name: Crime, dtype: int64\n",
            "-1    167\n",
            " 1     90\n",
            " 0     10\n",
            "Name: Crime, dtype: int64\n"
          ],
          "name": "stdout"
        }
      ]
    },
    {
      "cell_type": "code",
      "metadata": {
        "id": "WnU2zB35mUVF",
        "colab_type": "code",
        "outputId": "d45d759a-49d3-47ce-e6df-d60fa93b68d7",
        "colab": {
          "base_uri": "https://localhost:8080/",
          "height": 158
        }
      },
      "source": [
        "#15th column\n",
        "reps_dfe = republicans['Duty Free Exports']\n",
        "print(reps_dfe.value_counts())\n",
        "\n",
        "dems_dfe = democrats['Duty Free Exports']\n",
        "print(dems_dfe.value_counts())"
      ],
      "execution_count": 157,
      "outputs": [
        {
          "output_type": "stream",
          "text": [
            "-1    142\n",
            " 1     14\n",
            " 0     12\n",
            "Name: Duty Free Exports, dtype: int64\n",
            " 1    160\n",
            "-1     91\n",
            " 0     16\n",
            "Name: Duty Free Exports, dtype: int64\n"
          ],
          "name": "stdout"
        }
      ]
    },
    {
      "cell_type": "code",
      "metadata": {
        "id": "xAKwkJPkmhAg",
        "colab_type": "code",
        "outputId": "c175dc0a-a917-4118-bc81-a9de1f9608d5",
        "colab": {
          "base_uri": "https://localhost:8080/",
          "height": 158
        }
      },
      "source": [
        "#16th column\n",
        "reps_eaasa = republicans['Export Administration Act South Africa']\n",
        "print(reps_eaasa.value_counts())\n",
        "\n",
        "dems_eaasa = democrats['Export Administration Act South Africa']\n",
        "print(dems_eaasa.value_counts())"
      ],
      "execution_count": 158,
      "outputs": [
        {
          "output_type": "stream",
          "text": [
            " 1    96\n",
            "-1    50\n",
            " 0    22\n",
            "Name: Export Administration Act South Africa, dtype: int64\n",
            " 1    173\n",
            " 0     82\n",
            "-1     12\n",
            "Name: Export Administration Act South Africa, dtype: int64\n"
          ],
          "name": "stdout"
        }
      ]
    },
    {
      "cell_type": "code",
      "metadata": {
        "id": "PuyOjWw29phw",
        "colab_type": "code",
        "outputId": "2697490d-e68e-49ef-f321-cefd5a621a3d",
        "colab": {
          "base_uri": "https://localhost:8080/",
          "height": 301
        }
      },
      "source": [
        "#all the t-tests\n",
        "from scipy.stats import ttest_ind, ttest_ind_from_stats, ttest_rel\n",
        "#1: 'Handicapped Infants'\n",
        "print('Handicapped Infants - ',ttest_ind(reps_hand_inf, dems_hand_inf))\n",
        "#2: 'Water Project Cost Sharing'\n",
        "print('Water Project Cost Sharing - ',ttest_ind(reps_wpcs, dems_wpcs))\n",
        "#3: 'Adoption of the Budget Resolution'\n",
        "print('Adoption of the Budget Resolution - ',ttest_ind(reps_abr, dems_abr))\n",
        "#4: 'Physician Free Freeze'\n",
        "print('Physician Free Freeze - ',ttest_ind(reps_pff, dems_pff))\n",
        "#5: 'El Salvador Aid'\n",
        "print('El Salvador Aid - ',ttest_ind(reps_ela, dems_ela))\n",
        "#6: 'Religious Groups in Schools'\n",
        "print('Religious Groups in Schools - ',ttest_ind(reps_rga, dems_rga))\n",
        "#7: 'Anti-Satellite Test Ban'\n",
        "print('Anti-Satellite Test Ban - ',ttest_ind(reps_astb, dems_astb))\n",
        "#8: 'Aid to Nicaraguan Contras'\n",
        "print('Aid to Nicaraguan Contras - ',ttest_ind(reps_anc, dems_anc))\n",
        "#9: 'MX Missile'\n",
        "print('MX Missile - ',ttest_ind(reps_mx, dems_mx))\n",
        "#10: 'Immigration'\n",
        "print('Immigration - ',ttest_ind(reps_imm, dems_imm))\n",
        "#11: 'Synfuels Corporation Cutback'\n",
        "print('Synfuels Corporation Cutback - ',ttest_ind(reps_scc, dems_scc))\n",
        "#12: 'Education Spending'\n",
        "print('Education Spending - ',ttest_ind(reps_es, dems_es))\n",
        "#13: 'Superfund Right to Sue'\n",
        "print('Superfund Right to Sue - ',ttest_ind(reps_srs, dems_srs))\n",
        "#14: 'Crime'\n",
        "print('Crime - ',ttest_ind(reps_crime, dems_crime))\n",
        "#15: 'Duty Free Exports'\n",
        "print('Duty Free Exports - ',ttest_ind(reps_dfe, dems_dfe))\n",
        "#16: 'Export Administration Act South Africa'\n",
        "print('Export Administration Act South Africa - ',ttest_ind(reps_eaasa, dems_eaasa))\n"
      ],
      "execution_count": 161,
      "outputs": [
        {
          "output_type": "stream",
          "text": [
            "Handicapped Infants -  Ttest_indResult(statistic=-9.22317772154614, pvalue=1.2761169357253626e-18)\n",
            "Water Project Cost Sharing -  Ttest_indResult(statistic=0.08764559884421932, pvalue=0.9301988772663677)\n",
            "Adoption of the Budget Resolution -  Ttest_indResult(statistic=-22.8216930438848, pvalue=2.8721153143958906e-76)\n",
            "Physician Free Freeze -  Ttest_indResult(statistic=46.10191006844655, pvalue=3.967141133302638e-169)\n",
            "El Salvador Aid -  Ttest_indResult(statistic=20.895617123040896, pvalue=1.4659659186479053e-67)\n",
            "Religious Groups in Schools -  Ttest_indResult(statistic=9.815876256106359, pvalue=1.1429994055042643e-20)\n",
            "Anti-Satellite Test Ban -  Ttest_indResult(statistic=-12.448556296273836, pvalue=1.2736295885307941e-30)\n",
            "Aid to Nicaraguan Contras -  Ttest_indResult(statistic=-17.791848422270405, pvalue=1.4948014750035628e-53)\n",
            "MX Missile -  Ttest_indResult(statistic=-16.326540222505365, pvalue=4.863267267891218e-47)\n",
            "Immigration -  Ttest_indResult(statistic=1.735016635686661, pvalue=0.08344939720307322)\n",
            "Synfuels Corporation Cutback -  Ttest_indResult(statistic=-8.20071170109401, pvalue=2.7434037173701792e-15)\n",
            "Education Spending -  Ttest_indResult(statistic=19.744623983325525, pvalue=2.383628490538625e-62)\n",
            "Superfund Right to Sue -  Ttest_indResult(statistic=13.333129686427396, pvalue=3.2048001788796383e-34)\n",
            "Crime -  Ttest_indResult(statistic=16.09453857734642, pvalue=5.09559045451787e-46)\n",
            "Duty Free Exports -  Ttest_indResult(statistic=-12.624782838804377, pvalue=2.492767114523553e-31)\n",
            "Export Administration Act South Africa -  Ttest_indResult(statistic=-4.675620576040701, pvalue=3.921292603942199e-06)\n"
          ],
          "name": "stdout"
        }
      ]
    }
  ]
}