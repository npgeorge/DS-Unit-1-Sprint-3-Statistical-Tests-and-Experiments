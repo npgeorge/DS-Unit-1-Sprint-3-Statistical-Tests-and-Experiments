{
  "nbformat": 4,
  "nbformat_minor": 0,
  "metadata": {
    "colab": {
      "name": "Nicholas George LS_DS_132_Sampling_Confidence_Intervals_and_Hypothesis_Testing_Assignment.ipynb",
      "provenance": [],
      "collapsed_sections": [],
      "include_colab_link": true
    },
    "kernelspec": {
      "name": "python3",
      "display_name": "Python 3"
    }
  },
  "cells": [
    {
      "cell_type": "markdown",
      "metadata": {
        "id": "view-in-github",
        "colab_type": "text"
      },
      "source": [
        "<a href=\"https://colab.research.google.com/github/npgeorge/DS-Unit-1-Sprint-3-Statistical-Tests-and-Experiments/blob/master/Nicholas_George_LS_DS_132_Sampling_Confidence_Intervals_and_Hypothesis_Testing_Assignment.ipynb\" target=\"_parent\"><img src=\"https://colab.research.google.com/assets/colab-badge.svg\" alt=\"Open In Colab\"/></a>"
      ]
    },
    {
      "cell_type": "markdown",
      "metadata": {
        "id": "11OzdxWTM7UR",
        "colab_type": "text"
      },
      "source": [
        "## Assignment - Build a confidence interval\n",
        "\n",
        "A confidence interval refers to a neighborhood around some point estimate, the size of which is determined by the desired p-value. For instance, we might say that 52% of Americans prefer tacos to burritos, with a 95% confidence interval of +/- 5%.\n",
        "\n",
        "52% (0.52) is the point estimate, and +/- 5% (the interval $[0.47, 0.57]$) is the confidence interval. \"95% confidence\" means a p-value $\\leq 1 - 0.95 = 0.05$.\n",
        "\n",
        "In this case, the confidence interval includes $0.5$ - which is the natural null hypothesis (that half of Americans prefer tacos and half burritos, thus there is no clear favorite). So in this case, we could use the confidence interval to report that we've failed to reject the null hypothesis.\n",
        "\n",
        "But providing the full analysis with a confidence interval, including a graphical representation of it, can be a helpful and powerful way to tell your story. Done well, it is also more intuitive to a layperson than simply saying \"fail to reject the null hypothesis\" - it shows that in fact the data does *not* give a single clear result (the point estimate) but a whole range of possibilities.\n",
        "\n",
        "How is a confidence interval built, and how should it be interpreted? It does *not* mean that 95% of the data lies in that interval - instead, the frequentist interpretation is \"if we were to repeat this experiment 100 times, we would expect the average result to lie in this interval ~95 times.\"\n",
        "\n",
        "For a 95% confidence interval and a normal(-ish) distribution, you can simply remember that +/-2 standard deviations contains 95% of the probability mass, and so the 95% confidence interval based on a given sample is centered at the mean (point estimate) and has a range of +/- 2 (or technically 1.96) standard deviations.\n",
        "\n",
        "Different distributions/assumptions (90% confidence, 99% confidence) will require different math, but the overall process and interpretation (with a frequentist approach) will be the same.\n",
        "\n",
        "Your assignment - using the data from the prior module ([congressional voting records](https://archive.ics.uci.edu/ml/datasets/Congressional+Voting+Records)):\n",
        "\n",
        "\n",
        "### Confidence Intervals:\n",
        "1. Generate and numerically represent a confidence interval\n",
        "2. Graphically (with a plot) represent the confidence interval\n",
        "3. Interpret the confidence interval - what does it tell you about the data and its distribution?\n",
        "\n",
        "### Chi-squared tests:\n",
        "4. Take a dataset that we have used in the past in class that has **categorical** variables. Pick two of those categorical variables and run a chi-squared tests on that data\n",
        "  - By hand using Numpy\n",
        "  - In a single line using Scipy\n"
      ]
    },
    {
      "cell_type": "code",
      "metadata": {
        "id": "Ckcr4A4FM7cs",
        "colab_type": "code",
        "outputId": "9a9e558b-8ef6-415a-be35-8e24d8ab06a6",
        "colab": {
          "base_uri": "https://localhost:8080/",
          "height": 267
        }
      },
      "source": [
        "# TODO - your code!\n",
        "import pandas as pd\n",
        "import matplotlib.pyplot as plt\n",
        "import numpy as np\n",
        "import seaborn as sns\n",
        "\n",
        "\n",
        "df = pd.read_csv('https://archive.ics.uci.edu/ml/machine-learning-databases/voting-records/house-votes-84.data', header=None)\n",
        "\n",
        "rename_columns = {\n",
        "    0: 'Class Name',\n",
        "    1: 'Handicapped Infants',\n",
        "    2: 'Water Project Cost Sharing',\n",
        "    3: 'Adoption of the Budget Resolution',\n",
        "    4: 'Physician Free Freeze',\n",
        "    5: 'El Salvador Aid',\n",
        "    6: 'Religious Groups in Schools',\n",
        "    7: 'Anti-Satellite Test Ban',\n",
        "    8: 'Aid to Nicaraguan Contras',\n",
        "    9: 'MX Missile',\n",
        "    10: 'Immigration',\n",
        "    11: 'Synfuels Corporation Cutback',\n",
        "    12: 'Education Spending',\n",
        "    13: 'Superfund Right to Sue',\n",
        "    14: 'Crime',\n",
        "    15: 'Duty Free Exports',\n",
        "    16: 'Export Administration Act South Africa',\n",
        "}\n",
        "df = df.rename(columns=rename_columns)\n",
        "\n",
        "df = df.replace(to_replace =('?','y','n'), value = (0,1,-1))\n",
        "\n",
        "republicans = df.groupby('Class Name').get_group('republican')\n",
        "democrats = df.groupby('Class Name').get_group('democrat')\n",
        "\n",
        "#df = df.set_index('Class Name')\n",
        "\n",
        "df.head()"
      ],
      "execution_count": 29,
      "outputs": [
        {
          "output_type": "execute_result",
          "data": {
            "text/html": [
              "<div>\n",
              "<style scoped>\n",
              "    .dataframe tbody tr th:only-of-type {\n",
              "        vertical-align: middle;\n",
              "    }\n",
              "\n",
              "    .dataframe tbody tr th {\n",
              "        vertical-align: top;\n",
              "    }\n",
              "\n",
              "    .dataframe thead th {\n",
              "        text-align: right;\n",
              "    }\n",
              "</style>\n",
              "<table border=\"1\" class=\"dataframe\">\n",
              "  <thead>\n",
              "    <tr style=\"text-align: right;\">\n",
              "      <th></th>\n",
              "      <th>Class Name</th>\n",
              "      <th>Handicapped Infants</th>\n",
              "      <th>Water Project Cost Sharing</th>\n",
              "      <th>Adoption of the Budget Resolution</th>\n",
              "      <th>Physician Free Freeze</th>\n",
              "      <th>El Salvador Aid</th>\n",
              "      <th>Religious Groups in Schools</th>\n",
              "      <th>Anti-Satellite Test Ban</th>\n",
              "      <th>Aid to Nicaraguan Contras</th>\n",
              "      <th>MX Missile</th>\n",
              "      <th>Immigration</th>\n",
              "      <th>Synfuels Corporation Cutback</th>\n",
              "      <th>Education Spending</th>\n",
              "      <th>Superfund Right to Sue</th>\n",
              "      <th>Crime</th>\n",
              "      <th>Duty Free Exports</th>\n",
              "      <th>Export Administration Act South Africa</th>\n",
              "    </tr>\n",
              "  </thead>\n",
              "  <tbody>\n",
              "    <tr>\n",
              "      <th>0</th>\n",
              "      <td>republican</td>\n",
              "      <td>-1</td>\n",
              "      <td>1</td>\n",
              "      <td>-1</td>\n",
              "      <td>1</td>\n",
              "      <td>1</td>\n",
              "      <td>1</td>\n",
              "      <td>-1</td>\n",
              "      <td>-1</td>\n",
              "      <td>-1</td>\n",
              "      <td>1</td>\n",
              "      <td>0</td>\n",
              "      <td>1</td>\n",
              "      <td>1</td>\n",
              "      <td>1</td>\n",
              "      <td>-1</td>\n",
              "      <td>1</td>\n",
              "    </tr>\n",
              "    <tr>\n",
              "      <th>1</th>\n",
              "      <td>republican</td>\n",
              "      <td>-1</td>\n",
              "      <td>1</td>\n",
              "      <td>-1</td>\n",
              "      <td>1</td>\n",
              "      <td>1</td>\n",
              "      <td>1</td>\n",
              "      <td>-1</td>\n",
              "      <td>-1</td>\n",
              "      <td>-1</td>\n",
              "      <td>-1</td>\n",
              "      <td>-1</td>\n",
              "      <td>1</td>\n",
              "      <td>1</td>\n",
              "      <td>1</td>\n",
              "      <td>-1</td>\n",
              "      <td>0</td>\n",
              "    </tr>\n",
              "    <tr>\n",
              "      <th>2</th>\n",
              "      <td>democrat</td>\n",
              "      <td>0</td>\n",
              "      <td>1</td>\n",
              "      <td>1</td>\n",
              "      <td>0</td>\n",
              "      <td>1</td>\n",
              "      <td>1</td>\n",
              "      <td>-1</td>\n",
              "      <td>-1</td>\n",
              "      <td>-1</td>\n",
              "      <td>-1</td>\n",
              "      <td>1</td>\n",
              "      <td>-1</td>\n",
              "      <td>1</td>\n",
              "      <td>1</td>\n",
              "      <td>-1</td>\n",
              "      <td>-1</td>\n",
              "    </tr>\n",
              "    <tr>\n",
              "      <th>3</th>\n",
              "      <td>democrat</td>\n",
              "      <td>-1</td>\n",
              "      <td>1</td>\n",
              "      <td>1</td>\n",
              "      <td>-1</td>\n",
              "      <td>0</td>\n",
              "      <td>1</td>\n",
              "      <td>-1</td>\n",
              "      <td>-1</td>\n",
              "      <td>-1</td>\n",
              "      <td>-1</td>\n",
              "      <td>1</td>\n",
              "      <td>-1</td>\n",
              "      <td>1</td>\n",
              "      <td>-1</td>\n",
              "      <td>-1</td>\n",
              "      <td>1</td>\n",
              "    </tr>\n",
              "    <tr>\n",
              "      <th>4</th>\n",
              "      <td>democrat</td>\n",
              "      <td>1</td>\n",
              "      <td>1</td>\n",
              "      <td>1</td>\n",
              "      <td>-1</td>\n",
              "      <td>1</td>\n",
              "      <td>1</td>\n",
              "      <td>-1</td>\n",
              "      <td>-1</td>\n",
              "      <td>-1</td>\n",
              "      <td>-1</td>\n",
              "      <td>1</td>\n",
              "      <td>0</td>\n",
              "      <td>1</td>\n",
              "      <td>1</td>\n",
              "      <td>1</td>\n",
              "      <td>1</td>\n",
              "    </tr>\n",
              "  </tbody>\n",
              "</table>\n",
              "</div>"
            ],
            "text/plain": [
              "   Class Name  ...  Export Administration Act South Africa\n",
              "0  republican  ...                                       1\n",
              "1  republican  ...                                       0\n",
              "2    democrat  ...                                      -1\n",
              "3    democrat  ...                                       1\n",
              "4    democrat  ...                                       1\n",
              "\n",
              "[5 rows x 17 columns]"
            ]
          },
          "metadata": {
            "tags": []
          },
          "execution_count": 29
        }
      ]
    },
    {
      "cell_type": "code",
      "metadata": {
        "id": "khPuzOp6lQe4",
        "colab_type": "code",
        "colab": {
          "base_uri": "https://localhost:8080/",
          "height": 336
        },
        "outputId": "94675419-9bad-415b-877e-17ec17c01f07"
      },
      "source": [
        "df[df==1].sum()"
      ],
      "execution_count": 37,
      "outputs": [
        {
          "output_type": "execute_result",
          "data": {
            "text/plain": [
              "Class Name                                  0.0\n",
              "Handicapped Infants                       187.0\n",
              "Water Project Cost Sharing                195.0\n",
              "Adoption of the Budget Resolution         253.0\n",
              "Physician Free Freeze                     177.0\n",
              "El Salvador Aid                           212.0\n",
              "Religious Groups in Schools               272.0\n",
              "Anti-Satellite Test Ban                   239.0\n",
              "Aid to Nicaraguan Contras                 242.0\n",
              "MX Missile                                207.0\n",
              "Immigration                               216.0\n",
              "Synfuels Corporation Cutback              150.0\n",
              "Education Spending                        171.0\n",
              "Superfund Right to Sue                    209.0\n",
              "Crime                                     248.0\n",
              "Duty Free Exports                         174.0\n",
              "Export Administration Act South Africa    269.0\n",
              "dtype: float64"
            ]
          },
          "metadata": {
            "tags": []
          },
          "execution_count": 37
        }
      ]
    },
    {
      "cell_type": "code",
      "metadata": {
        "id": "jOo52QFNmowx",
        "colab_type": "code",
        "colab": {
          "base_uri": "https://localhost:8080/",
          "height": 336
        },
        "outputId": "c6848d69-2cf2-452f-bbc5-85b2e7b70298"
      },
      "source": [
        "df[df==-1].sum()"
      ],
      "execution_count": 38,
      "outputs": [
        {
          "output_type": "execute_result",
          "data": {
            "text/plain": [
              "Class Name                                  0.0\n",
              "Handicapped Infants                      -236.0\n",
              "Water Project Cost Sharing               -192.0\n",
              "Adoption of the Budget Resolution        -171.0\n",
              "Physician Free Freeze                    -247.0\n",
              "El Salvador Aid                          -208.0\n",
              "Religious Groups in Schools              -152.0\n",
              "Anti-Satellite Test Ban                  -182.0\n",
              "Aid to Nicaraguan Contras                -178.0\n",
              "MX Missile                               -206.0\n",
              "Immigration                              -212.0\n",
              "Synfuels Corporation Cutback             -264.0\n",
              "Education Spending                       -233.0\n",
              "Superfund Right to Sue                   -201.0\n",
              "Crime                                    -170.0\n",
              "Duty Free Exports                        -233.0\n",
              "Export Administration Act South Africa    -62.0\n",
              "dtype: float64"
            ]
          },
          "metadata": {
            "tags": []
          },
          "execution_count": 38
        }
      ]
    },
    {
      "cell_type": "code",
      "metadata": {
        "id": "ALRECTQsSz61",
        "colab_type": "code",
        "colab": {}
      },
      "source": [
        "#splitting up the data frames\n",
        "reps_hand_inf = republicans['Handicapped Infants']\n",
        "dems_hand_inf = democrats['Handicapped Infants']\n",
        "reps_wpcs = republicans['Water Project Cost Sharing']\n",
        "dems_wpcs = democrats['Water Project Cost Sharing']\n",
        "reps_abr = republicans['Adoption of the Budget Resolution']\n",
        "dems_abr = democrats['Adoption of the Budget Resolution']\n",
        "reps_pff = republicans['Physician Free Freeze']\n",
        "dems_pff = democrats['Physician Free Freeze']\n",
        "reps_ela = republicans['El Salvador Aid']\n",
        "dems_ela = democrats['El Salvador Aid']\n",
        "reps_rga = republicans['Religious Groups in Schools']\n",
        "dems_rga =  democrats['Religious Groups in Schools']\n",
        "reps_astb = republicans['Anti-Satellite Test Ban']\n",
        "dems_astb = democrats['Anti-Satellite Test Ban']\n",
        "reps_anc = republicans['Aid to Nicaraguan Contras']\n",
        "dems_anc = democrats['Aid to Nicaraguan Contras']\n",
        "reps_mx = republicans['MX Missile']\n",
        "dems_mx = democrats['MX Missile']\n",
        "reps_imm = republicans['Immigration']\n",
        "dems_imm = democrats['Immigration']\n",
        "reps_scc = republicans['Synfuels Corporation Cutback']\n",
        "dems_scc = democrats['Synfuels Corporation Cutback']\n",
        "reps_es = republicans['Education Spending']\n",
        "dems_es = democrats['Education Spending']\n",
        "reps_srs = republicans['Superfund Right to Sue']\n",
        "dems_srs = democrats['Superfund Right to Sue']\n",
        "reps_crime = republicans['Crime']\n",
        "dems_crime = democrats['Crime']\n",
        "reps_dfe = republicans['Duty Free Exports']\n",
        "dems_dfe = democrats['Duty Free Exports']\n",
        "reps_eaasa = republicans['Export Administration Act South Africa']\n",
        "dems_eaasa = democrats['Export Administration Act South Africa']\n"
      ],
      "execution_count": 0,
      "outputs": []
    },
    {
      "cell_type": "code",
      "metadata": {
        "id": "4FHfuCWIdgCk",
        "colab_type": "code",
        "colab": {
          "base_uri": "https://localhost:8080/",
          "height": 268
        },
        "outputId": "15edea0c-08a0-4af6-8ce3-4064a63bb713"
      },
      "source": [
        "reps_hand_inf.hist(color='r');"
      ],
      "execution_count": 5,
      "outputs": [
        {
          "output_type": "display_data",
          "data": {
            "image/png": "[encoded data removed]",
            "text/plain": [
              "<Figure size 432x288 with 1 Axes>"
            ]
          },
          "metadata": {
            "tags": []
          }
        }
      ]
    },
    {
      "cell_type": "code",
      "metadata": {
        "id": "4PrtJeAsdu3P",
        "colab_type": "code",
        "colab": {
          "base_uri": "https://localhost:8080/",
          "height": 87
        },
        "outputId": "b1467095-af74-4590-8637-4201abebdaa0"
      },
      "source": [
        "reps_hand_inf.value_counts()"
      ],
      "execution_count": 11,
      "outputs": [
        {
          "output_type": "execute_result",
          "data": {
            "text/plain": [
              "-1    134\n",
              " 1     31\n",
              " 0      3\n",
              "Name: Handicapped Infants, dtype: int64"
            ]
          },
          "metadata": {
            "tags": []
          },
          "execution_count": 11
        }
      ]
    },
    {
      "cell_type": "code",
      "metadata": {
        "id": "mztXtcFSgbHT",
        "colab_type": "code",
        "colab": {
          "base_uri": "https://localhost:8080/",
          "height": 268
        },
        "outputId": "43bfa30f-7b06-43fb-abb0-aa15cc76eadd"
      },
      "source": [
        "dems_hand_inf.hist();"
      ],
      "execution_count": 13,
      "outputs": [
        {
          "output_type": "display_data",
          "data": {
            "image/png": "[encoded data removed]",
            "text/plain": [
              "<Figure size 432x288 with 1 Axes>"
            ]
          },
          "metadata": {
            "tags": []
          }
        }
      ]
    },
    {
      "cell_type": "code",
      "metadata": {
        "id": "rp8nUDi5gjZW",
        "colab_type": "code",
        "colab": {
          "base_uri": "https://localhost:8080/",
          "height": 87
        },
        "outputId": "c4df627f-5f79-4792-b768-07d33a795708"
      },
      "source": [
        "dems_hand_inf.value_counts()"
      ],
      "execution_count": 14,
      "outputs": [
        {
          "output_type": "execute_result",
          "data": {
            "text/plain": [
              " 1    156\n",
              "-1    102\n",
              " 0      9\n",
              "Name: Handicapped Infants, dtype: int64"
            ]
          },
          "metadata": {
            "tags": []
          },
          "execution_count": 14
        }
      ]
    },
    {
      "cell_type": "code",
      "metadata": {
        "id": "19fUg9bigncN",
        "colab_type": "code",
        "colab": {
          "base_uri": "https://localhost:8080/",
          "height": 34
        },
        "outputId": "44bd23b6-dbc3-42dc-efd3-1e5fc3b91d52"
      },
      "source": [
        "#we can say 156 democrats approve of the handicapped infants bill\n",
        "#so our sampling proportion, p hat is...\n",
        "p_hat = 156 / (156+102+9)\n",
        "p_hat\n",
        "#the parameter P is the proportion of all democrats who would say they approve of the handicapped infants bill"
      ],
      "execution_count": 15,
      "outputs": [
        {
          "output_type": "execute_result",
          "data": {
            "text/plain": [
              "0.5842696629213483"
            ]
          },
          "metadata": {
            "tags": []
          },
          "execution_count": 15
        }
      ]
    },
    {
      "cell_type": "code",
      "metadata": {
        "id": "4bpM6wDWp_L9",
        "colab_type": "code",
        "colab": {
          "base_uri": "https://localhost:8080/",
          "height": 34
        },
        "outputId": "ef41c70c-8854-4c16-afd5-14a5fa7f9263"
      },
      "source": [
        "democrats.shape"
      ],
      "execution_count": 54,
      "outputs": [
        {
          "output_type": "execute_result",
          "data": {
            "text/plain": [
              "(267, 17)"
            ]
          },
          "metadata": {
            "tags": []
          },
          "execution_count": 54
        }
      ]
    },
    {
      "cell_type": "code",
      "metadata": {
        "id": "-FPc3bB8hfrB",
        "colab_type": "code",
        "colab": {
          "base_uri": "https://localhost:8080/",
          "height": 34
        },
        "outputId": "60ab1669-32fc-4cd4-a437-4cf0bb74904a"
      },
      "source": [
        "#Standard error\n",
        "#not sure what n should be? just guessed...sample size total votes?\n",
        "SE_phat = np.sqrt((p_hat*(1-p_hat))/(267))\n",
        "SE_phat"
      ],
      "execution_count": 55,
      "outputs": [
        {
          "output_type": "execute_result",
          "data": {
            "text/plain": [
              "0.03016177504432437"
            ]
          },
          "metadata": {
            "tags": []
          },
          "execution_count": 55
        }
      ]
    },
    {
      "cell_type": "code",
      "metadata": {
        "id": "p-iDrHhBqWda",
        "colab_type": "code",
        "colab": {}
      },
      "source": [
        "#so "
      ],
      "execution_count": 0,
      "outputs": []
    },
    {
      "cell_type": "code",
      "metadata": {
        "id": "vcfaJuxdoFH6",
        "colab_type": "code",
        "colab": {
          "base_uri": "https://localhost:8080/",
          "height": 34
        },
        "outputId": "064a927e-8eb9-48f1-badb-1e077befb980"
      },
      "source": [
        "#getting the range\n",
        "p_hat_minus = (p_hat - SE_phat)\n",
        "p_hat_plus = (p_hat + SE_phat )\n",
        "\n",
        "print('With 95% confidence between ', round(p_hat_minus, 3)*100,'% and ', round(p_hat_plus, 3)*100,'%', ' of democrats support the Handicapped Infants bill.')"
      ],
      "execution_count": 60,
      "outputs": [
        {
          "output_type": "stream",
          "text": [
            "With 95% confidence between  55.400000000000006 % and  61.4 %  of democrats support the Handicapped Infants bill.\n"
          ],
          "name": "stdout"
        }
      ]
    },
    {
      "cell_type": "code",
      "metadata": {
        "id": "LHp-LZ0xovir",
        "colab_type": "code",
        "colab": {}
      },
      "source": [
        "#plt.errorbar(mean.index, mean, xerr=0.5, yerr=2*std, linestyle='')"
      ],
      "execution_count": 0,
      "outputs": []
    },
    {
      "cell_type": "code",
      "metadata": {
        "id": "ZbFvTKxRdmr9",
        "colab_type": "code",
        "colab": {
          "base_uri": "https://localhost:8080/",
          "height": 268
        },
        "outputId": "fe09661e-f055-4cd5-db65-e5f375c7bc8f"
      },
      "source": [
        "dems_hand_inf.hist();"
      ],
      "execution_count": 7,
      "outputs": [
        {
          "output_type": "display_data",
          "data": {
            "image/png": "[encoded data removed]",
            "text/plain": [
              "<Figure size 432x288 with 1 Axes>"
            ]
          },
          "metadata": {
            "tags": []
          }
        }
      ]
    },
    {
      "cell_type": "markdown",
      "metadata": {
        "id": "4ohsJhQUmEuS",
        "colab_type": "text"
      },
      "source": [
        "## Stretch goals:\n",
        "\n",
        "1. Write a summary of your findings, mixing prose and math/code/results. *Note* - yes, this is by definition a political topic. It is challenging but important to keep your writing voice *neutral* and stick to the facts of the data. Data science often involves considering controversial issues, so it's important to be sensitive about them (especially if you want to publish).\n",
        "2. Apply the techniques you learned today to your project data or other data of your choice, and write/discuss your findings here.\n",
        "3. Refactor your code so it is elegant, readable, and can be easily run for all issues."
      ]
    },
    {
      "cell_type": "markdown",
      "metadata": {
        "id": "nyJ3ySr7R2k9",
        "colab_type": "text"
      },
      "source": [
        "## Resources\n",
        "\n",
        "- [Interactive visualize the Chi-Squared test](https://homepage.divms.uiowa.edu/~mbognar/applets/chisq.html)\n",
        "- [Calculation of Chi-Squared test statistic](https://en.wikipedia.org/wiki/Pearson%27s_chi-squared_test)\n",
        "- [Visualization of a confidence interval generated by R code](https://commons.wikimedia.org/wiki/File:Confidence-interval.svg)\n",
        "- [Expected value of a squared standard normal](https://math.stackexchange.com/questions/264061/expected-value-calculation-for-squared-normal-distribution) (it's 1 - which is why the expected value of a Chi-Squared with $n$ degrees of freedom is $n$, as it's the sum of $n$ squared standard normals)"
      ]
    },
    {
      "cell_type": "code",
      "metadata": {
        "id": "CXDn1teItoPY",
        "colab_type": "code",
        "colab": {}
      },
      "source": [
        "#notes\n",
        "#if you produce a large enough subset of samples in some data, their means will be normall distributed"
      ],
      "execution_count": 0,
      "outputs": []
    },
    {
      "cell_type": "markdown",
      "metadata": {
        "id": "xJUVNw7vtsqD",
        "colab_type": "text"
      },
      "source": [
        "Notes:\n",
        "\n",
        "if you produce a large enough subset of samples in some data, their means will be normall distributed"
      ]
    }
  ]
}