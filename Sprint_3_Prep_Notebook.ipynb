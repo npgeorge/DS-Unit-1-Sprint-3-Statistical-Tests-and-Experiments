{
  "nbformat": 4,
  "nbformat_minor": 0,
  "metadata": {
    "colab": {
      "name": "Sprint 3 Prep Notebook",
      "provenance": [],
      "include_colab_link": true
    },
    "kernelspec": {
      "name": "python3",
      "display_name": "Python 3"
    }
  },
  "cells": [
    {
      "cell_type": "markdown",
      "metadata": {
        "id": "view-in-github",
        "colab_type": "text"
      },
      "source": [
        "<a href=\"https://colab.research.google.com/github/npgeorge/DS-Unit-1-Sprint-3-Statistical-Tests-and-Experiments/blob/master/Sprint_3_Prep_Notebook.ipynb\" target=\"_parent\"><img src=\"https://colab.research.google.com/assets/colab-badge.svg\" alt=\"Open In Colab\"/></a>"
      ]
    },
    {
      "cell_type": "code",
      "metadata": {
        "id": "auecZ9EwUwQP",
        "colab_type": "code",
        "colab": {}
      },
      "source": [
        "import pandas as pd\n",
        "import matplotlib.pyplot as plt\n",
        "import numpy as np\n",
        "import seaborn as sns"
      ],
      "execution_count": 0,
      "outputs": []
    },
    {
      "cell_type": "code",
      "metadata": {
        "id": "RpZNYx1qUz2I",
        "colab_type": "code",
        "outputId": "71797c43-323c-4098-a57e-54334647f9b2",
        "colab": {
          "base_uri": "https://localhost:8080/",
          "height": 34
        }
      },
      "source": [
        "scipy.stats.bernoulli?"
      ],
      "execution_count": 0,
      "outputs": [
        {
          "output_type": "stream",
          "text": [
            "Object `scipy.stats.bernoulli` not found.\n"
          ],
          "name": "stdout"
        }
      ]
    },
    {
      "cell_type": "markdown",
      "metadata": {
        "id": "brk_iSf4BkR4",
        "colab_type": "text"
      },
      "source": [
        "##Sprint 3 Prep Notebook Overview\n",
        "\n",
        "Topics that may show up on Sprint Challenge 3:\n",
        "\n",
        "Probability, Statistics, and Inference\n",
        "- demonstrate understanding of fundamental concepts of set theory and probability, \n",
        "  including permutations, combinations, expected value, variance, binomial distribution,\n",
        "  and Bernoulli trial\n",
        "\n",
        "- explain the importance of statistics in the context of informing a practical \n",
        "  and reliable understanding of data\n",
        "\n",
        "Sampling, Confidence Int, and Hypo Testing\n",
        "- use hypothesis testing to determine an outcome is significant or just the \n",
        "  result of chance\n",
        "\n",
        "- determine the level of confidence for a possible outcome\n",
        "\n",
        "Introduction to Bayesian Inference\n",
        "- be able to derive Bayes' theorem from the Law of Conditional Probability\n",
        "- calculate Bayesian confidence intervals\n",
        "\n",
        "Real-World Experiment Design\n",
        "- deploy a simple static (front-end) A/B-instrumented webpage\n",
        "- evaluate and summarize findings from real-world A/B test data"
      ]
    },
    {
      "cell_type": "markdown",
      "metadata": {
        "id": "qsQkYdyhBtmo",
        "colab_type": "text"
      },
      "source": [
        "###Fundamentla Concepts\n",
        "\n",
        "**Set Theory**\n",
        "\n",
        "A set is a collection of things (elements).\n",
        "Example \n",
        "The following sets are used in this book:\n",
        "\n",
        "The set of natural numbers, ℕ={1,2,3,⋯}.\n",
        "\n",
        "The set of integers, ℤ={⋯,−3,−2,−1,0,1,2,3,⋯}.\n",
        "\n",
        "The set of rational numbers ℚ.\n",
        "\n",
        "The set of real numbers ℝ.\n",
        "\n",
        "Closed intervals on the real line. For example, [2,3] is the set of all real numbers x such that 2≤x≤3.\n",
        "\n",
        "Open intervals on the real line. For example (−1,3) is the set of all real numbers x such that {−1<x<3}.\n",
        "\n",
        "Similarly, [1,2) is the set of all real numbers x such that {1≤x<2.}\n",
        "\n",
        "The set of complex numbers ℂ is the set of numbers in the form of a+bi, where a,b∈ℝ, and i=sqrt(-1).\n",
        "\n",
        "**Probability:**\n",
        "\n",
        "A probability is the *likelihood* of an event occurring.\n",
        "\n",
        "We assign a probability measure P(A) to an event A. This is a value between 0 and 1 that shows how likely the event is. If P(A) is close to 0, it is very unlikely that the event A occurs. On the other hand, if P(A) is close to 1, A is very likely to occur.\n",
        "\n",
        "P(A∩B)=P(A and B)=P(A,B),\n",
        "\n",
        "P(A∪B)=P(A or B).\n",
        "\n",
        "**Permutations:**\n",
        "\n",
        "A permutation is a method to calculate the number of events occurring where order matters. To calculate a permutation, you will need to use the formula \n",
        "\n",
        "nPr = n! / (n - r)!. \n",
        "\n",
        "In this equation, n represents the number of items to choose from and r represents how many items are being chosen.\n",
        "\n",
        "**Combinations:**\n",
        "\n",
        "Combinations are a way to calculate the total outcomes of an event where order of the outcomes does not matter. \n",
        "\n",
        "nCr = n! / r! * (n - r)! \n",
        "\n",
        "Where n represents the total number of items, and r represents the number of items being chosen at a time.\n",
        "\n",
        "**Expected Value:**\n",
        "\n",
        "E(x)=∑ xi*P(xi) \n",
        "\n",
        "In statistics and probability analysis, the expected value is calculated by multiplying each of the possible outcomes by the likelihood each outcome will occur and then summing all of those values.\n",
        "\n",
        "Take, for example, a normal six-sided die. Once you roll the die, it has an equal one-sixth chance of landing on one, two, three, four, five, or six. Given this information, the calculation is straightforward:\n",
        "\n",
        "(1/6 * 1) + (1/6 * 2) + (1/6 * 3) + (1/6 * 4) + (1/6 * 5) + (1/6 * 6) = 3.5\n",
        "\n",
        "If you were to roll a six-sided die an infinite amount of times, you see the average value equals 3.5.\n",
        "\n",
        "**Variance:**\n",
        "\n",
        "Variance is the expectation of the squared deviation of a random variable from its mean.\n",
        "\n",
        "Var(X) = Σx^2p − μ2\n",
        "\n",
        "Informally, it measures how far a set of (random) numbers are spread out from their average value.\n",
        "\n",
        "in code: {sample.var()}\n",
        "\n",
        "**Binomial Distribution & Bernoulli Trial:**\n",
        "\n",
        "A binomial experiment is a statistical experiment that has the following properties:\n",
        "\n",
        "The experiment consists of n repeated trials.\n",
        "Each trial can result in just two possible outcomes. We call one of these outcomes a success and the other, a failure.\n",
        "The probability of success, denoted by P, is the same on every trial.\n",
        "The trials are independent; that is, the outcome on one trial does not affect the outcome on other trials.\n",
        "Consider the following statistical experiment. You flip a coin 2 times and count the number of times the coin lands on heads.\n",
        "\n",
        "np.random.binomial(n, p, size=None)\n",
        "\n",
        "or\n",
        "\n",
        "scipy.stats.binom : probability density function, distribution or cumulative density function, etc.\n",
        "\n",
        "binomial(n, p, size=None)\n",
        "\n",
        "Draw samples from a binomial distribution.\n",
        "\n",
        "Samples are drawn from a binomial distribution with specified\n",
        "parameters, n trials and p probability of success where\n",
        "n an integer >= 0 and p is in the interval [0,1]. (n may be\n",
        "input as a float, but it is truncated to an integer in use)\n",
        "\n",
        "A Bernoulli trial (or binomial trial) is a random experiment with exactly two possible outcomes, \"success\" and \"failure\", in which the probability of success is the same every time the experiment is conducted."
      ]
    },
    {
      "cell_type": "code",
      "metadata": {
        "id": "i8fu7FDIEPUc",
        "colab_type": "code",
        "outputId": "cc6a47b2-c6ab-480e-8fdd-e9df48d57436",
        "colab": {
          "base_uri": "https://localhost:8080/",
          "height": 320
        }
      },
      "source": [
        "from IPython.display import display, Image\n",
        "\n",
        "url = 'https://slideplayer.com/slide/5130463/16/images/2/Statistical+Inference.jpg'\n",
        "example = Image(url=url, width=400)\n",
        "\n",
        "display(example)"
      ],
      "execution_count": 0,
      "outputs": [
        {
          "output_type": "display_data",
          "data": {
            "text/html": [
              "<img src=\"https://slideplayer.com/slide/5130463/16/images/2/Statistical+Inference.jpg\" width=\"400\"/>"
            ],
            "text/plain": [
              "<IPython.core.display.Image object>"
            ]
          },
          "metadata": {
            "tags": []
          }
        }
      ]
    },
    {
      "cell_type": "markdown",
      "metadata": {
        "id": "JI-K2sGICFMC",
        "colab_type": "text"
      },
      "source": [
        "###Explain the importance of statistics\n",
        "\n",
        "*How does statistics inform a pracitcal and reliable understanding of data?*\n",
        "\n",
        "\n",
        "\n",
        "**Statistical Significance:**\n",
        "\n",
        "Using hypothesis testing methods. If the p value is less than the  level (typically 0.05), then the results are statistically significant.\n",
        "\n",
        "The effect observed in the sample was unlikely to have occured due to chance alone. \n",
        "\n",
        "Strongly related to sample size. If the sample size is large enough, even tiny differences from the hypothesized value will be found statistically significant.\n",
        "\n",
        "**Practical Significance**\n",
        "\n",
        "Practical significance refers to the magnitude of the difference, which is known as the effect size. Results are practically significant when the difference is large enough to be meaningful in real life. What is meaningful may be subjective and may depend on the context.\n",
        "\n",
        "In addition to the results of a hypothesis test, it is best to also report an appropriate confidence interval. \n",
        "\n",
        "The interval illustrates the size of the effect, and can help determine if the effect has any practical importance. \n"
      ]
    },
    {
      "cell_type": "markdown",
      "metadata": {
        "id": "WSF9R46SCWDi",
        "colab_type": "text"
      },
      "source": [
        "##Sampling, Confidence Interval, & Hypothesis Testing (T-tests)"
      ]
    },
    {
      "cell_type": "markdown",
      "metadata": {
        "id": "puGln0HECgjD",
        "colab_type": "text"
      },
      "source": [
        "##Using hypothesis testing to determine if an outcome is significant or just the result of chance.\n",
        "\n",
        "###Hypothesis Testing\n",
        "\n",
        "The most important thing to remember is that its not up to you to pick the test, the question you want to answer is the one that picks the hypothesis test.\n",
        "\n",
        "For example:\n",
        "\n",
        "T-tests help you answer the question of whether the means of two samples are close to eachother. These are specifically designed to test for two means. \n",
        "\n",
        "P-value tells you whether that level of closeness is statistically significant. "
      ]
    },
    {
      "cell_type": "code",
      "metadata": {
        "id": "K4U3IX6v8Ull",
        "colab_type": "code",
        "colab": {
          "base_uri": "https://localhost:8080/",
          "height": 194
        },
        "outputId": "5f0d255d-aeec-41f9-a0db-09ea7eaccd44"
      },
      "source": [
        "#we can determine this by checking for correlation (chi sq) between two sets\n",
        "#two example below\n",
        "#notice the P values\n",
        "import numpy as np\n",
        "from scipy.stats import chisquare  # One-way chi square test\n",
        "\n",
        "# Chi square can take any crosstab/table and test the independence of rows/cols\n",
        "# The null hypothesis is that the rows/cols are independent -> low chi square\n",
        "# The alternative is that there is a dependence -> high chi square\n",
        "# Be aware! Chi square does *not* tell you direction/causation\n",
        "\n",
        "ind_obs = np.array([[1, 1], [2, 2]]).T\n",
        "print(ind_obs)\n",
        "print(chisquare(ind_obs, axis=None))\n",
        "\n",
        "dep_obs = np.array([[16, 18, 16, 14, 12, 12], [32, 24, 16, 28, 20, 24]]).T\n",
        "print(dep_obs)\n",
        "print(chisquare(dep_obs, axis=None))"
      ],
      "execution_count": 1,
      "outputs": [
        {
          "output_type": "stream",
          "text": [
            "[[1 2]\n",
            " [1 2]]\n",
            "Power_divergenceResult(statistic=0.6666666666666666, pvalue=0.8810148425137847)\n",
            "[[16 32]\n",
            " [18 24]\n",
            " [16 16]\n",
            " [14 28]\n",
            " [12 20]\n",
            " [12 24]]\n",
            "Power_divergenceResult(statistic=23.31034482758621, pvalue=0.015975692534127565)\n"
          ],
          "name": "stdout"
        }
      ]
    },
    {
      "cell_type": "code",
      "metadata": {
        "id": "MXm4c_rQ80ZS",
        "colab_type": "code",
        "colab": {
          "base_uri": "https://localhost:8080/",
          "height": 1000
        },
        "outputId": "f2c1224e-d0fa-4df1-c490-0d175a9bf338"
      },
      "source": [
        "#generating a random sample test...\n",
        "from scipy.stats import normaltest\n",
        "# Poisson models arrival times and is related to the binomial (coinflip)\n",
        "#poisson(lambda, size) -> the higher to the right the further away the distribution moves\n",
        "#so a lambda of 1, distribution is closer to 0, and with 5, moves away and to the right\n",
        "sample = np.random.poisson(5, 1000)\n",
        "sample"
      ],
      "execution_count": 3,
      "outputs": [
        {
          "output_type": "execute_result",
          "data": {
            "text/plain": [
              "array([ 5,  2,  0,  5,  6,  3,  7,  4,  4,  5,  5,  8,  7,  9,  7, 12,  1,\n",
              "        3,  8,  6,  3,  5,  1,  4,  2,  4,  4,  8,  6,  6,  6,  6,  7,  0,\n",
              "        4,  2,  6,  4,  8,  3,  3,  7,  3,  6,  2,  5,  2,  2,  6,  3,  2,\n",
              "        3,  7,  9,  6,  7,  2,  3,  6,  2,  4,  2,  3,  5,  4,  8, 11,  5,\n",
              "       11,  2,  8, 11,  7,  2,  5,  4,  7, 10,  6,  5,  3,  2,  1,  1,  7,\n",
              "        9,  4,  3,  5,  5,  6,  7,  4,  3,  1,  7,  5,  5, 14,  1,  8,  0,\n",
              "        6,  2,  7,  2,  8,  6,  2,  6,  2,  9,  5,  4,  7,  7,  7,  2,  4,\n",
              "        8, 10,  7,  8,  4,  4,  5,  5,  6,  5,  2,  4,  5,  7,  4, 10,  4,\n",
              "        3,  9,  2,  6,  4,  4,  4,  7,  6,  7,  4,  2,  7,  1,  4,  4,  7,\n",
              "        5,  2,  8,  4,  6,  4,  6,  4,  5,  3,  5,  4,  3,  3,  5,  6,  7,\n",
              "        2,  7,  8,  3,  8,  3,  7,  6,  3,  6,  4,  2,  6,  6,  5,  6,  3,\n",
              "        6,  5,  9,  7,  4,  4,  5,  3,  6,  2,  4,  2,  7,  5,  6,  6,  5,\n",
              "        4,  7,  8,  3,  6,  3, 10,  8,  5,  8,  5,  6,  3,  5,  4,  4,  6,\n",
              "        4, 11,  5,  6,  5,  6,  4,  4,  5,  3,  5,  9,  3,  3,  7,  7,  5,\n",
              "        3,  8,  8,  9,  7,  2,  3,  9,  6,  7,  5,  7,  2,  4,  2,  4,  8,\n",
              "        2,  5,  4,  7,  5,  7,  3,  4, 11,  6,  0,  6,  4,  4,  3,  3,  1,\n",
              "        6,  7,  4,  3,  9,  3,  5,  4,  7,  1,  7,  3,  4,  0,  5,  5,  8,\n",
              "        9,  4,  3,  8,  5,  3,  8,  4,  2,  5,  2,  4,  4,  7,  4,  9,  4,\n",
              "        7,  3,  6,  2,  6,  4,  6,  8,  4,  3,  1,  3,  6, 10,  8,  4,  5,\n",
              "        3,  1,  5,  4,  4,  2,  1,  2,  5,  4,  7,  1,  5,  3,  6,  7,  6,\n",
              "        7,  7,  4,  7,  4,  5,  6,  7,  5,  6,  4,  6,  6,  9,  4,  7,  0,\n",
              "        5,  5,  2,  5,  4,  2,  3,  5,  4, 10,  3,  4,  4,  3,  5,  4,  8,\n",
              "        4,  3,  4,  6,  4,  7,  7, 11,  4,  5,  3,  4,  5,  6,  4,  3,  7,\n",
              "        4,  4,  5,  1, 11,  7,  9,  6,  5,  1,  3,  4,  6,  4,  3, 10,  8,\n",
              "        4, 10,  5,  1,  3,  5,  7,  4, 10,  7,  3,  5,  2,  7,  1,  2,  5,\n",
              "        5,  2,  5,  7,  3,  3,  2,  5,  3,  5,  5,  2,  6,  7,  6,  6,  3,\n",
              "        8,  7,  5,  8,  5,  7,  5,  3,  4,  8,  4,  5,  1,  5,  4,  5,  7,\n",
              "        3,  2,  7, 10,  7,  5,  7,  9,  3,  2,  7,  4,  3,  6,  4,  6,  6,\n",
              "        1,  4,  4,  4,  3,  3,  3,  3,  5,  1, 11,  3,  4,  3,  4,  8,  4,\n",
              "        4,  4,  7, 10,  6,  2,  6,  5, 12,  7,  2,  6,  3,  7,  5,  9,  8,\n",
              "        7,  6,  6,  5,  6,  4,  6,  0,  1,  3,  4,  4,  5,  3,  4,  6,  4,\n",
              "        4,  4,  3,  6,  4,  7,  3,  7,  9,  5,  8,  4,  5,  3,  6,  3,  5,\n",
              "        7,  7,  3,  3,  4,  2,  8,  8,  3,  3,  7,  2,  6,  3,  2,  6,  2,\n",
              "       11,  2,  3,  3,  1,  3,  6, 15,  5,  3,  5,  8,  5,  4,  9,  4,  3,\n",
              "        9,  8,  3, 12,  5,  2,  6,  8,  2,  1,  6,  6,  6,  2,  5,  2,  6,\n",
              "        2,  5,  3,  1,  5,  8,  8,  8,  7,  2,  6,  8,  6,  5,  5,  5,  4,\n",
              "        3,  4,  8,  3,  6,  2,  1,  6, 10,  3,  6,  9,  6,  7,  6,  6,  5,\n",
              "        5,  6,  5,  6,  7,  8,  5,  2,  5,  5,  3,  4,  8,  2,  8,  7,  3,\n",
              "        3,  3,  4,  8,  5,  8,  6,  4,  5,  5,  3,  6,  4,  7,  3,  5,  4,\n",
              "        3,  5,  4,  5,  4,  4,  7,  5,  7,  6,  6,  5,  8,  7,  5,  3,  3,\n",
              "        2,  8,  6,  5,  4,  4,  6,  6,  3,  2,  5,  1,  7,  3,  3,  5,  6,\n",
              "        5,  6,  3,  5,  4,  7,  9,  3,  7,  7,  6,  5,  4,  7,  4,  5,  6,\n",
              "        4,  8,  3,  3,  3,  5,  5,  5,  1,  6,  5,  6,  6,  4,  6,  3,  7,\n",
              "        7,  6,  3,  3,  4,  9,  4,  6,  5,  8,  5,  5,  7,  7,  6,  6,  5,\n",
              "       12,  2, 12,  8,  2,  3,  8,  7,  7,  5,  8,  8,  5,  5,  5,  5,  4,\n",
              "        8,  3,  2, 11,  4,  3,  6,  5,  7,  5,  7,  7, 10,  1,  5,  5,  5,\n",
              "        7,  7,  2, 10,  0,  7,  2,  5,  2,  3,  6,  7,  6,  5,  8,  9,  5,\n",
              "        7,  3,  7,  8,  3,  7,  4,  5,  7,  3,  6,  6,  4,  5,  7,  6,  6,\n",
              "        4,  5,  3,  5,  9,  5,  2,  4,  1,  3,  7,  5,  4, 10,  7,  7,  6,\n",
              "        2,  6,  6,  4,  6,  7,  9,  6,  4,  4, 15,  1,  2,  3,  7,  3,  6,\n",
              "        8,  5,  5,  0,  5,  3,  3,  4,  7,  3,  5,  2,  5,  3,  5,  4,  6,\n",
              "        5,  0,  6,  4,  8,  7,  7,  7,  6,  5,  4, 12,  8,  6,  4, 11,  7,\n",
              "        4,  3,  3,  3,  5,  4,  6,  5,  5,  5,  6,  2,  2, 11,  5,  3,  6,\n",
              "        5,  5,  3,  4,  7,  5,  5,  1,  5,  4,  3, 10,  3,  5,  3,  4,  4,\n",
              "        7,  9,  4,  6,  6,  1,  7,  3,  4,  3,  4,  4,  3,  5,  3,  6,  2,\n",
              "        4,  4,  3,  5,  5,  7,  4,  6, 12,  3,  4,  7,  6,  3,  4,  9,  7,\n",
              "        7,  5,  9,  5,  6,  1,  3,  6,  2,  2,  2,  8,  3,  7,  3,  7,  4,\n",
              "        1,  3,  6,  4,  4,  6,  2,  5,  7,  2,  8,  4,  8,  1,  5,  7,  6,\n",
              "        3,  7,  3,  8,  4, 10,  6,  6,  5,  5,  4,  4,  3, 10])"
            ]
          },
          "metadata": {
            "tags": []
          },
          "execution_count": 3
        }
      ]
    },
    {
      "cell_type": "code",
      "metadata": {
        "id": "PrV5P67h9bJ7",
        "colab_type": "code",
        "colab": {
          "base_uri": "https://localhost:8080/",
          "height": 268
        },
        "outputId": "b9a4081a-70f2-4d3d-c35e-950a98ef8ae3"
      },
      "source": [
        "#this data is not normally distributed\n",
        "import matplotlib.pyplot as plt\n",
        "plt.hist(sample);"
      ],
      "execution_count": 5,
      "outputs": [
        {
          "output_type": "display_data",
          "data": {
            "image/png": "[encoded data removed]",
            "text/plain": [
              "<Figure size 432x288 with 1 Axes>"
            ]
          },
          "metadata": {
            "tags": []
          }
        }
      ]
    },
    {
      "cell_type": "code",
      "metadata": {
        "id": "uJ4ySVdb-ECj",
        "colab_type": "code",
        "colab": {
          "base_uri": "https://localhost:8080/",
          "height": 34
        },
        "outputId": "4233e9d9-5c3a-485e-81ab-3fa36df2fd14"
      },
      "source": [
        "#running a normality test on it, is the data normally distributed?\n",
        "print(normaltest(sample))  # Pretty clearly not normal due to high p value"
      ],
      "execution_count": 6,
      "outputs": [
        {
          "output_type": "stream",
          "text": [
            "NormaltestResult(statistic=53.45532530051912, pvalue=2.4678774905973204e-12)\n"
          ],
          "name": "stdout"
        }
      ]
    },
    {
      "cell_type": "code",
      "metadata": {
        "id": "H1KIFTwO-chg",
        "colab_type": "code",
        "colab": {
          "base_uri": "https://localhost:8080/",
          "height": 34
        },
        "outputId": "3577921d-939d-479c-8d32-835edd56f5b4"
      },
      "source": [
        "#generating a normal distribution with a mean of 50 and std dev of 3\n",
        "sample = np.random.normal(50, 3, 1000)\n",
        "print(normaltest(sample)) "
      ],
      "execution_count": 7,
      "outputs": [
        {
          "output_type": "stream",
          "text": [
            "NormaltestResult(statistic=1.0348680605762306, pvalue=0.5960480285857734)\n"
          ],
          "name": "stdout"
        }
      ]
    },
    {
      "cell_type": "markdown",
      "metadata": {
        "id": "sncLXVPqADXp",
        "colab_type": "text"
      },
      "source": [
        "#T-Test Assumptions\n",
        "\n",
        "Null hypothesis is that the means of the two distributions are the same, and running this hypothesis of P-value that is less than 0.05."
      ]
    },
    {
      "cell_type": "code",
      "metadata": {
        "id": "mVZE2PQCAHqD",
        "colab_type": "code",
        "colab": {
          "base_uri": "https://localhost:8080/",
          "height": 34
        },
        "outputId": "2e781259-e17f-4015-810f-24928fc027ac"
      },
      "source": [
        "from scipy.stats import ttest_ind\n",
        "#so lets make two data sets and check the p-value\n",
        "skittles_fac_1 = np.random.normal(50, 5, size=100)\n",
        "skittles_fac_1 = skittles_fac_1.round().astype(int)\n",
        "skittles_fac_1[:10]"
      ],
      "execution_count": 17,
      "outputs": [
        {
          "output_type": "execute_result",
          "data": {
            "text/plain": [
              "array([52, 41, 51, 47, 42, 53, 49, 55, 52, 45])"
            ]
          },
          "metadata": {
            "tags": []
          },
          "execution_count": 17
        }
      ]
    },
    {
      "cell_type": "code",
      "metadata": {
        "id": "q68zYUPHBLjn",
        "colab_type": "code",
        "colab": {
          "base_uri": "https://localhost:8080/",
          "height": 34
        },
        "outputId": "1e60c457-a82f-4f26-9b3b-c8c2aa9baaa4"
      },
      "source": [
        "#getting the mean\n",
        "skittles_fac_1.mean()"
      ],
      "execution_count": 18,
      "outputs": [
        {
          "output_type": "execute_result",
          "data": {
            "text/plain": [
              "50.29"
            ]
          },
          "metadata": {
            "tags": []
          },
          "execution_count": 18
        }
      ]
    },
    {
      "cell_type": "code",
      "metadata": {
        "id": "4-q7zrOiBXdt",
        "colab_type": "code",
        "colab": {
          "base_uri": "https://localhost:8080/",
          "height": 268
        },
        "outputId": "0db1ce15-f12a-437b-e4e1-41c392e5006f"
      },
      "source": [
        "#first data set\n",
        "plt.hist(skittles_fac_1, bins=15);"
      ],
      "execution_count": 19,
      "outputs": [
        {
          "output_type": "display_data",
          "data": {
            "image/png": "[encoded data removed]",
            "text/plain": [
              "<Figure size 432x288 with 1 Axes>"
            ]
          },
          "metadata": {
            "tags": []
          }
        }
      ]
    },
    {
      "cell_type": "code",
      "metadata": {
        "id": "L8Fp4cjZBrjc",
        "colab_type": "code",
        "colab": {
          "base_uri": "https://localhost:8080/",
          "height": 34
        },
        "outputId": "dc82c03d-88d6-4e50-80e5-1b3df19cb056"
      },
      "source": [
        "#second set of data or distribution\n",
        "skittles_fac_2 = np.random.normal(49.3, 5.5, size=100)\n",
        "skittles_fac_2 = skittles_fac_2.round().astype(int)\n",
        "skittles_fac_2[:10]"
      ],
      "execution_count": 25,
      "outputs": [
        {
          "output_type": "execute_result",
          "data": {
            "text/plain": [
              "array([52, 44, 51, 45, 46, 53, 51, 54, 50, 44])"
            ]
          },
          "metadata": {
            "tags": []
          },
          "execution_count": 25
        }
      ]
    },
    {
      "cell_type": "code",
      "metadata": {
        "id": "9OksYN6xBvwK",
        "colab_type": "code",
        "colab": {
          "base_uri": "https://localhost:8080/",
          "height": 34
        },
        "outputId": "da0d0fd6-415c-41ed-8ab1-8562caff4764"
      },
      "source": [
        "skittles_fac_2.mean()"
      ],
      "execution_count": 26,
      "outputs": [
        {
          "output_type": "execute_result",
          "data": {
            "text/plain": [
              "48.49"
            ]
          },
          "metadata": {
            "tags": []
          },
          "execution_count": 26
        }
      ]
    },
    {
      "cell_type": "code",
      "metadata": {
        "id": "xjg2gfyBB1RJ",
        "colab_type": "code",
        "colab": {
          "base_uri": "https://localhost:8080/",
          "height": 268
        },
        "outputId": "e041241c-dd8d-4c83-81fb-5e6b797d24ee"
      },
      "source": [
        "#plotting second data set\n",
        "plt.hist(skittles_fac_2, bins=15);"
      ],
      "execution_count": 27,
      "outputs": [
        {
          "output_type": "display_data",
          "data": {
            "image/png": "[encoded data removed]",
            "text/plain": [
              "<Figure size 432x288 with 1 Axes>"
            ]
          },
          "metadata": {
            "tags": []
          }
        }
      ]
    },
    {
      "cell_type": "code",
      "metadata": {
        "id": "dZeTlWcIB57n",
        "colab_type": "code",
        "colab": {
          "base_uri": "https://localhost:8080/",
          "height": 34
        },
        "outputId": "e9a14aeb-58ea-42a2-d301-b70b8b0b3ef5"
      },
      "source": [
        "#performing the t-test\n",
        "ttest_ind(skittles_fac_1, skittles_fac_2)"
      ],
      "execution_count": 28,
      "outputs": [
        {
          "output_type": "execute_result",
          "data": {
            "text/plain": [
              "Ttest_indResult(statistic=2.3819263642990087, pvalue=0.018169499723603544)"
            ]
          },
          "metadata": {
            "tags": []
          },
          "execution_count": 28
        }
      ]
    },
    {
      "cell_type": "markdown",
      "metadata": {
        "id": "uONVsLSMDOb0",
        "colab_type": "text"
      },
      "source": [
        "#T-Test Conclusions"
      ]
    },
    {
      "cell_type": "code",
      "metadata": {
        "id": "IVLVrdMdB8w_",
        "colab_type": "code",
        "colab": {}
      },
      "source": [
        "#note if you change the sample size, say make it smaller\n",
        "#the p-value will increase because your deviations from the mean will be greater on average\n",
        "#pulling the means away from eachother results in a lower p-value\n",
        "#increasing std deviation will increase p-value\n",
        "\n",
        "#if the p-value is less than 0.05, you can claim it as significant\n",
        "#if the p-value is greater than 0.05, you can claim its the result of chance"
      ],
      "execution_count": 0,
      "outputs": []
    },
    {
      "cell_type": "markdown",
      "metadata": {
        "id": "mFr2XTf0ELBF",
        "colab_type": "text"
      },
      "source": [
        "#T-test doesn't say anything about the difference variances (standard deviations) - only their means\n"
      ]
    },
    {
      "cell_type": "code",
      "metadata": {
        "id": "JBgHmbEuEJlr",
        "colab_type": "code",
        "colab": {
          "base_uri": "https://localhost:8080/",
          "height": 270
        },
        "outputId": "d81b1987-b3a4-441e-d844-1f5f283d7d14"
      },
      "source": [
        "#illustrated here with two samples with same mean of 50\n",
        "#np.random.normal(mean, std deviation, size)\n",
        "skittles_fac_1 = np.random.normal(50, 2, size=5000)\n",
        "skittles_fac_1 = skittles_fac_1.round().astype(int)\n",
        "skittles_fac_1[:10]\n",
        "skittles_fac_2 = np.random.normal(50, 4, size=5000)\n",
        "skittles_fac_2 = skittles_fac_2.round().astype(int)\n",
        "skittles_fac_2[:10]\n",
        "\n",
        "#setting density=True normalizes the data so that the area underneath each is the same\n",
        "plt.hist(skittles_fac_1, alpha=0.5, color='b', density=True)\n",
        "plt.hist(skittles_fac_2, alpha=0.5, color='r', density=True);"
      ],
      "execution_count": 29,
      "outputs": [
        {
          "output_type": "display_data",
          "data": {
            "image/png": "[encoded data removed]",
            "text/plain": [
              "<Figure size 432x288 with 1 Axes>"
            ]
          },
          "metadata": {
            "tags": []
          }
        }
      ]
    },
    {
      "cell_type": "code",
      "metadata": {
        "id": "udWIcFNvE8uX",
        "colab_type": "code",
        "colab": {
          "base_uri": "https://localhost:8080/",
          "height": 34
        },
        "outputId": "9a8356c0-3d2a-484c-a70b-4290cdd79178"
      },
      "source": [
        "#large p-value makes sense because our two means are the same\n",
        "#this p-value doesn't allow us to reject the null hypothesis\n",
        "#we operate under the assumption that the two means are the same\n",
        "#we see that these two samples are obvisouly different though, \n",
        "ttest_ind(skittles_fac_1, skittles_fac_2)"
      ],
      "execution_count": 30,
      "outputs": [
        {
          "output_type": "execute_result",
          "data": {
            "text/plain": [
              "Ttest_indResult(statistic=0.15054221339275364, pvalue=0.8803398856273693)"
            ]
          },
          "metadata": {
            "tags": []
          },
          "execution_count": 30
        }
      ]
    },
    {
      "cell_type": "code",
      "metadata": {
        "id": "kp_1aoRQFNQ2",
        "colab_type": "code",
        "colab": {
          "base_uri": "https://localhost:8080/",
          "height": 34
        },
        "outputId": "36dcc0d0-f929-4181-eee4-dfda3366ee73"
      },
      "source": [
        "#if we want to detect and show that these sets are different\n",
        "#we can use the KS test\n",
        "#it takes this normalized historgram for two distributions \n",
        "#and creates cumulative probability distribution for two samples\n",
        "#and measures larger difference for two cumulative distributions\n",
        "#based on this difference it computes the p-value\n",
        "\n",
        "#null hypothesis is that the 2 distributions are the same\n",
        "#the really low p-value shows that the 2 distributions are NOT the same\n",
        "from scipy.stats import ks_2samp\n",
        "ks_2samp(skittles_fac_1, skittles_fac_2)"
      ],
      "execution_count": 32,
      "outputs": [
        {
          "output_type": "execute_result",
          "data": {
            "text/plain": [
              "Ks_2sampResult(statistic=0.1634, pvalue=1.1715419467159992e-58)"
            ]
          },
          "metadata": {
            "tags": []
          },
          "execution_count": 32
        }
      ]
    },
    {
      "cell_type": "code",
      "metadata": {
        "id": "j9vtxLJ_G3fG",
        "colab_type": "code",
        "colab": {
          "base_uri": "https://localhost:8080/",
          "height": 268
        },
        "outputId": "ed40d38e-ba45-463f-ca64-6b04441a814a"
      },
      "source": [
        "#changing the data to make these more similar\n",
        "skittles_fac_1 = np.random.normal(50, 3, size=5000)\n",
        "skittles_fac_1 = skittles_fac_1.round().astype(int)\n",
        "skittles_fac_1[:10]\n",
        "skittles_fac_2 = np.random.normal(50, 3.3, size=5000)\n",
        "skittles_fac_2 = skittles_fac_2.round().astype(int)\n",
        "skittles_fac_2[:10]\n",
        "\n",
        "#setting density=True normalizes the data so that the area underneath each is the same\n",
        "plt.hist(skittles_fac_1, alpha=0.5, color='b', density=True)\n",
        "plt.hist(skittles_fac_2, alpha=0.5, color='r', density=True);"
      ],
      "execution_count": 33,
      "outputs": [
        {
          "output_type": "display_data",
          "data": {
            "image/png": "[encoded data removed]",
            "text/plain": [
              "<Figure size 432x288 with 1 Axes>"
            ]
          },
          "metadata": {
            "tags": []
          }
        }
      ]
    },
    {
      "cell_type": "code",
      "metadata": {
        "id": "ZxePv1ZUHLR8",
        "colab_type": "code",
        "colab": {
          "base_uri": "https://localhost:8080/",
          "height": 34
        },
        "outputId": "978369a2-3b9c-418f-99d9-8eeca43bcab9"
      },
      "source": [
        "#because we have very large sample sizes, we are still able to get the p-value less than 0.05\n",
        "ks_2samp(skittles_fac_1, skittles_fac_2)"
      ],
      "execution_count": 34,
      "outputs": [
        {
          "output_type": "execute_result",
          "data": {
            "text/plain": [
              "Ks_2sampResult(statistic=0.0366, pvalue=0.002465208749609002)"
            ]
          },
          "metadata": {
            "tags": []
          },
          "execution_count": 34
        }
      ]
    },
    {
      "cell_type": "code",
      "metadata": {
        "id": "LjDcZV7KHU06",
        "colab_type": "code",
        "colab": {
          "base_uri": "https://localhost:8080/",
          "height": 34
        },
        "outputId": "57da13f7-811e-43b6-9eda-088135788a57"
      },
      "source": [
        "#writing a function that creates two normal distributions\n",
        "def get_two_norm_dist(mus, sigmas, sizes):\n",
        "  #initializing an empty list, thats what we'll return\n",
        "  dist_list = []\n",
        "  #range 2 for 2 distributions\n",
        "  for i in range(2):\n",
        "    #distribution will generate first mu, sigma, and size\n",
        "    dist = np.random.normal(mus[i], sigmas[i], size=sizes[i])\n",
        "    #round it and turn it into an integer (may or may not be right thing to do depending on your data)\n",
        "    dist = dist.round().astype(int)\n",
        "    #append this to the list\n",
        "    dist_list.append(dist)\n",
        "  return dist_list\n",
        "\n",
        "#now we can generate two distributions\n",
        "dist_1, dist_2 = get_two_norm_dist(mus=(50, 50), sigmas=(3, 3.3), sizes=(1000, 500))\n",
        "\n",
        "#and perform a ttest on them\n",
        "ttest_ind(dist_1, dist_2)\n",
        "\n",
        "#can not reject the null hypothesis because the P-value is large"
      ],
      "execution_count": 36,
      "outputs": [
        {
          "output_type": "execute_result",
          "data": {
            "text/plain": [
              "Ttest_indResult(statistic=0.28217542259767536, pvalue=0.7778479818587736)"
            ]
          },
          "metadata": {
            "tags": []
          },
          "execution_count": 36
        }
      ]
    },
    {
      "cell_type": "markdown",
      "metadata": {
        "id": "tJk1wWyFJgQz",
        "colab_type": "text"
      },
      "source": [
        "##Unfair Die Example - T-test vs. KS-Test"
      ]
    },
    {
      "cell_type": "code",
      "metadata": {
        "id": "E1l3Kp-dJfBR",
        "colab_type": "code",
        "colab": {}
      },
      "source": [
        "unfair_die = np.array(150*[1] + 130*[2] + 50*[3] + 50*[4] + 130*[5] + 150*[6])\n",
        "fair_die = np.array(110*[1] + 110*[2] + 110*[3] + 110*[4] + 110*[5] + 110*[6])"
      ],
      "execution_count": 0,
      "outputs": []
    },
    {
      "cell_type": "code",
      "metadata": {
        "id": "zNn9_kmNJmwP",
        "colab_type": "code",
        "colab": {
          "base_uri": "https://localhost:8080/",
          "height": 34
        },
        "outputId": "d51a85d0-188c-48f7-a56a-196e4393e8ea"
      },
      "source": [
        "unfair_die.mean()"
      ],
      "execution_count": 38,
      "outputs": [
        {
          "output_type": "execute_result",
          "data": {
            "text/plain": [
              "3.5"
            ]
          },
          "metadata": {
            "tags": []
          },
          "execution_count": 38
        }
      ]
    },
    {
      "cell_type": "code",
      "metadata": {
        "id": "gUAxZBbRLIXt",
        "colab_type": "code",
        "colab": {
          "base_uri": "https://localhost:8080/",
          "height": 34
        },
        "outputId": "4c4a317d-0f77-472b-82f2-f1928c202116"
      },
      "source": [
        "fair_die.mean()"
      ],
      "execution_count": 39,
      "outputs": [
        {
          "output_type": "execute_result",
          "data": {
            "text/plain": [
              "3.5"
            ]
          },
          "metadata": {
            "tags": []
          },
          "execution_count": 39
        }
      ]
    },
    {
      "cell_type": "code",
      "metadata": {
        "id": "xv-jcG7-LLmW",
        "colab_type": "code",
        "colab": {
          "base_uri": "https://localhost:8080/",
          "height": 34
        },
        "outputId": "2faf3352-6d39-411c-bce9-16c37d5df1b8"
      },
      "source": [
        "#normal t-test comparing means\n",
        "ttest_ind(unfair_die, fair_die) #This shows highest possible value for P"
      ],
      "execution_count": 40,
      "outputs": [
        {
          "output_type": "execute_result",
          "data": {
            "text/plain": [
              "Ttest_indResult(statistic=0.0, pvalue=1.0)"
            ]
          },
          "metadata": {
            "tags": []
          },
          "execution_count": 40
        }
      ]
    },
    {
      "cell_type": "code",
      "metadata": {
        "id": "I43kHcBnLPc4",
        "colab_type": "code",
        "colab": {
          "base_uri": "https://localhost:8080/",
          "height": 34
        },
        "outputId": "e4459f06-2742-4445-9bcd-9068fd77e391"
      },
      "source": [
        "#ks test comparing means and distribution\n",
        "ks_2samp(unfair_die, fair_die) #another example that this can detect differences in distribution"
      ],
      "execution_count": 41,
      "outputs": [
        {
          "output_type": "execute_result",
          "data": {
            "text/plain": [
              "Ks_2sampResult(statistic=0.09090909090909091, pvalue=0.008524685542396894)"
            ]
          },
          "metadata": {
            "tags": []
          },
          "execution_count": 41
        }
      ]
    },
    {
      "cell_type": "markdown",
      "metadata": {
        "id": "r0c8IHd6MLwv",
        "colab_type": "text"
      },
      "source": [
        "##Central Limit Theorem\n",
        "https://colab.research.google.com/drive/1HrCsKj9N3LYUqLiza2AVidg4izKY-i09#scrollTo=8V8RlyN4SaL0"
      ]
    },
    {
      "cell_type": "markdown",
      "metadata": {
        "id": "PPp4F78aMY8O",
        "colab_type": "text"
      },
      "source": [
        "#Confidence Intervals\n",
        "##Determine the level of confidence for a possible outcome\n",
        "\n",
        "Hypothesis testing is all about inferring some properties of the population, based on the sample.\n",
        "\n",
        "Often times you don't know the size of the population, or the population is so large that you can't collect all the data about it. \n",
        "\n",
        "One of the inferences is that the sample mean is close to the population mean. \n",
        "\n",
        "Based on our sample data, we can say that the population mean lies within this range\n"
      ]
    },
    {
      "cell_type": "markdown",
      "metadata": {
        "id": "HJQ0bsuQOkV6",
        "colab_type": "text"
      },
      "source": [
        "<img src=\"https://github.com/ryanallredblog/ryanallredblog.github.io/blob/master/img/Confidence_Interval.png?raw=true\" width=400>"
      ]
    },
    {
      "cell_type": "code",
      "metadata": {
        "id": "kjQBIh4nOKFR",
        "colab_type": "code",
        "colab": {
          "base_uri": "https://localhost:8080/",
          "height": 34
        },
        "outputId": "4a2a3302-90b4-4d43-bcb4-0310430bcbe4"
      },
      "source": [
        "#some madeup data... say 45% of people will vote for A, or B,... as an example\n",
        "pop = pd.Series(np.random.binomial(1, p=0.45, size=1000000))\n",
        "pop.sum()"
      ],
      "execution_count": 45,
      "outputs": [
        {
          "output_type": "execute_result",
          "data": {
            "text/plain": [
              "449476"
            ]
          },
          "metadata": {
            "tags": []
          },
          "execution_count": 45
        }
      ]
    },
    {
      "cell_type": "code",
      "metadata": {
        "id": "UVK3SLmMMYtn",
        "colab_type": "code",
        "colab": {}
      },
      "source": [
        "from scipy import stats \n",
        "\n",
        "def confidence_interval(data, confidence=0.95):\n",
        "  \"\"\"\n",
        "  Calculate a confidence interval around a sample mean for given data.\n",
        "  Using t-distribution and two-tailed test, default 95% confidence. \n",
        "  \n",
        "  Arguments:\n",
        "    data - iterable (list or numpy array) of sample observations\n",
        "    confidence - level of confidence for the interval\n",
        "  \n",
        "  Returns:\n",
        "    tuple of (mean, lower bound, upper bound)\n",
        "  \"\"\"\n",
        "  data = np.array(data)\n",
        "  mean = np.mean(data)\n",
        "  n = len(data)\n",
        "  stderr = stats.sem(data)\n",
        "  #this is a function that computes t for you\n",
        "  t = stats.t.ppf((1 + confidence) / 2.0, n - 1)\n",
        "  interval = stderr * t\n",
        "  return (mean, mean - interval, mean + interval)\n",
        "\n",
        "#returns mean and upper and lower bounds"
      ],
      "execution_count": 0,
      "outputs": []
    },
    {
      "cell_type": "code",
      "metadata": {
        "id": "IzHzb2_ROvwH",
        "colab_type": "code",
        "colab": {
          "base_uri": "https://localhost:8080/",
          "height": 123
        },
        "outputId": "9069df1d-1706-4257-da57-c71989a1036a"
      },
      "source": [
        "#lets generate the confidence intervals manual first\n",
        "#we'll do this with a sample size\n",
        "sample_size = 100\n",
        "sample = pop.sample(sample_size)\n",
        "sample.head()"
      ],
      "execution_count": 47,
      "outputs": [
        {
          "output_type": "execute_result",
          "data": {
            "text/plain": [
              "563042    0\n",
              "100549    0\n",
              "270385    1\n",
              "134974    1\n",
              "905346    1\n",
              "dtype: int64"
            ]
          },
          "metadata": {
            "tags": []
          },
          "execution_count": 47
        }
      ]
    },
    {
      "cell_type": "code",
      "metadata": {
        "id": "YdgcwFTXO7CU",
        "colab_type": "code",
        "colab": {
          "base_uri": "https://localhost:8080/",
          "height": 34
        },
        "outputId": "e379cd53-2c28-4536-b2de-ae8d002a1ba7"
      },
      "source": [
        "#lets find the mean, which tells us on average how these people will vote on average\n",
        "sample_mean = sample.mean()\n",
        "#remember to set the ddof to 1, it may make a difference here but mostly makes a difference in smaller sample sizes\n",
        "sample_std = np.std(sample, ddof=1)\n",
        "print(sample_mean, sample_std)"
      ],
      "execution_count": 50,
      "outputs": [
        {
          "output_type": "stream",
          "text": [
            "0.45 0.49999999999999994\n"
          ],
          "name": "stdout"
        }
      ]
    },
    {
      "cell_type": "markdown",
      "metadata": {
        "id": "iPqXPGP9PUe6",
        "colab_type": "text"
      },
      "source": [
        "##Standard Error"
      ]
    },
    {
      "cell_type": "code",
      "metadata": {
        "id": "jNj698rbPQfT",
        "colab_type": "code",
        "colab": {
          "base_uri": "https://localhost:8080/",
          "height": 34
        },
        "outputId": "350a06bb-7b09-4dc4-8d7f-e49b94d46616"
      },
      "source": [
        "#now we can find the standard error\n",
        "standard_error = sample_std/np.sqrt(sample_size)\n",
        "standard_error"
      ],
      "execution_count": 51,
      "outputs": [
        {
          "output_type": "execute_result",
          "data": {
            "text/plain": [
              "0.049999999999999996"
            ]
          },
          "metadata": {
            "tags": []
          },
          "execution_count": 51
        }
      ]
    },
    {
      "cell_type": "markdown",
      "metadata": {
        "id": "Tmf8pJnRP4Ve",
        "colab_type": "text"
      },
      "source": [
        "##T-distribution table"
      ]
    },
    {
      "cell_type": "code",
      "metadata": {
        "id": "NbPsBwi1PZfN",
        "colab_type": "code",
        "colab": {
          "base_uri": "https://localhost:8080/",
          "height": 34
        },
        "outputId": "6b248d60-eabd-4fd8-d1c0-a0ede31688e5"
      },
      "source": [
        "#for T-distrubtions\n",
        "#now we can get T, but where?\n",
        "#they used to be found on tables found here\n",
        "#http://uregina.ca/~gingrich/tt.pdf\n",
        "#took 95% column and 100 row, found 1.984\n",
        "#used 1.984 from 100 row, we don't have 100, but we have 99, so its close enough\n",
        "\n",
        "#for Normal Distributions\n",
        "#when samples get really large, use 1.96\n",
        "#https://en.wikipedia.org/wiki/1.96\n",
        "\n",
        "\n",
        "t = 1.984 # 95% confidence from table above\n",
        "(sample_mean, sample_mean - t*standard_error, sample_mean + t*standard_error)"
      ],
      "execution_count": 52,
      "outputs": [
        {
          "output_type": "execute_result",
          "data": {
            "text/plain": [
              "(0.45, 0.3508, 0.5492)"
            ]
          },
          "metadata": {
            "tags": []
          },
          "execution_count": 52
        }
      ]
    },
    {
      "cell_type": "code",
      "metadata": {
        "id": "X9XASYu7Rj2t",
        "colab_type": "code",
        "colab": {
          "base_uri": "https://localhost:8080/",
          "height": 34
        },
        "outputId": "e27d0746-4638-452c-809e-e5ccd16eb1ab"
      },
      "source": [
        "#comparing to the function above, we get fairly close results\n",
        "confidence_interval(sample, confidence=0.95)"
      ],
      "execution_count": 55,
      "outputs": [
        {
          "output_type": "execute_result",
          "data": {
            "text/plain": [
              "(0.45, 0.3507891524245659, 0.5492108475754341)"
            ]
          },
          "metadata": {
            "tags": []
          },
          "execution_count": 55
        }
      ]
    },
    {
      "cell_type": "code",
      "metadata": {
        "id": "3lkag0d5Sd-1",
        "colab_type": "code",
        "colab": {
          "base_uri": "https://localhost:8080/",
          "height": 34
        },
        "outputId": "9a352f6f-348e-4cf4-a96b-ace3572be166"
      },
      "source": [
        "print('We can say with 95% confidence that on average, the population mean lies within 35%-54% with a mean of 45%.')"
      ],
      "execution_count": 56,
      "outputs": [
        {
          "output_type": "stream",
          "text": [
            "We can say with 95% confidence that on average, the population mean lies within 35%-54% with a mean of 45%.\n"
          ],
          "name": "stdout"
        }
      ]
    },
    {
      "cell_type": "markdown",
      "metadata": {
        "id": "ofatQzrivSq7",
        "colab_type": "text"
      },
      "source": [
        "#Chi squared Test Example from Class Notes"
      ]
    },
    {
      "cell_type": "code",
      "metadata": {
        "id": "af2qec6mvZPo",
        "colab_type": "code",
        "colab": {}
      },
      "source": [
        ""
      ],
      "execution_count": 0,
      "outputs": []
    },
    {
      "cell_type": "markdown",
      "metadata": {
        "id": "5zS2MzzmwdxO",
        "colab_type": "text"
      },
      "source": [
        "##Probability Density Function\n",
        "\n",
        "A function that gives you the density of probability for *continuous* distributions. \n",
        "\n",
        "There are two types, continuous, or discrete. \n",
        "\n",
        "https://en.wikipedia.org/wiki/Probability_density_function\n",
        "\n",
        "<img src=\"https://upload.wikimedia.org/wikipedia/commons/thumb/1/1a/Boxplot_vs_PDF.svg/700px-Boxplot_vs_PDF.svg.png\" width=400>\n",
        "\n",
        "##Cumulative Distribution Function\n",
        "https://en.wikipedia.org/wiki/Cumulative_distribution_function\n",
        "\n",
        "<img src=\"https://upload.wikimedia.org/wikipedia/commons/thumb/c/ca/Normal_Distribution_CDF.svg/600px-Normal_Distribution_CDF.svg.png\" width=400>\n",
        "\n",
        "\n",
        "A good way to find the mean 'mu' of a normal distribution if you only have the CDF, is to look at where the area underneath the curve is 0.5. \n",
        "\n",
        "**Summary:**\n",
        "\n",
        "Probability Density Functions for: continuos distributions\n",
        "\n",
        "Probability Mass Function for: discrete distributions\n",
        "\n",
        "Cumulative Distiribution Function is independent of either.\n",
        "For discrete it would look like steps up, for continuous it would be smooth. \n",
        "\n",
        "<img src=\"https://www.researchgate.net/publication/48330115/figure/fig1/AS:393101261721610@1470734052767/Continuous-and-discrete-cumulative-distribution-functions.png\" width=400>\n",
        "\n",
        "\n"
      ]
    },
    {
      "cell_type": "markdown",
      "metadata": {
        "id": "Hd3vW-yMC5p5",
        "colab_type": "text"
      },
      "source": [
        "#Derive Bayes Theorem from the Law of Conditional Probability\n",
        "---\n",
        "\n"
      ]
    },
    {
      "cell_type": "markdown",
      "metadata": {
        "id": "hf5EwQM9C1GD",
        "colab_type": "text"
      },
      "source": [
        "#Bayesian Inference\n",
        "\n",
        "The general framework of bayesian inference is that it allows you to derive probabilities of certain events as new data and new information comes in. This can be very powerful. "
      ]
    },
    {
      "cell_type": "markdown",
      "metadata": {
        "id": "hclD9FSL57jq",
        "colab_type": "text"
      },
      "source": [
        "###One event happening\n",
        "\n",
        "By definition, the total probability of all outcomes (events) if some variable (event space) $A$ is 1. That is:\n",
        "\n",
        "$$P(A) = \\sum_n P(A_n) = 1$$\n",
        "\n",
        "and \n",
        "\n",
        "###Two events happening simultaneously\n",
        "\n",
        "The law of total probability states:\n",
        "\n",
        "$$P(A) = \\sum_n P(A | B_n) P(B_n)$$\n",
        "\n",
        "In other words - the total probability of  𝐴  is equal to the sum of the conditional probability of  𝐴  on any given event  𝐵𝑛  times the probability of that event  𝐵𝑛 , and summed over all possible events in  𝐵 ."
      ]
    },
    {
      "cell_type": "markdown",
      "metadata": {
        "id": "9pThZJ3s7Xmg",
        "colab_type": "text"
      },
      "source": [
        "##The Law of Conditional Probability\n",
        "\n",
        "What's the probability of something conditioned on something else? To determine this we have to go back to set theory and think about the intersection of sets:\n",
        "\n",
        "The formula for actual calculation:\n",
        "\n",
        "$$P(A|B) = \\frac{P(A \\cap B)}{P(B)}$$\n",
        "\n",
        "![Visualization of set intersection](https://upload.wikimedia.org/wikipedia/commons/9/99/Venn0001.svg)"
      ]
    },
    {
      "cell_type": "markdown",
      "metadata": {
        "id": "q6H7L2Lz9CL1",
        "colab_type": "text"
      },
      "source": [
        "Think of the overall rectangle as the whole probability space, $A$ as the left circle, $B$ as the right circle, and their intersection as the red area. Try to visualize the ratio being described in the above formula, and how it is different from just the $P(A)$ (not conditioned on $B$).\n",
        "\n",
        "We can see how this relates back to the law of total probability - multiply both sides by $P(B)$ and you get $P(A|B)P(B) = P(A \\cap B)$ - replaced back into the law of total probability we get $P(A) = \\sum_n P(A \\cap B_n)$.\n",
        "\n",
        "This may not seem like an improvement at first, but try to relate it back to the above picture - if you think of sets as physical objects, we're saying that the total probability of $A$ given $B$ is all the little pieces of it intersected with $B$, added together. The conditional probability is then just that again, but divided by the probability of $B$ itself happening in the first place.\n",
        "\n",
        "\\begin{align}\n",
        "P(A|B) &= \\frac{P(A \\cap B)}{P(B)}\\\\\n",
        "\\Rightarrow P(A|B)P(B) &= P(A \\cap B)\\\\\n",
        "P(B|A) &= \\frac{P(B \\cap A)}{P(A)}\\\\\n",
        "\\Rightarrow P(B|A)P(A) &= P(B \\cap A)\\\\\n",
        "\\Rightarrow P(A|B)P(B) &= P(B|A)P(A) \\\\\n",
        "P(A \\cap B) &= P(B \\cap A)\\\\\n",
        "P(A|B) &= \\frac{P(B|A) \\times P(A)}{P(B)}\n",
        "\\end{align}"
      ]
    },
    {
      "cell_type": "markdown",
      "metadata": {
        "id": "6YQiRt0D84NO",
        "colab_type": "text"
      },
      "source": [
        "<img src=\"https://miro.medium.com/max/1378/1*LCoOH68FcIqiOcFApNQZtA.jpeg\" width=600>"
      ]
    },
    {
      "cell_type": "code",
      "metadata": {
        "id": "9Q1_0MCM72oS",
        "colab_type": "code",
        "colab": {}
      },
      "source": [
        "# 1) P(A and B) == P(B and A)\n",
        "# 2) P(A given B) == P(A and B)/P(B) => P(A given B)*P(B) == P(A and B)\n",
        "# 3) P(B given A) == P(B and A)/P(A) => P(B given A)*P(A) == P(B and A)\n",
        "\n",
        "# P(A given B)*P(B) = P(B given A)*P(A)\n",
        "\n",
        "# P(A given B) = P(B given A)*P(A)/P(B)"
      ],
      "execution_count": 0,
      "outputs": []
    },
    {
      "cell_type": "markdown",
      "metadata": {
        "id": "lPjpnmNv9cai",
        "colab_type": "text"
      },
      "source": [
        "##Bayes Theorem Application - Drunk or Not?\n",
        "What is the likelihood somebody really is drunk if they test positive? Some may guess it's 92% - the difference between the true positives and the false positives. But we have a prior belief of the background/true rate of drunk driving. Sounds like a job for Bayes' theorem!\n",
        "\n",
        "$$\n",
        "\\begin{aligned}\n",
        "P(Drunk | Positive) &= \\frac{P(Positive | Drunk)P(Drunk)}{P(Positive)} \\\\\n",
        "&= \\frac{1 \\times 0.001}{0.08} \\\\\n",
        "&= 0.0125\n",
        "\\end{aligned}\n",
        "$$\n",
        "\n",
        "In other words, the likelihood that somebody is drunk given they tested positive with a breathalyzer in this situation is only 1.25% - probably much lower than you'd guess. This is why, in practice, it's important to have a repeated test to confirm (the probability of two false positives in a row is $0.08 * 0.08 = 0.0064$, much lower), and Bayes' theorem has been relevant in court cases where proper consideration of evidence was important."
      ]
    },
    {
      "cell_type": "code",
      "metadata": {
        "id": "Otlx02qo9s71",
        "colab_type": "code",
        "colab": {
          "base_uri": "https://localhost:8080/",
          "height": 34
        },
        "outputId": "b2e4bf2d-a3c1-46f4-d9de-a45c60b2afc1"
      },
      "source": [
        "#for the drunk example from class\n",
        "def prob_drunk_given_positive(prob_drunk_prior, prob_positive, prob_positive_drunk):\n",
        "    p_drunk = ((prob_positive_drunk * prob_drunk_prior) / (prob_positive)) * 100\n",
        "    return p_drunk\n",
        "\n",
        "print(prob_drunk_given_positive(1,.08,.001), '%')"
      ],
      "execution_count": 57,
      "outputs": [
        {
          "output_type": "stream",
          "text": [
            "1.25 %\n"
          ],
          "name": "stdout"
        }
      ]
    },
    {
      "cell_type": "markdown",
      "metadata": {
        "id": "1XjwPbzJ-bHc",
        "colab_type": "text"
      },
      "source": [
        "#99% Sensitive and 99% Specific\n",
        "This example comes from [Wikipedia](https://en.wikipedia.org/wiki/Bayes%27_theorem)\n",
        "\n",
        "Suppose that a test for using a particular drug is 99% sensitive and 99% specific. That is, the test will produce 99% true positive results for drug users and 99% true negative results for non-drug users. Suppose that 0.5% of people are users of the drug. What is the probability that a randomly selected individual with a positive test is a drug user?\n",
        "\n",
        "![](https://wikimedia.org/api/rest_v1/media/math/render/svg/95c6524a3736c43e4bae139713f3df2392e6eda9)\n",
        "\n",
        "Even if an individual tests positive, it is more likely that they do not use the drug than that they do. This is because the number of non-users is large compared to the number of users. The number of false positives outweighs the number of true positives. For example, if 1000 individuals are tested, there are expected to be 995 non-users and 5 users. From the 995 non-users, 0.01 × 995 ≃ 10 false positives are expected. From the 5 users, 0.99 × 5 ≈ 5 true positives are expected. Out of 15 positive results, only 5 are genuine.\n",
        "\n",
        "The importance of specificity in this example can be seen by calculating that even if sensitivity is raised to 100% and specificity remains at 99% then the probability of the person being a drug user only rises from 33.2% to 33.4%, but if the sensitivity is held at 99% and the specificity is increased to 99.5% then the probability of the person being a drug user rises to about 49.9%."
      ]
    },
    {
      "cell_type": "code",
      "metadata": {
        "id": "junM_oMo-acr",
        "colab_type": "code",
        "colab": {
          "base_uri": "https://localhost:8080/",
          "height": 34
        },
        "outputId": "d80f382c-71ff-431e-974d-0ed51f32c25e"
      },
      "source": [
        "#drug example from class\n",
        "\n",
        "#4 parameters to pass in for the drug example\n",
        "#Positive User\n",
        "tru_pos = 0.99\n",
        "#User\n",
        "drug_user = 0.005\n",
        "#Positive Non User\n",
        "non_user = 0.01\n",
        "#Non User\n",
        "pos_user = .995\n",
        "\n",
        "def prob_positive_given_random(tru_pos, drug_user, non_user, pos_user):\n",
        "  p_user_plus = (tru_pos * drug_user) / ((tru_pos * drug_user) + (non_user * pos_user)) * 100\n",
        "  return p_user_plus\n",
        "\n",
        "print(round(prob_positive_given_random(tru_pos, drug_user, non_user, pos_user),3),'%')"
      ],
      "execution_count": 58,
      "outputs": [
        {
          "output_type": "stream",
          "text": [
            "33.221 %\n"
          ],
          "name": "stdout"
        }
      ]
    },
    {
      "cell_type": "code",
      "metadata": {
        "id": "euIbaOXnGmgQ",
        "colab_type": "code",
        "colab": {
          "base_uri": "https://localhost:8080/",
          "height": 34
        },
        "outputId": "30b4d97f-a9b8-416a-9e98-71cfb5b6120c"
      },
      "source": [
        "#attempting to loop this\n",
        "\n",
        "#4 parameters to pass in for the drug example\n",
        "#Positive User\n",
        "tru_pos = 0.99\n",
        "#User\n",
        "drug_user = 0.005\n",
        "#Positive Non User\n",
        "non_user = 0.01\n",
        "#Non User\n",
        "pos_user = .995\n",
        "\n",
        "def prob_positive_given_random(tru_pos, drug_user, non_user, pos_user):\n",
        "  posterior_list = []\n",
        "  p_user_plus = (tru_pos * drug_user) / ((tru_pos * drug_user) + (non_user * pos_user))\n",
        "  posterior_list.append(p_user_plus)\n",
        "  return p_user_plus\n",
        "  return posterior_list\n",
        "\n",
        "print(round(prob_positive_given_random(tru_pos, drug_user, non_user, pos_user),3))"
      ],
      "execution_count": 80,
      "outputs": [
        {
          "output_type": "stream",
          "text": [
            "0.332\n"
          ],
          "name": "stdout"
        }
      ]
    },
    {
      "cell_type": "code",
      "metadata": {
        "id": "2OJpghVEAeiH",
        "colab_type": "code",
        "colab": {
          "base_uri": "https://localhost:8080/",
          "height": 34
        },
        "outputId": "6e0c1532-3be3-4a84-bd19-5a09ea88a4a9"
      },
      "source": [
        "#what if we wanted another independent lab to check our results of the first test?\n",
        "#we just update the prior numbers to the result of the first test, like this\n",
        "#so, running a 2nd gets you closer\n",
        "\n",
        "print(round(prob_positive_given_random(0.99, 0.33221, .01, .995),3),'%')"
      ],
      "execution_count": 60,
      "outputs": [
        {
          "output_type": "stream",
          "text": [
            "97.063 %\n"
          ],
          "name": "stdout"
        }
      ]
    },
    {
      "cell_type": "code",
      "metadata": {
        "id": "Ba-ZpwWpBNd1",
        "colab_type": "code",
        "colab": {
          "base_uri": "https://localhost:8080/",
          "height": 34
        },
        "outputId": "7cddb006-276e-47b3-ff24-a8ef347e3f81"
      },
      "source": [
        "#what about a third time?\n",
        "print(round(prob_positive_given_random(0.99, 0.97063, .01, .995),3),'%')\n",
        "#now we can be sure that the test is not as random as it is initially"
      ],
      "execution_count": 61,
      "outputs": [
        {
          "output_type": "stream",
          "text": [
            "98.975 %\n"
          ],
          "name": "stdout"
        }
      ]
    },
    {
      "cell_type": "code",
      "metadata": {
        "id": "hGDQ85-ZBYnt",
        "colab_type": "code",
        "colab": {}
      },
      "source": [
        "#function from class as opposed to my function written above\n",
        "def bayes_theorem(prior, false_neg, false_pos, num_iter):\n",
        "  #initiating an empty list\n",
        "  posterior_list = []\n",
        "  #range num_iter for \n",
        "  for i in range(num_iter):\n",
        "    posterior = ((prior * false_neg) / ((prior * false_neg) + (false_pos * num_iter))) # write your code here\n",
        "    posterior_list.append(posterior)\n",
        "  return posterior_list\n",
        "\n",
        "bayes_theorem(.99, .005, .01, .995);\n",
        "bayes_theorem"
      ],
      "execution_count": 0,
      "outputs": []
    },
    {
      "cell_type": "code",
      "metadata": {
        "id": "HJmxop6cE4FI",
        "colab_type": "code",
        "colab": {
          "base_uri": "https://localhost:8080/",
          "height": 283
        },
        "outputId": "f9f5943e-b391-43aa-e76f-eccae76006cb"
      },
      "source": [
        "#alex kims\n",
        "def bayes_theorem(prior, false_neg, false_pos, num_iter):\n",
        "  posterior_list = []\n",
        "  posterior = prior\n",
        "  for i in range(num_iter):\n",
        "    posterior = (1-false_neg)*posterior/((1-false_neg)*posterior + false_pos*(1-posterior))\n",
        "    posterior_list.append(posterior)\n",
        "  return posterior_list\n",
        "\n",
        "bayes_theorem(0.005, 0.01, 0.01, 15)"
      ],
      "execution_count": 82,
      "outputs": [
        {
          "output_type": "execute_result",
          "data": {
            "text/plain": [
              "[0.33221476510067116,\n",
              " 0.9801000000000001,\n",
              " 0.9997949506335922,\n",
              " 0.9999979283737839,\n",
              " 0.9999999790744397,\n",
              " 0.9999999997886307,\n",
              " 0.999999999997865,\n",
              " 0.9999999999999785,\n",
              " 0.9999999999999998,\n",
              " 1.0,\n",
              " 1.0,\n",
              " 1.0,\n",
              " 1.0,\n",
              " 1.0,\n",
              " 1.0]"
            ]
          },
          "metadata": {
            "tags": []
          },
          "execution_count": 82
        }
      ]
    },
    {
      "cell_type": "code",
      "metadata": {
        "id": "_Ik3kD-lHlz4",
        "colab_type": "code",
        "colab": {}
      },
      "source": [
        "#breaking down alex's code\n",
        "#posterior = ((1 - .01) * .005) / (( 1 - .01 ) * .005 ) + (.01 * 1-.005)\n",
        "#posterior = (.99 * .005) / (.99 * .005) + (.01 * .995)"
      ],
      "execution_count": 0,
      "outputs": []
    },
    {
      "cell_type": "code",
      "metadata": {
        "id": "SCkDNL-HFDcr",
        "colab_type": "code",
        "colab": {
          "base_uri": "https://localhost:8080/",
          "height": 123
        },
        "outputId": "3eabacd2-e38a-4d4b-e5a5-ad238bbced9e"
      },
      "source": [
        "#paul kutrich\n",
        "def bayes(bga, a, b):\n",
        "  num = bga * a\n",
        "  not_a = 1 - a\n",
        "  denom = num + b * not_a\n",
        "\n",
        "  return num / denom\n",
        "\n",
        "def repeat_bayes(bga, a, b, reps):\n",
        "  for _ in range(reps):\n",
        "    a = bayes(bga, a, b)\n",
        "    print(a)\n",
        "\n",
        "pos_g_drunk = .99\n",
        "drunk = 0.001\n",
        "pos = .01\n",
        "\n",
        "repeat_bayes(pos_g_drunk, drunk, pos, 6)"
      ],
      "execution_count": 75,
      "outputs": [
        {
          "output_type": "stream",
          "text": [
            "0.09016393442622951\n",
            "0.9075000000000001\n",
            "0.9989714794017902\n",
            "0.9999896003148012\n",
            "0.9999998949515932\n",
            "0.9999999989389049\n"
          ],
          "name": "stdout"
        }
      ]
    },
    {
      "cell_type": "markdown",
      "metadata": {
        "id": "tI7gv9eRDDc7",
        "colab_type": "text"
      },
      "source": [
        "#Calculate Bayesian Confidence Intervals"
      ]
    },
    {
      "cell_type": "markdown",
      "metadata": {
        "id": "m11VkHIxNA25",
        "colab_type": "text"
      },
      "source": [
        "Class Notes:\n",
        "https://colab.research.google.com/drive/1cQuMCerEOQSYOOgCOO4xAdSBRBHtOUe8#scrollTo=h-OP3v-VnIRj"
      ]
    },
    {
      "cell_type": "code",
      "metadata": {
        "id": "JzVODer_IYIw",
        "colab_type": "code",
        "colab": {
          "base_uri": "https://localhost:8080/",
          "height": 105
        },
        "outputId": "5528b348-1cd0-47f0-b111-c5f034eb8e9d"
      },
      "source": [
        "import numpy as np\n",
        "from scipy import stats\n",
        "\n",
        "np.random.seed(seed=42)\n",
        "coinflips = np.random.binomial(n=1, p=0.5, size=100)\n",
        "coinflips"
      ],
      "execution_count": 86,
      "outputs": [
        {
          "output_type": "execute_result",
          "data": {
            "text/plain": [
              "array([0, 1, 1, 1, 0, 0, 0, 1, 1, 1, 0, 1, 1, 0, 0, 0, 0, 1, 0, 0, 1, 0,\n",
              "       0, 0, 0, 1, 0, 1, 1, 0, 1, 0, 0, 1, 1, 1, 0, 0, 1, 0, 0, 0, 0, 1,\n",
              "       0, 1, 0, 1, 1, 0, 1, 1, 1, 1, 1, 1, 0, 0, 0, 0, 0, 0, 1, 0, 0, 1,\n",
              "       0, 1, 0, 1, 1, 0, 0, 1, 1, 1, 1, 0, 0, 0, 1, 1, 0, 0, 0, 0, 1, 1,\n",
              "       1, 0, 0, 1, 1, 1, 1, 0, 1, 0, 0, 0])"
            ]
          },
          "metadata": {
            "tags": []
          },
          "execution_count": 86
        }
      ]
    },
    {
      "cell_type": "code",
      "metadata": {
        "id": "9C-UbQrtIdZL",
        "colab_type": "code",
        "colab": {
          "base_uri": "https://localhost:8080/",
          "height": 34
        },
        "outputId": "7700c86b-c9b6-47eb-d614-facb2a901a5c"
      },
      "source": [
        "#defining the confidence interval function\n",
        "def confidence_interval(data, alpha=.9): #accepting two arguments, data and alpha as confidence interval\n",
        "  n = len(data) #size of our sample\n",
        "  mean = sum(data)/n #the mean\n",
        "  data = np.array(data) #converts the list to an array, if already an array it does not effect the data\n",
        "  stderr = stats.sem(data) #computing standard error\n",
        "  t = stats.t.ppf((1 + alpha) / 2.0, n-1) #computing t statistics\n",
        "  interval = stderr * t #getting our interval to calculate lower and upper bounds\n",
        "  return (mean , mean-interval, mean+interval)\n",
        "\n",
        "#outputting confidence interval from coinflips\n",
        "confidence_interval(coinflips)"
      ],
      "execution_count": 88,
      "outputs": [
        {
          "output_type": "execute_result",
          "data": {
            "text/plain": [
              "(0.47, 0.3867125284491557, 0.5532874715508442)"
            ]
          },
          "metadata": {
            "tags": []
          },
          "execution_count": 88
        }
      ]
    },
    {
      "cell_type": "code",
      "metadata": {
        "id": "_mXkdrdSJg2v",
        "colab_type": "code",
        "colab": {
          "base_uri": "https://localhost:8080/",
          "height": 70
        },
        "outputId": "dc2401ab-8224-490c-e43b-df648a90c46b"
      },
      "source": [
        "#calculate this confidence interval using the bayesian method\n",
        "stats.bayes_mvs(coinflips)"
      ],
      "execution_count": 93,
      "outputs": [
        {
          "output_type": "execute_result",
          "data": {
            "text/plain": [
              "(Mean(statistic=0.47, minmax=(0.38671252844915566, 0.5532874715508442)),\n",
              " Variance(statistic=0.25680412371134015, minmax=(0.20215017434095595, 0.323311952657888)),\n",
              " Std_dev(statistic=0.5054540733507159, minmax=(0.44961113680708126, 0.5686052696360524)))"
            ]
          },
          "metadata": {
            "tags": []
          },
          "execution_count": 93
        }
      ]
    },
    {
      "cell_type": "code",
      "metadata": {
        "id": "yo8GBuvMJ9gW",
        "colab_type": "code",
        "colab": {
          "base_uri": "https://localhost:8080/",
          "height": 34
        },
        "outputId": "a2238999-e60d-4e83-911a-affe6cd25102"
      },
      "source": [
        "#if we are only interested in the first row we can do this:\n",
        "mean_conf_inter,_,_ = stats.bayes_mvs(coinflips, alpha=0.9)\n",
        "mean_conf_inter"
      ],
      "execution_count": 92,
      "outputs": [
        {
          "output_type": "execute_result",
          "data": {
            "text/plain": [
              "Mean(statistic=0.47, minmax=(0.38671252844915566, 0.5532874715508442))"
            ]
          },
          "metadata": {
            "tags": []
          },
          "execution_count": 92
        }
      ]
    },
    {
      "cell_type": "markdown",
      "metadata": {
        "id": "6E0KFmDwDP4K",
        "colab_type": "text"
      },
      "source": [
        "##Real World Experiment Design\n",
        "\n",
        "Deploy a static A/B instrumented webpage\n",
        "\n",
        "Evaluate and summarize findings from real-world A/B test data"
      ]
    },
    {
      "cell_type": "markdown",
      "metadata": {
        "id": "Sx3zjtbGJgNB",
        "colab_type": "text"
      },
      "source": [
        "#Type 1 Error\n",
        "\n",
        "A type 1 error is when the null is true and you reject it."
      ]
    },
    {
      "cell_type": "markdown",
      "metadata": {
        "id": "znVT27GnJsuL",
        "colab_type": "text"
      },
      "source": [
        "#Type 2 Error\n",
        "A type 2 error is when the null is false and you fail to reject it."
      ]
    },
    {
      "cell_type": "markdown",
      "metadata": {
        "id": "mNjBiJmIJ6Pv",
        "colab_type": "text"
      },
      "source": [
        "##Researchers need to confirm that certains pill contain a particular amount of active ingredient (not more, not less). What type of t-test should they use?\n",
        "\n",
        "Two tailed test."
      ]
    },
    {
      "cell_type": "markdown",
      "metadata": {
        "id": "4-m_M30qK08I",
        "colab_type": "text"
      },
      "source": [
        "##Researchers need to confirm that the manufacturer produces no more than a certain percentage of defective products. What type of t-test should they use?\n",
        "\n",
        "One tailed test."
      ]
    },
    {
      "cell_type": "markdown",
      "metadata": {
        "id": "X69nWRrNK-DM",
        "colab_type": "text"
      },
      "source": [
        "##You want to do a study (based on people’s survey). You decided to collect data from sources that are more convenient than doing a randomized data collection. How might this choice affect your conclusion?\n",
        "\n",
        "Biased sampling."
      ]
    },
    {
      "cell_type": "markdown",
      "metadata": {
        "id": "OTeUXYQEMwRO",
        "colab_type": "text"
      },
      "source": [
        "###A researcher wants to be thorough. She takes several samples to test her belief that the population mean is a certain value:  120.  To do so she forms an appropriate null hypothesis and alternative hypothesis: HA > 120 and selects alpha = 0.05: a) State the null hypothesis. b) She repeats the sampling process 40 times. How many times would you expect that she would make an error in her conclusion and reject H0 if indeed the population mean really is 120?\n",
        "\n",
        ".95 * 40 = 38\n",
        "\n",
        "40-38 = 2\n",
        "\n"
      ]
    },
    {
      "cell_type": "markdown",
      "metadata": {
        "id": "ggxN6wewRigG",
        "colab_type": "text"
      },
      "source": [
        "##What is the CDF of a normal distribution?\n",
        "\n",
        "The cumulative distribution function (CDF) of the standard normal distribution, usually denoted with the capital Greek letter (phi), is the integral. The related error function gives the probability of a random variable with normal distribution of mean 0 and variance 1/2 falling in the range. \n",
        "\n",
        "This can also be described as the area under the curve. "
      ]
    }
  ]
}