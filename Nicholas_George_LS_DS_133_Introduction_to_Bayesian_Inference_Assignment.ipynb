{
  "nbformat": 4,
  "nbformat_minor": 0,
  "metadata": {
    "colab": {
      "name": "Nicholas George - LS_DS_133_Introduction_to_Bayesian_Inference_Assignment.ipynb",
      "provenance": [],
      "include_colab_link": true
    },
    "kernelspec": {
      "name": "python3",
      "display_name": "Python 3"
    }
  },
  "cells": [
    {
      "cell_type": "markdown",
      "metadata": {
        "id": "view-in-github",
        "colab_type": "text"
      },
      "source": [
        "<a href=\"https://colab.research.google.com/github/npgeorge/DS-Unit-1-Sprint-3-Statistical-Tests-and-Experiments/blob/master/Nicholas_George_LS_DS_133_Introduction_to_Bayesian_Inference_Assignment.ipynb\" target=\"_parent\"><img src=\"https://colab.research.google.com/assets/colab-badge.svg\" alt=\"Open In Colab\"/></a>"
      ]
    },
    {
      "cell_type": "markdown",
      "metadata": {
        "id": "H7OLbevlbd_Z",
        "colab_type": "text"
      },
      "source": [
        "# Lambda School Data Science Module 133\n",
        "\n",
        "## Introduction to Bayesian Inference\n",
        "\n",
        "\n"
      ]
    },
    {
      "cell_type": "markdown",
      "metadata": {
        "id": "P-DzzRk5bf0z",
        "colab_type": "text"
      },
      "source": [
        "## Assignment - Code it up!\n",
        "\n",
        "Most of the above was pure math - now write Python code to reproduce the results! This is purposefully open ended - you'll have to think about how you should represent probabilities and events. You can and should look things up, and as a stretch goal - refactor your code into helpful reusable functions!\n",
        "\n",
        "Specific goals/targets:\n",
        "\n",
        "1. Write a function `def prob_drunk_given_positive(prob_drunk_prior, prob_positive, prob_positive_drunk)` that reproduces the example from lecture, and use it to calculate and visualize a range of situations\n",
        "2. Explore `scipy.stats.bayes_mvs` - read its documentation, and experiment with it on data you've tested in other ways earlier this week\n",
        "3. Create a visualization comparing the results of a Bayesian approach to a traditional/frequentist approach\n",
        "4. In your own words, summarize the difference between Bayesian and Frequentist statistics\n",
        "\n",
        "If you're unsure where to start, check out [this blog post of Bayes theorem with Python](https://dataconomy.com/2015/02/introduction-to-bayes-theorem-with-python/) - you could and should create something similar!\n",
        "\n",
        "Stretch goals:\n",
        "\n",
        "- Apply a Bayesian technique to a problem you previously worked (in an assignment or project work) on from a frequentist (standard) perspective\n",
        "- Check out [PyMC3](https://docs.pymc.io/) (note this goes beyond hypothesis tests into modeling) - read the guides and work through some examples\n",
        "- Take PyMC3 further - see if you can build something with it!"
      ]
    },
    {
      "cell_type": "code",
      "metadata": {
        "id": "kIYDAe1DhlrA",
        "colab_type": "code",
        "colab": {
          "base_uri": "https://localhost:8080/",
          "height": 34
        },
        "outputId": "5cbf30fe-1ce2-4f07-93d7-f771dd289e6a"
      },
      "source": [
        "#for the drunk example from class\n",
        "def prob_drunk_given_positive(prob_drunk_prior, prob_positive, prob_positive_drunk):\n",
        "    p_drunk = ((prob_positive_drunk * prob_drunk_prior) / (prob_positive)) * 100\n",
        "    return p_drunk\n",
        "\n",
        "print(prob_drunk_given_positive(1,.08,.001), '%')\n"
      ],
      "execution_count": 36,
      "outputs": [
        {
          "output_type": "stream",
          "text": [
            "1.25 %\n"
          ],
          "name": "stdout"
        }
      ]
    },
    {
      "cell_type": "code",
      "metadata": {
        "id": "xpVhZyUnbf7o",
        "colab_type": "code",
        "colab": {
          "base_uri": "https://localhost:8080/",
          "height": 34
        },
        "outputId": "78dbd0ec-fef2-4046-8d32-909c1eef506b"
      },
      "source": [
        "#drug example from class\n",
        "\n",
        "#4 parameters to pass in for the drug example\n",
        "#Positive User\n",
        "tru_pos = 0.99\n",
        "#User\n",
        "drug_user = 0.005\n",
        "#Positive Non User\n",
        "non_user = 0.01\n",
        "#Non User\n",
        "pos_user = .995\n",
        "\n",
        "def prob_positive_given_random(tru_pos, drug_user, non_user, pos_user):\n",
        "  p_user_plus = (tru_pos * drug_user) / ((tru_pos * drug_user) + (non_user * pos_user)) * 100\n",
        "  return p_user_plus\n",
        "\n",
        "print(round(prob_positive_given_random(tru_pos, user, non_user, pos_user),3),'%')"
      ],
      "execution_count": 37,
      "outputs": [
        {
          "output_type": "stream",
          "text": [
            "33.221 %\n"
          ],
          "name": "stdout"
        }
      ]
    },
    {
      "cell_type": "code",
      "metadata": {
        "id": "jgZCaWKzTrZ5",
        "colab_type": "code",
        "colab": {
          "base_uri": "https://localhost:8080/",
          "height": 34
        },
        "outputId": "d6426423-bb2f-4c21-e12c-2c57ffc40b4d"
      },
      "source": [
        "prob_positive_given_random(0.95, 0.006, 0.01, .994)"
      ],
      "execution_count": 29,
      "outputs": [
        {
          "output_type": "execute_result",
          "data": {
            "text/plain": [
              "36.44501278772378"
            ]
          },
          "metadata": {
            "tags": []
          },
          "execution_count": 29
        }
      ]
    },
    {
      "cell_type": "markdown",
      "metadata": {
        "id": "ZcQi63h8WBa0",
        "colab_type": "text"
      },
      "source": [
        "##Scenario 2"
      ]
    },
    {
      "cell_type": "markdown",
      "metadata": {
        "id": "9_OB2f5FVy2t",
        "colab_type": "text"
      },
      "source": [
        "Suppose that a test for using a particular drug is **80%** sensitive and 99% specific. That is, the test will produce **80%** true positive results for drug users and **80%** true negative results for non-drug users. Suppose that **1%** of people are users of the drug. What is the probability that a randomly selected individual with a positive test is a drug user?"
      ]
    },
    {
      "cell_type": "code",
      "metadata": {
        "id": "HpeqneplVt8R",
        "colab_type": "code",
        "colab": {
          "base_uri": "https://localhost:8080/",
          "height": 34
        },
        "outputId": "cc571bdb-d157-4607-8ddf-d1b8e6271528"
      },
      "source": [
        "prob_positive_given_random(0.80, 0.01, 0.2, .99)"
      ],
      "execution_count": 30,
      "outputs": [
        {
          "output_type": "execute_result",
          "data": {
            "text/plain": [
              "3.8834951456310676"
            ]
          },
          "metadata": {
            "tags": []
          },
          "execution_count": 30
        }
      ]
    },
    {
      "cell_type": "markdown",
      "metadata": {
        "id": "rDjqX9CdWutv",
        "colab_type": "text"
      },
      "source": [
        "##Scenario 3"
      ]
    },
    {
      "cell_type": "markdown",
      "metadata": {
        "id": "Fx6H8pq6WxjX",
        "colab_type": "text"
      },
      "source": [
        "Suppose that a test for using a particular drug is **60%** sensitive and 60% specific. That is, the test will produce **60%** true positive results for drug users and **60%** true negative results for non-drug users. Suppose that **20%** of people are users of the drug. What is the probability that a randomly selected individual with a positive test is a drug user?"
      ]
    },
    {
      "cell_type": "code",
      "metadata": {
        "id": "PwCzk__aW9hs",
        "colab_type": "code",
        "colab": {
          "base_uri": "https://localhost:8080/",
          "height": 34
        },
        "outputId": "81fae014-e224-4314-f1a1-877e2053b469"
      },
      "source": [
        "prob_postive_given_random(0.60, .20, .40, .80)"
      ],
      "execution_count": 31,
      "outputs": [
        {
          "output_type": "execute_result",
          "data": {
            "text/plain": [
              "27.27272727272727"
            ]
          },
          "metadata": {
            "tags": []
          },
          "execution_count": 31
        }
      ]
    },
    {
      "cell_type": "code",
      "metadata": {
        "id": "X4SjwqmKeF-v",
        "colab_type": "code",
        "colab": {
          "base_uri": "https://localhost:8080/",
          "height": 70
        },
        "outputId": "3b606c5d-12c9-4cdf-a1a3-d423dd89dd51"
      },
      "source": [
        "#Bayesian confidence intervals for the mean, var, and std.\n",
        "#find with this function: scipy.stats.bayes_mvs\n",
        "\n",
        "#mean_cntr, var_cntr, std_cntrtuple\n",
        "#The three results are for the mean, variance and \n",
        "#standard deviation, respectively. Each result is \n",
        "#a tuple of the form:(center, (lower, upper))\n",
        "#with center the mean of the conditional pdf of \n",
        "#the value given the data, and (lower, upper) a \n",
        "#confidence interval, centered on the median, containing \n",
        "#the estimate to a probability alpha.\n",
        "\n",
        "import numpy as np\n",
        "from scipy import stats\n",
        "\n",
        "#example\n",
        "data = [236, 191, 218, 229, 84, 235, 162, 66, \n",
        "        18, 50, 269, 195, 33, 55, 157, 29, 79, \n",
        "        252, 45, 250, 135, 80, 90, 132, 202, 210, \n",
        "        299, 123, 264, 99, 241, 47, 272, 271, 37, \n",
        "        32, 290, 48, 109, 284, 111, 76, 267, 124, \n",
        "        26, 200, 108, 86, 17, 152]\n",
        "mean, var, std = stats.bayes_mvs(data)\n",
        "print(mean)\n",
        "print(var)\n",
        "print(std)"
      ],
      "execution_count": 26,
      "outputs": [
        {
          "output_type": "stream",
          "text": [
            "Mean(statistic=145.7, minmax=(124.36630079073277, 167.0336992092672))\n",
            "Variance(statistic=8440.478723404256, minmax=(5979.9605026542085, 11691.68661373266))\n",
            "Std_dev(statistic=91.38473081178017, minmax=(77.3302043360433, 108.12810279355067))\n"
          ],
          "name": "stdout"
        }
      ]
    },
    {
      "cell_type": "markdown",
      "metadata": {
        "id": "1JhtVm6fmMRl",
        "colab_type": "text"
      },
      "source": [
        "##Frequentist Approach\n",
        "\n",
        "Great article, my notes/summary below:\n",
        "https://www.analyticsvidhya.com/blog/2016/06/bayesian-statistics-beginners-simple-english/\n",
        "\n",
        "The problem with the frequentist approach is the \"Dependence of the result of an experiment on the number of times the experiment is repeated.\"\n",
        "\n",
        "That is to say the normal distribution will only start to show up on an experiment repeated a large amount of times. \n",
        "\n",
        "On top of that, if two people decide to flip coins as separate experiments, say person 1 flips 100 coins but person 2 flips 1000 coins, the p-values will vary, which is undesirable. \n",
        "\n",
        "Confidence Intervals also depends heavily on sample size. \n",
        "\n",
        "Confidence Intervals (C.I) are not probability distributions therefore they do not provide the most probable value for a parameter and the most probable values."
      ]
    },
    {
      "cell_type": "markdown",
      "metadata": {
        "id": "z33wdO_un_Ta",
        "colab_type": "text"
      },
      "source": [
        "##Bayesian Approach\n",
        "\n",
        "“Bayesian statistics is a mathematical procedure that applies probabilities to statistical problems. It provides people the tools to update their beliefs in the evidence of new data.”"
      ]
    },
    {
      "cell_type": "code",
      "metadata": {
        "id": "h-OP3v-VnIRj",
        "colab_type": "code",
        "colab": {
          "base_uri": "https://localhost:8080/",
          "height": 425
        },
        "outputId": "603efb0f-ef71-46fe-c938-0cf3b495d938"
      },
      "source": [
        "import numpy as np\n",
        "import pandas as pd\n",
        "import random\n",
        "import matplotlib.pyplot as plt \n",
        "\n",
        "#flipping a coin 10 times, counting how many times heads occured\n",
        "np.random.seed(42)\n",
        "n=10\n",
        "p=0.5\n",
        "# let us repeat our experiment for 500 times\n",
        "size=500\n",
        "cointoss=np.random.binomial(n=n, p=p, size=size)\n",
        "cointoss"
      ],
      "execution_count": 60,
      "outputs": [
        {
          "output_type": "execute_result",
          "data": {
            "text/plain": [
              "array([4, 8, 6, 5, 3, 3, 3, 7, 5, 6, 2, 8, 7, 4, 4, 4, 4, 5, 5, 4, 5, 3,\n",
              "       4, 4, 5, 6, 4, 5, 5, 2, 5, 3, 3, 8, 8, 6, 4, 3, 6, 5, 3, 5, 2, 7,\n",
              "       4, 6, 4, 5, 5, 4, 8, 6, 7, 7, 5, 7, 3, 4, 2, 4, 5, 4, 7, 4, 4, 5,\n",
              "       3, 6, 3, 8, 6, 4, 1, 6, 6, 6, 6, 3, 4, 3, 7, 6, 4, 3, 4, 4, 6, 6,\n",
              "       7, 5, 3, 6, 6, 5, 6, 5, 5, 5, 2, 3, 2, 6, 4, 5, 7, 4, 5, 6, 4, 3,\n",
              "       4, 3, 7, 6, 6, 7, 6, 4, 7, 5, 6, 7, 4, 3, 4, 5, 6, 7, 1, 5, 5, 4,\n",
              "       3, 4, 7, 4, 5, 6, 4, 8, 8, 4, 5, 4, 4, 2, 5, 5, 2, 4, 7, 4, 3, 5,\n",
              "       8, 4, 6, 6, 4, 6, 4, 6, 6, 5, 3, 7, 4, 4, 2, 5, 6, 2, 5, 4, 6, 4,\n",
              "       6, 5, 7, 3, 4, 3, 7, 7, 4, 6, 6, 5, 5, 4, 3, 7, 7, 6, 4, 4, 6, 7,\n",
              "       7, 6, 6, 3, 3, 7, 5, 1, 3, 6, 1, 3, 5, 6, 6, 4, 6, 4, 4, 6, 6, 7,\n",
              "       6, 5, 3, 4, 4, 4, 8, 5, 7, 6, 6, 5, 5, 5, 4, 6, 4, 2, 6, 4, 7, 8,\n",
              "       7, 4, 2, 7, 5, 8, 8, 7, 4, 5, 7, 4, 3, 5, 7, 6, 5, 3, 5, 9, 3, 5,\n",
              "       7, 6, 6, 6, 4, 4, 6, 6, 7, 7, 5, 5, 6, 6, 6, 6, 7, 4, 4, 3, 5, 2,\n",
              "       5, 5, 4, 5, 2, 2, 6, 4, 3, 5, 6, 4, 5, 3, 2, 5, 5, 6, 6, 8, 5, 4,\n",
              "       6, 4, 5, 3, 2, 8, 7, 6, 5, 4, 3, 4, 5, 6, 6, 4, 8, 6, 5, 5, 5, 4,\n",
              "       4, 6, 2, 3, 2, 2, 7, 6, 5, 3, 5, 5, 4, 5, 5, 5, 6, 2, 4, 6, 5, 7,\n",
              "       6, 3, 3, 6, 2, 5, 7, 5, 5, 6, 5, 5, 7, 5, 8, 7, 4, 3, 3, 2, 3, 6,\n",
              "       3, 4, 7, 2, 6, 4, 3, 6, 6, 7, 6, 6, 4, 4, 6, 6, 9, 5, 4, 6, 4, 7,\n",
              "       7, 5, 6, 6, 3, 7, 5, 6, 4, 7, 5, 2, 7, 3, 4, 8, 8, 5, 6, 5, 4, 4,\n",
              "       6, 6, 6, 6, 3, 5, 3, 5, 5, 7, 4, 3, 3, 6, 5, 3, 3, 6, 3, 6, 6, 3,\n",
              "       3, 8, 4, 4, 6, 8, 8, 6, 4, 3, 6, 5, 5, 7, 3, 5, 2, 5, 3, 3, 3, 6,\n",
              "       6, 5, 8, 4, 4, 7, 4, 8, 2, 8, 2, 7, 5, 9, 3, 5, 8, 5, 6, 6, 5, 6,\n",
              "       5, 7, 2, 4, 8, 7, 5, 5, 4, 4, 5, 4, 5, 3, 8, 8])"
            ]
          },
          "metadata": {
            "tags": []
          },
          "execution_count": 60
        }
      ]
    },
    {
      "cell_type": "code",
      "metadata": {
        "id": "ms1xzzpvvK5d",
        "colab_type": "code",
        "colab": {}
      },
      "source": [
        "coinstossed = [4, 8, 6, 5, 3, 3, 3, 7, 5, 6, 2, 8, 7, 4, 4, 4, 4, 5, 5, 4, 5, 3,\n",
        "       4, 4, 5, 6, 4, 5, 5, 2, 5, 3, 3, 8, 8, 6, 4, 3, 6, 5, 3, 5, 2, 7,\n",
        "       4, 6, 4, 5, 5, 4, 8, 6, 7, 7, 5, 7, 3, 4, 2, 4, 5, 4, 7, 4, 4, 5,\n",
        "       3, 6, 3, 8, 6, 4, 1, 6, 6, 6, 6, 3, 4, 3, 7, 6, 4, 3, 4, 4, 6, 6,\n",
        "       7, 5, 3, 6, 6, 5, 6, 5, 5, 5, 2, 3, 2, 6, 4, 5, 7, 4, 5, 6, 4, 3,\n",
        "       4, 3, 7, 6, 6, 7, 6, 4, 7, 5, 6, 7, 4, 3, 4, 5, 6, 7, 1, 5, 5, 4,\n",
        "       3, 4, 7, 4, 5, 6, 4, 8, 8, 4, 5, 4, 4, 2, 5, 5, 2, 4, 7, 4, 3, 5,\n",
        "       8, 4, 6, 6, 4, 6, 4, 6, 6, 5, 3, 7, 4, 4, 2, 5, 6, 2, 5, 4, 6, 4,\n",
        "       6, 5, 7, 3, 4, 3, 7, 7, 4, 6, 6, 5, 5, 4, 3, 7, 7, 6, 4, 4, 6, 7,\n",
        "       7, 6, 6, 3, 3, 7, 5, 1, 3, 6, 1, 3, 5, 6, 6, 4, 6, 4, 4, 6, 6, 7,\n",
        "       6, 5, 3, 4, 4, 4, 8, 5, 7, 6, 6, 5, 5, 5, 4, 6, 4, 2, 6, 4, 7, 8,\n",
        "       7, 4, 2, 7, 5, 8, 8, 7, 4, 5, 7, 4, 3, 5, 7, 6, 5, 3, 5, 9, 3, 5,\n",
        "       7, 6, 6, 6, 4, 4, 6, 6, 7, 7, 5, 5, 6, 6, 6, 6, 7, 4, 4, 3, 5, 2,\n",
        "       5, 5, 4, 5, 2, 2, 6, 4, 3, 5, 6, 4, 5, 3, 2, 5, 5, 6, 6, 8, 5, 4,\n",
        "       6, 4, 5, 3, 2, 8, 7, 6, 5, 4, 3, 4, 5, 6, 6, 4, 8, 6, 5, 5, 5, 4,\n",
        "       4, 6, 2, 3, 2, 2, 7, 6, 5, 3, 5, 5, 4, 5, 5, 5, 6, 2, 4, 6, 5, 7,\n",
        "       6, 3, 3, 6, 2, 5, 7, 5, 5, 6, 5, 5, 7, 5, 8, 7, 4, 3, 3, 2, 3, 6,\n",
        "       3, 4, 7, 2, 6, 4, 3, 6, 6, 7, 6, 6, 4, 4, 6, 6, 9, 5, 4, 6, 4, 7,\n",
        "       7, 5, 6, 6, 3, 7, 5, 6, 4, 7, 5, 2, 7, 3, 4, 8, 8, 5, 6, 5, 4, 4,\n",
        "       6, 6, 6, 6, 3, 5, 3, 5, 5, 7, 4, 3, 3, 6, 5, 3, 3, 6, 3, 6, 6, 3,\n",
        "       3, 8, 4, 4, 6, 8, 8, 6, 4, 3, 6, 5, 5, 7, 3, 5, 2, 5, 3, 3, 3, 6,\n",
        "       6, 5, 8, 4, 4, 7, 4, 8, 2, 8, 2, 7, 5, 9, 3, 5, 8, 5, 6, 6, 5, 6,\n",
        "       5, 7, 2, 4, 8, 7, 5, 5, 4, 4, 5, 4, 5, 3, 8, 8]"
      ],
      "execution_count": 0,
      "outputs": []
    },
    {
      "cell_type": "code",
      "metadata": {
        "id": "QVSIsPKgs4Jy",
        "colab_type": "code",
        "colab": {
          "base_uri": "https://localhost:8080/",
          "height": 34
        },
        "outputId": "78eb9207-bc5f-41bf-8e07-4b3a488612d8"
      },
      "source": [
        "#count how many times we saw each\n",
        "count = [np.equal(x,i).sum() for i in range(n)]\n",
        "count"
      ],
      "execution_count": 76,
      "outputs": [
        {
          "output_type": "execute_result",
          "data": {
            "text/plain": [
              "[0, 1, 5, 16, 23, 21, 19, 9, 6, 0]"
            ]
          },
          "metadata": {
            "tags": []
          },
          "execution_count": 76
        }
      ]
    },
    {
      "cell_type": "code",
      "metadata": {
        "id": "Cjcf3GSDtLhi",
        "colab_type": "code",
        "colab": {
          "base_uri": "https://localhost:8080/",
          "height": 34
        },
        "outputId": "5f1480fd-c43c-4c7a-d755-dec57dea0c02"
      },
      "source": [
        "#normalized, the percent chance of flipping heads X number of times out of 500 flips\n",
        "probs_500 = [np.equal(x,i).mean() for i in range(n)]\n",
        "probs_500"
      ],
      "execution_count": 77,
      "outputs": [
        {
          "output_type": "execute_result",
          "data": {
            "text/plain": [
              "[0.0, 0.01, 0.05, 0.16, 0.23, 0.21, 0.19, 0.09, 0.06, 0.0]"
            ]
          },
          "metadata": {
            "tags": []
          },
          "execution_count": 77
        }
      ]
    },
    {
      "cell_type": "code",
      "metadata": {
        "id": "S2uZI3Igrudj",
        "colab_type": "code",
        "colab": {
          "base_uri": "https://localhost:8080/",
          "height": 70
        },
        "outputId": "fb7674f3-abaa-48a9-c29d-2e7308e33aaa"
      },
      "source": [
        "stats.bayes_mvs(cointoss, alpha=0.9)"
      ],
      "execution_count": 79,
      "outputs": [
        {
          "output_type": "execute_result",
          "data": {
            "text/plain": [
              "(Mean(statistic=4.972, minmax=(4.851701334295432, 5.092298665704568)),\n",
              " Variance(statistic=2.6752676056338034, minmax=(2.4083840412996196, 2.9665584467496755)),\n",
              " Std_dev(statistic=1.6348019894540835, minmax=(1.5518969170984327, 1.7223700086652913)))"
            ]
          },
          "metadata": {
            "tags": []
          },
          "execution_count": 79
        }
      ]
    },
    {
      "cell_type": "code",
      "metadata": {
        "id": "cTdaVVkIr1ZY",
        "colab_type": "code",
        "colab": {
          "base_uri": "https://localhost:8080/",
          "height": 286
        },
        "outputId": "cb8f7be9-2103-4643-b451-388d68286638"
      },
      "source": [
        "plt.xticks(range(n));\n",
        "plt.plot(list(range(n)), probs_500, color='blue', marker='o');\n",
        "plt.xlabel('Number of Heads',fontsize=14);\n",
        "plt.ylabel('Probability',fontsize=14);"
      ],
      "execution_count": 82,
      "outputs": [
        {
          "output_type": "display_data",
          "data": {
            "image/png": "[encoded data removed]",
            "text/plain": [
              "<Figure size 432x288 with 1 Axes>"
            ]
          },
          "metadata": {
            "tags": []
          }
        }
      ]
    },
    {
      "cell_type": "markdown",
      "metadata": {
        "id": "rMIji4jMmfm4",
        "colab_type": "text"
      },
      "source": [
        "##Bayesian Approach\n",
        "\n"
      ]
    },
    {
      "cell_type": "markdown",
      "metadata": {
        "id": "uWgWjp3PQ3Sq",
        "colab_type": "text"
      },
      "source": [
        "## Resources"
      ]
    },
    {
      "cell_type": "markdown",
      "metadata": {
        "id": "QRgHqmYIQ9qn",
        "colab_type": "text"
      },
      "source": [
        "- [Worked example of Bayes rule calculation](https://en.wikipedia.org/wiki/Bayes'_theorem#Examples) (helpful as it fully breaks out the denominator)\n",
        "- [Source code for mvsdist in scipy](https://github.com/scipy/scipy/blob/90534919e139d2a81c24bf08341734ff41a3db12/scipy/stats/morestats.py#L139)"
      ]
    }
  ]
}