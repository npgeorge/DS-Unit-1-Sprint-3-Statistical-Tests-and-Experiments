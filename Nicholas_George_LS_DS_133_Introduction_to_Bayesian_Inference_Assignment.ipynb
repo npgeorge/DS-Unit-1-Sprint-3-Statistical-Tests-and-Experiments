{
  "nbformat": 4,
  "nbformat_minor": 0,
  "metadata": {
    "colab": {
      "name": "Nicholas George - LS_DS_133_Introduction_to_Bayesian_Inference_Assignment.ipynb",
      "provenance": [],
      "include_colab_link": true
    },
    "kernelspec": {
      "name": "python3",
      "display_name": "Python 3"
    }
  },
  "cells": [
    {
      "cell_type": "markdown",
      "metadata": {
        "id": "view-in-github",
        "colab_type": "text"
      },
      "source": [
        "<a href=\"https://colab.research.google.com/github/npgeorge/DS-Unit-1-Sprint-3-Statistical-Tests-and-Experiments/blob/master/Nicholas_George_LS_DS_133_Introduction_to_Bayesian_Inference_Assignment.ipynb\" target=\"_parent\"><img src=\"https://colab.research.google.com/assets/colab-badge.svg\" alt=\"Open In Colab\"/></a>"
      ]
    },
    {
      "cell_type": "markdown",
      "metadata": {
        "id": "H7OLbevlbd_Z",
        "colab_type": "text"
      },
      "source": [
        "# Lambda School Data Science Module 133\n",
        "\n",
        "## Introduction to Bayesian Inference\n",
        "\n",
        "\n"
      ]
    },
    {
      "cell_type": "markdown",
      "metadata": {
        "id": "P-DzzRk5bf0z",
        "colab_type": "text"
      },
      "source": [
        "## Assignment - Code it up!\n",
        "\n",
        "Most of the above was pure math - now write Python code to reproduce the results! This is purposefully open ended - you'll have to think about how you should represent probabilities and events. You can and should look things up, and as a stretch goal - refactor your code into helpful reusable functions!\n",
        "\n",
        "Specific goals/targets:\n",
        "\n",
        "1. Write a function `def prob_drunk_given_positive(prob_drunk_prior, prob_positive, prob_positive_drunk)` that reproduces the example from lecture, and use it to calculate and visualize a range of situations\n",
        "2. Explore `scipy.stats.bayes_mvs` - read its documentation, and experiment with it on data you've tested in other ways earlier this week\n",
        "3. Create a visualization comparing the results of a Bayesian approach to a traditional/frequentist approach\n",
        "4. In your own words, summarize the difference between Bayesian and Frequentist statistics\n",
        "\n",
        "If you're unsure where to start, check out [this blog post of Bayes theorem with Python](https://dataconomy.com/2015/02/introduction-to-bayes-theorem-with-python/) - you could and should create something similar!\n",
        "\n",
        "Stretch goals:\n",
        "\n",
        "- Apply a Bayesian technique to a problem you previously worked (in an assignment or project work) on from a frequentist (standard) perspective\n",
        "- Check out [PyMC3](https://docs.pymc.io/) (note this goes beyond hypothesis tests into modeling) - read the guides and work through some examples\n",
        "- Take PyMC3 further - see if you can build something with it!"
      ]
    },
    {
      "cell_type": "code",
      "metadata": {
        "id": "kIYDAe1DhlrA",
        "colab_type": "code",
        "outputId": "02c954b3-8831-479d-fba6-30797ac63720",
        "colab": {
          "base_uri": "https://localhost:8080/",
          "height": 34
        }
      },
      "source": [
        "#for the drunk example from class\n",
        "def prob_drunk_given_positive(prob_drunk_prior, prob_positive, prob_positive_drunk):\n",
        "    p_drunk = ((prob_positive_drunk * prob_drunk_prior) / (prob_positive)) * 100\n",
        "    return p_drunk\n",
        "\n",
        "print(prob_drunk_given_positive(1,.08,.001), '%')\n"
      ],
      "execution_count": 7,
      "outputs": [
        {
          "output_type": "stream",
          "text": [
            "1.25 %\n"
          ],
          "name": "stdout"
        }
      ]
    },
    {
      "cell_type": "code",
      "metadata": {
        "id": "xpVhZyUnbf7o",
        "colab_type": "code",
        "outputId": "625543e5-7a89-4bef-e597-102867f8d146",
        "colab": {
          "base_uri": "https://localhost:8080/",
          "height": 34
        }
      },
      "source": [
        "#drug example from class\n",
        "\n",
        "#4 parameters to pass in for the drug example\n",
        "#Positive User\n",
        "tru_pos = 0.99\n",
        "#User\n",
        "drug_user = 0.005\n",
        "#Positive Non User\n",
        "non_user = 0.01\n",
        "#Non User\n",
        "pos_user = .995\n",
        "\n",
        "def prob_positive_given_random(tru_pos, drug_user, non_user, pos_user):\n",
        "  p_user_plus = (tru_pos * drug_user) / ((tru_pos * drug_user) + (non_user * pos_user)) * 100\n",
        "  return p_user_plus\n",
        "\n",
        "print(round(prob_positive_given_random(tru_pos, drug_user, non_user, pos_user),3),'%')"
      ],
      "execution_count": 8,
      "outputs": [
        {
          "output_type": "stream",
          "text": [
            "33.221 %\n"
          ],
          "name": "stdout"
        }
      ]
    },
    {
      "cell_type": "code",
      "metadata": {
        "id": "jgZCaWKzTrZ5",
        "colab_type": "code",
        "outputId": "c07a7b6a-f4f3-46ca-b7b7-9376e68662f5",
        "colab": {
          "base_uri": "https://localhost:8080/",
          "height": 34
        }
      },
      "source": [
        "prob_positive_given_random(0.95, 0.006, 0.01, .994)"
      ],
      "execution_count": 9,
      "outputs": [
        {
          "output_type": "execute_result",
          "data": {
            "text/plain": [
              "36.44501278772378"
            ]
          },
          "metadata": {
            "tags": []
          },
          "execution_count": 9
        }
      ]
    },
    {
      "cell_type": "markdown",
      "metadata": {
        "id": "ZcQi63h8WBa0",
        "colab_type": "text"
      },
      "source": [
        "##Scenario 2"
      ]
    },
    {
      "cell_type": "markdown",
      "metadata": {
        "id": "9_OB2f5FVy2t",
        "colab_type": "text"
      },
      "source": [
        "Suppose that a test for using a particular drug is **80%** sensitive and 99% specific. That is, the test will produce **80%** true positive results for drug users and **80%** true negative results for non-drug users. Suppose that **1%** of people are users of the drug. What is the probability that a randomly selected individual with a positive test is a drug user?"
      ]
    },
    {
      "cell_type": "code",
      "metadata": {
        "id": "HpeqneplVt8R",
        "colab_type": "code",
        "outputId": "7b56be4f-b5dd-420f-ab1b-0c1b2ad1b6e3",
        "colab": {
          "base_uri": "https://localhost:8080/",
          "height": 34
        }
      },
      "source": [
        "prob_positive_given_random(0.80, 0.01, 0.2, .99)"
      ],
      "execution_count": 13,
      "outputs": [
        {
          "output_type": "execute_result",
          "data": {
            "text/plain": [
              "3.8834951456310676"
            ]
          },
          "metadata": {
            "tags": []
          },
          "execution_count": 13
        }
      ]
    },
    {
      "cell_type": "markdown",
      "metadata": {
        "id": "rDjqX9CdWutv",
        "colab_type": "text"
      },
      "source": [
        "##Scenario 3"
      ]
    },
    {
      "cell_type": "markdown",
      "metadata": {
        "id": "Fx6H8pq6WxjX",
        "colab_type": "text"
      },
      "source": [
        "Suppose that a test for using a particular drug is **60%** sensitive and 60% specific. That is, the test will produce **60%** true positive results for drug users and **60%** true negative results for non-drug users. Suppose that **20%** of people are users of the drug. What is the probability that a randomly selected individual with a positive test is a drug user?"
      ]
    },
    {
      "cell_type": "code",
      "metadata": {
        "id": "PwCzk__aW9hs",
        "colab_type": "code",
        "outputId": "8772ac61-0755-4070-c3d3-0dfc65235a1f",
        "colab": {
          "base_uri": "https://localhost:8080/",
          "height": 34
        }
      },
      "source": [
        "prob_positive_given_random(0.60, .20, .40, .80)"
      ],
      "execution_count": 14,
      "outputs": [
        {
          "output_type": "execute_result",
          "data": {
            "text/plain": [
              "27.27272727272727"
            ]
          },
          "metadata": {
            "tags": []
          },
          "execution_count": 14
        }
      ]
    },
    {
      "cell_type": "code",
      "metadata": {
        "id": "X4SjwqmKeF-v",
        "colab_type": "code",
        "outputId": "8df465ac-ab65-4a31-a586-383034347771",
        "colab": {
          "base_uri": "https://localhost:8080/",
          "height": 70
        }
      },
      "source": [
        "#Bayesian confidence intervals for the mean, var, and std.\n",
        "#find with this function: scipy.stats.bayes_mvs\n",
        "\n",
        "#mean_cntr, var_cntr, std_cntrtuple\n",
        "#The three results are for the mean, variance and \n",
        "#standard deviation, respectively. Each result is \n",
        "#a tuple of the form:(center, (lower, upper))\n",
        "#with center the mean of the conditional pdf of \n",
        "#the value given the data, and (lower, upper) a \n",
        "#confidence interval, centered on the median, containing \n",
        "#the estimate to a probability alpha.\n",
        "\n",
        "import numpy as np\n",
        "from scipy import stats\n",
        "\n",
        "#example\n",
        "data = [236, 191, 218, 229, 84, 235, 162, 66, \n",
        "        18, 50, 269, 195, 33, 55, 157, 29, 79, \n",
        "        252, 45, 250, 135, 80, 90, 132, 202, 210, \n",
        "        299, 123, 264, 99, 241, 47, 272, 271, 37, \n",
        "        32, 290, 48, 109, 284, 111, 76, 267, 124, \n",
        "        26, 200, 108, 86, 17, 152]\n",
        "mean, var, std = stats.bayes_mvs(data)\n",
        "print(mean)\n",
        "print(var)\n",
        "print(std)"
      ],
      "execution_count": 15,
      "outputs": [
        {
          "output_type": "stream",
          "text": [
            "Mean(statistic=145.7, minmax=(124.36630079073277, 167.0336992092672))\n",
            "Variance(statistic=8440.478723404256, minmax=(5979.9605026542085, 11691.68661373266))\n",
            "Std_dev(statistic=91.38473081178017, minmax=(77.3302043360433, 108.12810279355067))\n"
          ],
          "name": "stdout"
        }
      ]
    },
    {
      "cell_type": "markdown",
      "metadata": {
        "id": "1JhtVm6fmMRl",
        "colab_type": "text"
      },
      "source": [
        "##Frequentist Approach\n",
        "\n",
        "Great article, my notes/summary below:\n",
        "https://www.analyticsvidhya.com/blog/2016/06/bayesian-statistics-beginners-simple-english/\n",
        "\n",
        "The problem with the frequentist approach is the \"Dependence of the result of an experiment on the number of times the experiment is repeated.\"\n",
        "\n",
        "That is to say the normal distribution will only start to show up on an experiment repeated a large amount of times. \n",
        "\n",
        "On top of that, if two people decide to flip coins as separate experiments, say person 1 flips 100 coins but person 2 flips 1000 coins, the p-values will vary, which is undesirable. \n",
        "\n",
        "Confidence Intervals also depends heavily on sample size. \n",
        "\n",
        "Confidence Intervals (C.I) are not probability distributions therefore they do not provide the most probable value for a parameter and the most probable values."
      ]
    },
    {
      "cell_type": "markdown",
      "metadata": {
        "id": "z33wdO_un_Ta",
        "colab_type": "text"
      },
      "source": [
        "##Bayesian Approach\n",
        "\n",
        "“Bayesian statistics is a mathematical procedure that applies probabilities to statistical problems. It provides people the tools to update their beliefs in the evidence of new data.”"
      ]
    },
    {
      "cell_type": "code",
      "metadata": {
        "id": "h-OP3v-VnIRj",
        "colab_type": "code",
        "colab": {}
      },
      "source": [
        "import numpy as np\n",
        "import pandas as pd\n",
        "import random\n",
        "import matplotlib.pyplot as plt \n",
        "np.random.seed(42)\n",
        "\n",
        "#flipping a coin 10 times, counting how many times heads occured\n",
        "#flip coins n times, count how many times heads occured, do this 'size' times.\n",
        "#np.random.binomial gives 'n' as the number of trials\n",
        "#'p' probability of each trial\n",
        "\n",
        "def coins(n, p, size):\n",
        "  cointoss=np.random.binomial(n, p, size)\n",
        "  return cointoss\n",
        "  \n",
        "one_hundo = coins(10,0.5,100)\n",
        "two_hundo = coins(10,0.5,200)\n",
        "three_hundo = coins(10,0.5,300)\n",
        "four_hundo = coins(10,0.5,400)\n",
        "five_hundo = coins(10,0.5,500)\n",
        "one_thou = coins(10,0.5,1000)\n",
        "five_thou = coins(10,0.5,5000)\n",
        "ten_thou = coins(10,0.5,10000)"
      ],
      "execution_count": 0,
      "outputs": []
    },
    {
      "cell_type": "code",
      "metadata": {
        "id": "lLSY-t-YGlKP",
        "colab_type": "code",
        "colab": {
          "base_uri": "https://localhost:8080/",
          "height": 268
        },
        "outputId": "61f5a409-fcc4-4353-ac21-83407c5f4818"
      },
      "source": [
        "#matched the bins with the amount of times the coin was flipped per trial at 10\n",
        "plt.hist(one_hundo, bins=[1,2,3,4,5,6,7,8,9,10]);"
      ],
      "execution_count": 125,
      "outputs": [
        {
          "output_type": "display_data",
          "data": {
            "image/png": "[encoded data removed]",
            "text/plain": [
              "<Figure size 432x288 with 1 Axes>"
            ]
          },
          "metadata": {
            "tags": []
          }
        }
      ]
    },
    {
      "cell_type": "code",
      "metadata": {
        "id": "icAhlNgTH01t",
        "colab_type": "code",
        "colab": {
          "base_uri": "https://localhost:8080/",
          "height": 268
        },
        "outputId": "f3f27fb3-61c1-48dc-b8b2-4da710a1ee91"
      },
      "source": [
        "plt.hist(two_hundo, bins=[1,2,3,4,5,6,7,8,9,10]);"
      ],
      "execution_count": 126,
      "outputs": [
        {
          "output_type": "display_data",
          "data": {
            "image/png": "[encoded data removed]",
            "text/plain": [
              "<Figure size 432x288 with 1 Axes>"
            ]
          },
          "metadata": {
            "tags": []
          }
        }
      ]
    },
    {
      "cell_type": "code",
      "metadata": {
        "id": "L_XgBH45H3T2",
        "colab_type": "code",
        "colab": {
          "base_uri": "https://localhost:8080/",
          "height": 268
        },
        "outputId": "fe9c2c12-1bb2-4760-dbed-8757ead2c23d"
      },
      "source": [
        "plt.hist(three_hundo, bins=[1,2,3,4,5,6,7,8,9,10]);"
      ],
      "execution_count": 127,
      "outputs": [
        {
          "output_type": "display_data",
          "data": {
            "image/png": "[encoded data removed]",
            "text/plain": [
              "<Figure size 432x288 with 1 Axes>"
            ]
          },
          "metadata": {
            "tags": []
          }
        }
      ]
    },
    {
      "cell_type": "code",
      "metadata": {
        "id": "LFlD7n0QH8p2",
        "colab_type": "code",
        "colab": {
          "base_uri": "https://localhost:8080/",
          "height": 268
        },
        "outputId": "ccd4c73b-afd0-47bc-9234-97967fd13f9d"
      },
      "source": [
        "plt.hist(four_hundo, bins=[1,2,3,4,5,6,7,8,9,10]);"
      ],
      "execution_count": 128,
      "outputs": [
        {
          "output_type": "display_data",
          "data": {
            "image/png": "[encoded data removed]",
            "text/plain": [
              "<Figure size 432x288 with 1 Axes>"
            ]
          },
          "metadata": {
            "tags": []
          }
        }
      ]
    },
    {
      "cell_type": "code",
      "metadata": {
        "id": "EebPsrUXICK9",
        "colab_type": "code",
        "colab": {
          "base_uri": "https://localhost:8080/",
          "height": 268
        },
        "outputId": "e9da2e81-35e4-4a33-bbe0-5fc5d000d2ac"
      },
      "source": [
        "plt.hist(five_hundo, bins=[1,2,3,4,5,6,7,8,9,10]);"
      ],
      "execution_count": 129,
      "outputs": [
        {
          "output_type": "display_data",
          "data": {
            "image/png": "[encoded data removed]",
            "text/plain": [
              "<Figure size 432x288 with 1 Axes>"
            ]
          },
          "metadata": {
            "tags": []
          }
        }
      ]
    },
    {
      "cell_type": "code",
      "metadata": {
        "id": "xYVVWbs0IGTP",
        "colab_type": "code",
        "colab": {
          "base_uri": "https://localhost:8080/",
          "height": 268
        },
        "outputId": "42008078-434c-41db-df3e-516571bb253c"
      },
      "source": [
        "plt.hist(one_thou, bins=[1,2,3,4,5,6,7,8,9,10]);"
      ],
      "execution_count": 130,
      "outputs": [
        {
          "output_type": "display_data",
          "data": {
            "image/png": "[encoded data removed]",
            "text/plain": [
              "<Figure size 432x288 with 1 Axes>"
            ]
          },
          "metadata": {
            "tags": []
          }
        }
      ]
    },
    {
      "cell_type": "code",
      "metadata": {
        "id": "L7K1IOaFIMHH",
        "colab_type": "code",
        "colab": {
          "base_uri": "https://localhost:8080/",
          "height": 268
        },
        "outputId": "20358bb2-7b5c-4482-d607-8dd34a76dc62"
      },
      "source": [
        "plt.hist(five_thou, bins=[1,2,3,4,5,6,7,8,9,10]);"
      ],
      "execution_count": 131,
      "outputs": [
        {
          "output_type": "display_data",
          "data": {
            "image/png": "[encoded data removed]",
            "text/plain": [
              "<Figure size 432x288 with 1 Axes>"
            ]
          },
          "metadata": {
            "tags": []
          }
        }
      ]
    },
    {
      "cell_type": "code",
      "metadata": {
        "id": "wL_3tSHnISEb",
        "colab_type": "code",
        "colab": {
          "base_uri": "https://localhost:8080/",
          "height": 268
        },
        "outputId": "a64bfc41-bdc1-4b8a-ea3b-d19769b60f91"
      },
      "source": [
        "#frequentist method shows normal distribution\n",
        "plt.hist(ten_thou, bins=[1,2,3,4,5,6,7,8,9,10]);"
      ],
      "execution_count": 132,
      "outputs": [
        {
          "output_type": "display_data",
          "data": {
            "image/png": "[encoded data removed]",
            "text/plain": [
              "<Figure size 432x288 with 1 Axes>"
            ]
          },
          "metadata": {
            "tags": []
          }
        }
      ]
    },
    {
      "cell_type": "code",
      "metadata": {
        "id": "feI38W72Bc5J",
        "colab_type": "code",
        "colab": {
          "base_uri": "https://localhost:8080/",
          "height": 158
        },
        "outputId": "091c728c-f392-493b-f01b-ca1fbc0a0821"
      },
      "source": [
        "print(count_one_hundo) \n",
        "print(count_two_hundo)\n",
        "print(count_three_hundo) \n",
        "print(count_four_hundo) \n",
        "print(count_five_hundo) \n",
        "print(count_one_thou) \n",
        "print(count_five_thou) \n",
        "print(count_ten_thou) "
      ],
      "execution_count": 107,
      "outputs": [
        {
          "output_type": "stream",
          "text": [
            "Counter({4: 23, 5: 21, 6: 19, 3: 16, 7: 9, 8: 6, 2: 5, 1: 1})\n",
            "Counter({4: 47, 6: 45, 5: 38, 7: 29, 3: 20, 2: 10, 8: 7, 1: 3, 9: 1})\n",
            "Counter({5: 73, 6: 60, 4: 47, 3: 42, 7: 33, 8: 22, 2: 19, 9: 3, 10: 1})\n",
            "Counter({5: 106, 4: 90, 6: 70, 3: 56, 7: 45, 2: 19, 8: 11, 9: 2, 1: 1})\n",
            "Counter({6: 113, 5: 110, 4: 91, 7: 67, 3: 57, 8: 26, 2: 26, 9: 5, 1: 4, 10: 1})\n",
            "Counter({5: 262, 6: 208, 4: 191, 3: 129, 7: 106, 8: 43, 2: 41, 9: 12, 1: 8})\n",
            "Counter({5: 1238, 4: 1051, 6: 1006, 3: 604, 7: 555, 8: 229, 2: 217, 1: 45, 9: 42, 0: 9, 10: 4})\n",
            "Counter({5: 2523, 4: 2055, 6: 1992, 7: 1207, 3: 1126, 2: 461, 8: 416, 1: 100, 9: 99, 0: 14, 10: 7})\n"
          ],
          "name": "stdout"
        }
      ]
    },
    {
      "cell_type": "code",
      "metadata": {
        "id": "04IjNoFFCaIT",
        "colab_type": "code",
        "colab": {
          "base_uri": "https://localhost:8080/",
          "height": 287
        },
        "outputId": "4b688469-0c96-4513-c51e-a66b555894a6"
      },
      "source": [
        "#turning array into data frame to try it out\n",
        "df = pd.DataFrame.from_dict(count_one_hundo, orient='index').reset_index()\n",
        "df = df.rename(columns={'index':'Number of Heads', 0:'Count'}).sort_values(by=['Number of Heads'])\n",
        "df"
      ],
      "execution_count": 168,
      "outputs": [
        {
          "output_type": "execute_result",
          "data": {
            "text/html": [
              "<div>\n",
              "<style scoped>\n",
              "    .dataframe tbody tr th:only-of-type {\n",
              "        vertical-align: middle;\n",
              "    }\n",
              "\n",
              "    .dataframe tbody tr th {\n",
              "        vertical-align: top;\n",
              "    }\n",
              "\n",
              "    .dataframe thead th {\n",
              "        text-align: right;\n",
              "    }\n",
              "</style>\n",
              "<table border=\"1\" class=\"dataframe\">\n",
              "  <thead>\n",
              "    <tr style=\"text-align: right;\">\n",
              "      <th></th>\n",
              "      <th>Number of Heads</th>\n",
              "      <th>Count</th>\n",
              "    </tr>\n",
              "  </thead>\n",
              "  <tbody>\n",
              "    <tr>\n",
              "      <th>7</th>\n",
              "      <td>1</td>\n",
              "      <td>1</td>\n",
              "    </tr>\n",
              "    <tr>\n",
              "      <th>6</th>\n",
              "      <td>2</td>\n",
              "      <td>5</td>\n",
              "    </tr>\n",
              "    <tr>\n",
              "      <th>4</th>\n",
              "      <td>3</td>\n",
              "      <td>16</td>\n",
              "    </tr>\n",
              "    <tr>\n",
              "      <th>0</th>\n",
              "      <td>4</td>\n",
              "      <td>23</td>\n",
              "    </tr>\n",
              "    <tr>\n",
              "      <th>3</th>\n",
              "      <td>5</td>\n",
              "      <td>21</td>\n",
              "    </tr>\n",
              "    <tr>\n",
              "      <th>2</th>\n",
              "      <td>6</td>\n",
              "      <td>19</td>\n",
              "    </tr>\n",
              "    <tr>\n",
              "      <th>5</th>\n",
              "      <td>7</td>\n",
              "      <td>9</td>\n",
              "    </tr>\n",
              "    <tr>\n",
              "      <th>1</th>\n",
              "      <td>8</td>\n",
              "      <td>6</td>\n",
              "    </tr>\n",
              "  </tbody>\n",
              "</table>\n",
              "</div>"
            ],
            "text/plain": [
              "   Number of Heads  Count\n",
              "7                1      1\n",
              "6                2      5\n",
              "4                3     16\n",
              "0                4     23\n",
              "3                5     21\n",
              "2                6     19\n",
              "5                7      9\n",
              "1                8      6"
            ]
          },
          "metadata": {
            "tags": []
          },
          "execution_count": 168
        }
      ]
    },
    {
      "cell_type": "code",
      "metadata": {
        "id": "Cjcf3GSDtLhi",
        "colab_type": "code",
        "colab": {}
      },
      "source": [
        "#normalized, the percent chance of flipping heads X number of times out of 100 flips\n",
        "probs_100 = [np.equal(one_hundo,i).mean() for i in range(n)]\n",
        "probs_200 = [np.equal(two_hundo,i).mean() for i in range(n)]\n",
        "probs_300 = [np.equal(three_hundo,i).mean() for i in range(n)]\n",
        "probs_400 = [np.equal(four_hundo,i).mean() for i in range(n)]\n",
        "probs_500 = [np.equal(five_hundo,i).mean() for i in range(n)]\n",
        "probs_1000 = [np.equal(one_thou,i).mean() for i in range(n)]\n",
        "probs_5000 = [np.equal(five_thou,i).mean() for i in range(n)]\n",
        "probs_10000 = [np.equal(ten_thou,i).mean() for i in range(n)]"
      ],
      "execution_count": 0,
      "outputs": []
    },
    {
      "cell_type": "code",
      "metadata": {
        "id": "WJ4sT63bLFSD",
        "colab_type": "code",
        "colab": {
          "base_uri": "https://localhost:8080/",
          "height": 286
        },
        "outputId": "4a79ff57-2d9f-4448-a6b6-4016afb89ddd"
      },
      "source": [
        "plt.xticks(range(n));\n",
        "plt.plot(list(range(n)), probs_100, color='blue');\n",
        "plt.xlabel('Number of Heads',fontsize=14);\n",
        "plt.ylabel('Probability',fontsize=14);"
      ],
      "execution_count": 166,
      "outputs": [
        {
          "output_type": "display_data",
          "data": {
            "image/png": "[encoded data removed]",
            "text/plain": [
              "<Figure size 432x288 with 1 Axes>"
            ]
          },
          "metadata": {
            "tags": []
          }
        }
      ]
    },
    {
      "cell_type": "code",
      "metadata": {
        "id": "Pfcxn-07LaRo",
        "colab_type": "code",
        "colab": {
          "base_uri": "https://localhost:8080/",
          "height": 286
        },
        "outputId": "d55d034b-bacc-4311-8eb5-6499a1c1e12f"
      },
      "source": [
        "plt.xticks(range(n));\n",
        "plt.plot(list(range(n)), probs_200, color='blue');\n",
        "plt.xlabel('Number of Heads',fontsize=14);\n",
        "plt.ylabel('Probability',fontsize=14);"
      ],
      "execution_count": 165,
      "outputs": [
        {
          "output_type": "display_data",
          "data": {
            "image/png": "[encoded data removed]",
            "text/plain": [
              "<Figure size 432x288 with 1 Axes>"
            ]
          },
          "metadata": {
            "tags": []
          }
        }
      ]
    },
    {
      "cell_type": "code",
      "metadata": {
        "id": "bvzu6L_GL7Uu",
        "colab_type": "code",
        "colab": {
          "base_uri": "https://localhost:8080/",
          "height": 286
        },
        "outputId": "e1a9c7ef-4dd5-445b-efbe-0b1951482f7c"
      },
      "source": [
        "plt.xticks(range(n));\n",
        "plt.plot(list(range(n)), probs_300, color='blue');\n",
        "plt.xlabel('Number of Heads',fontsize=14);\n",
        "plt.ylabel('Probability',fontsize=14);"
      ],
      "execution_count": 164,
      "outputs": [
        {
          "output_type": "display_data",
          "data": {
            "image/png": "[encoded data removed]",
            "text/plain": [
              "<Figure size 432x288 with 1 Axes>"
            ]
          },
          "metadata": {
            "tags": []
          }
        }
      ]
    },
    {
      "cell_type": "code",
      "metadata": {
        "id": "XVDGvvcdL76v",
        "colab_type": "code",
        "colab": {
          "base_uri": "https://localhost:8080/",
          "height": 286
        },
        "outputId": "06778d3a-a5b0-452e-89d9-24bf3a50a0a8"
      },
      "source": [
        "plt.xticks(range(n));\n",
        "plt.plot(list(range(n)), probs_400, color='blue');\n",
        "plt.xlabel('Number of Heads',fontsize=14);\n",
        "plt.ylabel('Probability',fontsize=14);"
      ],
      "execution_count": 163,
      "outputs": [
        {
          "output_type": "display_data",
          "data": {
            "image/png": "[encoded data removed]",
            "text/plain": [
              "<Figure size 432x288 with 1 Axes>"
            ]
          },
          "metadata": {
            "tags": []
          }
        }
      ]
    },
    {
      "cell_type": "code",
      "metadata": {
        "id": "Bkm3pC_bL_uy",
        "colab_type": "code",
        "colab": {
          "base_uri": "https://localhost:8080/",
          "height": 286
        },
        "outputId": "90d730c1-479a-4489-a47a-ac298dc98bf7"
      },
      "source": [
        "plt.xticks(range(n));\n",
        "plt.plot(list(range(n)), probs_500, color='blue');\n",
        "plt.xlabel('Number of Heads',fontsize=14);\n",
        "plt.ylabel('Probability',fontsize=14);"
      ],
      "execution_count": 162,
      "outputs": [
        {
          "output_type": "display_data",
          "data": {
            "image/png": "[encoded data removed]",
            "text/plain": [
              "<Figure size 432x288 with 1 Axes>"
            ]
          },
          "metadata": {
            "tags": []
          }
        }
      ]
    },
    {
      "cell_type": "code",
      "metadata": {
        "id": "7OTBCaA1MBQB",
        "colab_type": "code",
        "colab": {
          "base_uri": "https://localhost:8080/",
          "height": 286
        },
        "outputId": "b145e400-0e17-4ac1-b96c-aa3ad5ae3471"
      },
      "source": [
        "plt.xticks(range(n));\n",
        "plt.plot(list(range(n)), probs_1000, color='blue');\n",
        "plt.xlabel('Number of Heads',fontsize=14);\n",
        "plt.ylabel('Probability',fontsize=14);"
      ],
      "execution_count": 161,
      "outputs": [
        {
          "output_type": "display_data",
          "data": {
            "image/png": "[encoded data removed]",
            "text/plain": [
              "<Figure size 432x288 with 1 Axes>"
            ]
          },
          "metadata": {
            "tags": []
          }
        }
      ]
    },
    {
      "cell_type": "code",
      "metadata": {
        "id": "UzO33DDhMDOH",
        "colab_type": "code",
        "colab": {
          "base_uri": "https://localhost:8080/",
          "height": 286
        },
        "outputId": "dd135b16-8f7f-4537-f532-6d45d8249de9"
      },
      "source": [
        "plt.xticks(range(n));\n",
        "plt.plot(list(range(n)), probs_5000, color='blue');\n",
        "plt.xlabel('Number of Heads',fontsize=14);\n",
        "plt.ylabel('Probability',fontsize=14);"
      ],
      "execution_count": 160,
      "outputs": [
        {
          "output_type": "display_data",
          "data": {
            "image/png": "[encoded data removed]",
            "text/plain": [
              "<Figure size 432x288 with 1 Axes>"
            ]
          },
          "metadata": {
            "tags": []
          }
        }
      ]
    },
    {
      "cell_type": "code",
      "metadata": {
        "id": "O_Kqy7R8ME_e",
        "colab_type": "code",
        "colab": {
          "base_uri": "https://localhost:8080/",
          "height": 286
        },
        "outputId": "1b735219-8494-47f8-d27e-2b69804dad21"
      },
      "source": [
        "#plt.xticks(range(n));\n",
        "plt.plot(list(range(n)), probs_10000, color='blue');\n",
        "plt.xlabel('Number of Heads',fontsize=14);\n",
        "plt.ylabel('Probability',fontsize=14);"
      ],
      "execution_count": 159,
      "outputs": [
        {
          "output_type": "display_data",
          "data": {
            "image/png": "[encoded data removed]",
            "text/plain": [
              "<Figure size 432x288 with 1 Axes>"
            ]
          },
          "metadata": {
            "tags": []
          }
        }
      ]
    },
    {
      "cell_type": "code",
      "metadata": {
        "id": "S2uZI3Igrudj",
        "colab_type": "code",
        "outputId": "a9975b4f-9eaa-43a3-e1ba-c34077201a15",
        "colab": {
          "base_uri": "https://localhost:8080/",
          "height": 70
        }
      },
      "source": [
        "stats.bayes_mvs(cointoss, alpha=0.9)"
      ],
      "execution_count": 157,
      "outputs": [
        {
          "output_type": "execute_result",
          "data": {
            "text/plain": [
              "(Mean(statistic=4.939, minmax=(4.856816578818341, 5.021183421181659)),\n",
              " Variance(statistic=2.496769307923771, minmax=(2.3185358726907292, 2.686375232112172)),\n",
              " Std_dev(statistic=1.579720697142081, minmax=(1.5226739219841945, 1.63901654418501)))"
            ]
          },
          "metadata": {
            "tags": []
          },
          "execution_count": 157
        }
      ]
    },
    {
      "cell_type": "code",
      "metadata": {
        "id": "cTdaVVkIr1ZY",
        "colab_type": "code",
        "outputId": "40ffd329-4ebe-4541-d385-220e2c17a36c",
        "colab": {
          "base_uri": "https://localhost:8080/",
          "height": 286
        }
      },
      "source": [
        "plt.xticks(range(n));\n",
        "plt.plot(list(range(n)), probs_500, color='blue');\n",
        "plt.xlabel('Number of Heads',fontsize=14);\n",
        "plt.ylabel('Probability',fontsize=14);"
      ],
      "execution_count": 158,
      "outputs": [
        {
          "output_type": "display_data",
          "data": {
            "image/png": "[encoded data removed]",
            "text/plain": [
              "<Figure size 432x288 with 1 Axes>"
            ]
          },
          "metadata": {
            "tags": []
          }
        }
      ]
    },
    {
      "cell_type": "code",
      "metadata": {
        "id": "CmSGSfy2KlrB",
        "colab_type": "code",
        "colab": {
          "base_uri": "https://localhost:8080/",
          "height": 34
        },
        "outputId": "96de81a8-8ef6-459c-9c88-ad4b9b2e1b15"
      },
      "source": [
        "coins(10,0.5,2)"
      ],
      "execution_count": 136,
      "outputs": [
        {
          "output_type": "execute_result",
          "data": {
            "text/plain": [
              "array([4, 4])"
            ]
          },
          "metadata": {
            "tags": []
          },
          "execution_count": 136
        }
      ]
    },
    {
      "cell_type": "markdown",
      "metadata": {
        "id": "rMIji4jMmfm4",
        "colab_type": "text"
      },
      "source": [
        "##Bayesian Approach\n",
        "\n"
      ]
    },
    {
      "cell_type": "code",
      "metadata": {
        "id": "TIFBtIy42tAf",
        "colab_type": "code",
        "colab": {
          "base_uri": "https://localhost:8080/",
          "height": 123
        },
        "outputId": "ff3469a6-1913-4460-ab1b-3f82783c31ee"
      },
      "source": [
        "#paul kutrich\n",
        "def bayes(bga, a, b):\n",
        "  num = bga * a\n",
        "  not_a = 1 - a\n",
        "  denom = num + b * not_a\n",
        "\n",
        "  return num / denom\n",
        "\n",
        "def repeat_bayes(bga, a, b, reps):\n",
        "  for _ in range(reps):\n",
        "    a = bayes(bga, a, b)\n",
        "    print(a)\n",
        "\n",
        "pos_g_drunk = .99\n",
        "drunk = 0.001\n",
        "pos = .01\n",
        "\n",
        "repeat_bayes(pos_g_drunk, drunk, pos, 6)"
      ],
      "execution_count": 155,
      "outputs": [
        {
          "output_type": "stream",
          "text": [
            "0.09016393442622951\n",
            "0.9075000000000001\n",
            "0.9989714794017902\n",
            "0.9999896003148012\n",
            "0.9999998949515932\n",
            "0.9999999989389049\n"
          ],
          "name": "stdout"
        }
      ]
    },
    {
      "cell_type": "code",
      "metadata": {
        "id": "I17F109_6Oyh",
        "colab_type": "code",
        "colab": {
          "base_uri": "https://localhost:8080/",
          "height": 283
        },
        "outputId": "eaa42cff-be99-4e2a-8902-068b6873ed28"
      },
      "source": [
        "#alex kims\n",
        "def bayes_theorem(prior, false_neg, false_pos, num_iter):\n",
        "  posterior_list = []\n",
        "  posterior = prior\n",
        "  for i in range(num_iter):\n",
        "    posterior = (1-false_neg)*posterior/((1-false_neg)*posterior + false_pos*(1-posterior))\n",
        "    posterior_list.append(posterior)\n",
        "  return posterior_list\n",
        "\n",
        "bayes_theorem(0.005, 0.01, 0.01, 15)"
      ],
      "execution_count": 156,
      "outputs": [
        {
          "output_type": "execute_result",
          "data": {
            "text/plain": [
              "[0.33221476510067116,\n",
              " 0.9801000000000001,\n",
              " 0.9997949506335922,\n",
              " 0.9999979283737839,\n",
              " 0.9999999790744397,\n",
              " 0.9999999997886307,\n",
              " 0.999999999997865,\n",
              " 0.9999999999999785,\n",
              " 0.9999999999999998,\n",
              " 1.0,\n",
              " 1.0,\n",
              " 1.0,\n",
              " 1.0,\n",
              " 1.0,\n",
              " 1.0]"
            ]
          },
          "metadata": {
            "tags": []
          },
          "execution_count": 156
        }
      ]
    },
    {
      "cell_type": "markdown",
      "metadata": {
        "id": "uWgWjp3PQ3Sq",
        "colab_type": "text"
      },
      "source": [
        "## Resources"
      ]
    },
    {
      "cell_type": "markdown",
      "metadata": {
        "id": "QRgHqmYIQ9qn",
        "colab_type": "text"
      },
      "source": [
        "- [Worked example of Bayes rule calculation](https://en.wikipedia.org/wiki/Bayes'_theorem#Examples) (helpful as it fully breaks out the denominator)\n",
        "- [Source code for mvsdist in scipy](https://github.com/scipy/scipy/blob/90534919e139d2a81c24bf08341734ff41a3db12/scipy/stats/morestats.py#L139)"
      ]
    }
  ]
}